{
 "cells": [
  {
   "cell_type": "markdown",
   "id": "259f8233",
   "metadata": {},
   "source": [
    "# Explicación Práctica Python 2023\n",
    "\n",
    "* Manejo de tiempo: Datetime, Timestamp\n",
    "* Pillow  Image: obtener resolución, size en bytes, mimetype\n",
    "* Archivos CSV\n",
    "* Pysimplegui: \n",
    "    * cargar imagenes en botones, .png o .gif, ruta directa,\n",
    "    * Compartir información entre ventanas\n",
    "    * estructura "
   ]
  },
  {
   "cell_type": "markdown",
   "id": "69e5d310",
   "metadata": {},
   "source": [
    "# **ACLARACION**\n",
    "* La carpeta ''datos_ventanas'' contiene el código de manejo de datos entre ventanas a modo de ejemplo\n",
    "* La carpeta ''grupo_prueba'' tiene ejemplo de una estructura de carpetas recomendado y varias formas de acceder a los módulos, paths y variables \"constantes\", para comprender el sentido de las diferentes opciones acceder al video de la explicación del día 26/4\n",
    "* Los archvios utilizados en esta explicación están subidos en el archivo comprimido "
   ]
  },
  {
   "cell_type": "markdown",
   "id": "7135cf98",
   "metadata": {},
   "source": [
    "## Manejo del tiempo\n",
    "* ¿Qué es Timestamp?\n",
    "* ¿Para qué sirve?\n",
    "* Módulo Datetime"
   ]
  },
  {
   "cell_type": "markdown",
   "id": "3f72c6dd",
   "metadata": {},
   "source": [
    "**Timestamp** (marca de tiempo): es una etiqueta que se utiliza para indicar la fecha y hora específicas en que se creó, modificó o accedió a un archivo o dato en un sistema informático.\n",
    "\n",
    "Representa la cantidad de segundos o milisegundos transcurridos desde una fecha y hora de referencia, generalmente la medianoche del 1 de enero de 1970 en el tiempo UTC (Coordinated Universal Time). "
   ]
  },
  {
   "cell_type": "code",
   "execution_count": 2,
   "id": "d0340f32",
   "metadata": {},
   "outputs": [],
   "source": [
    "from datetime import datetime\n"
   ]
  },
  {
   "cell_type": "code",
   "execution_count": 17,
   "id": "a78daf56",
   "metadata": {},
   "outputs": [],
   "source": [
    "timestamp = datetime.timestamp(datetime.now())"
   ]
  },
  {
   "cell_type": "code",
   "execution_count": 18,
   "id": "32dffad8",
   "metadata": {},
   "outputs": [
    {
     "data": {
      "text/plain": [
       "1682731112.207864"
      ]
     },
     "execution_count": 18,
     "metadata": {},
     "output_type": "execute_result"
    }
   ],
   "source": [
    "timestamp"
   ]
  },
  {
   "cell_type": "markdown",
   "id": "466ed7da",
   "metadata": {},
   "source": [
    "* Convertir el número timestamps entero en fecha y luego darle formato con string a través de patrones"
   ]
  },
  {
   "cell_type": "code",
   "execution_count": 19,
   "id": "1ae98424",
   "metadata": {},
   "outputs": [],
   "source": [
    "fecha_hora = datetime.fromtimestamp(timestamp)"
   ]
  },
  {
   "cell_type": "code",
   "execution_count": 20,
   "id": "f01a090d",
   "metadata": {},
   "outputs": [
    {
     "name": "stdout",
     "output_type": "stream",
     "text": [
      "La fecha y hora correspondientes al timestamp 1682731112.207864 son: 2023-04-28 22:18:32.207864\n"
     ]
    }
   ],
   "source": [
    "print(\"La fecha y hora correspondientes al timestamp\", timestamp, \"son:\", fecha_hora)\n",
    "\n"
   ]
  },
  {
   "cell_type": "markdown",
   "id": "5e6403db",
   "metadata": {},
   "source": []
  },
  {
   "cell_type": "code",
   "execution_count": 21,
   "id": "c263fbd9",
   "metadata": {},
   "outputs": [
    {
     "data": {
      "text/plain": [
       "datetime.datetime"
      ]
     },
     "execution_count": 21,
     "metadata": {},
     "output_type": "execute_result"
    }
   ],
   "source": [
    "type(fecha_hora)"
   ]
  },
  {
   "cell_type": "markdown",
   "id": "92ab0d0c",
   "metadata": {},
   "source": [
    "* Darle formato al objeto datetime"
   ]
  },
  {
   "cell_type": "code",
   "execution_count": 23,
   "id": "c9610855",
   "metadata": {},
   "outputs": [
    {
     "data": {
      "text/plain": [
       "'04/28/2023, 22:18:32'"
      ]
     },
     "execution_count": 23,
     "metadata": {},
     "output_type": "execute_result"
    }
   ],
   "source": [
    "fecha_hora.strftime(\"%m/%d/%Y, %H:%M:%S\")"
   ]
  },
  {
   "cell_type": "code",
   "execution_count": 25,
   "id": "9021e9af",
   "metadata": {},
   "outputs": [
    {
     "data": {
      "text/plain": [
       "'Friday 28/04/23, 22:18:32'"
      ]
     },
     "execution_count": 25,
     "metadata": {},
     "output_type": "execute_result"
    }
   ],
   "source": [
    "fecha_hora.strftime(\"%A %d/%m/%y, %H:%M:%S\")"
   ]
  },
  {
   "cell_type": "markdown",
   "id": "bcb9af30",
   "metadata": {},
   "source": [
    "* Obtener en número el día de la semana"
   ]
  },
  {
   "cell_type": "code",
   "execution_count": 26,
   "id": "8c282055",
   "metadata": {},
   "outputs": [
    {
     "data": {
      "text/plain": [
       "4"
      ]
     },
     "execution_count": 26,
     "metadata": {},
     "output_type": "execute_result"
    }
   ],
   "source": [
    "fecha_hora.weekday()"
   ]
  },
  {
   "cell_type": "markdown",
   "id": "8f4e705d",
   "metadata": {},
   "source": [
    "* Obtener la hora"
   ]
  },
  {
   "cell_type": "code",
   "execution_count": 27,
   "id": "ad531127",
   "metadata": {},
   "outputs": [
    {
     "data": {
      "text/plain": [
       "22"
      ]
     },
     "execution_count": 27,
     "metadata": {},
     "output_type": "execute_result"
    }
   ],
   "source": [
    "fecha_hora.hour"
   ]
  },
  {
   "cell_type": "markdown",
   "id": "d87d494b",
   "metadata": {},
   "source": [
    "* Convertir un string con un formato dado en un objeto específico"
   ]
  },
  {
   "cell_type": "code",
   "execution_count": 28,
   "id": "8f3cf89a",
   "metadata": {},
   "outputs": [
    {
     "name": "stdout",
     "output_type": "stream",
     "text": [
      "Fecha y hora como objeto datetime: 10/05/22, 15:30:00\n"
     ]
    }
   ],
   "source": [
    "fecha_str = \"2022-05-10 15:30:00\"\n",
    "fecha_dt = datetime.strptime(fecha_str, \"%Y-%m-%d %H:%M:%S\")\n",
    "print(\"Fecha y hora como objeto datetime:\", fecha_dt.strftime(\"%d/%m/%y, %H:%M:%S\"))\n"
   ]
  },
  {
   "cell_type": "markdown",
   "id": "4705f73f",
   "metadata": {},
   "source": [
    "* Realizar cálculos con las fechas"
   ]
  },
  {
   "cell_type": "code",
   "execution_count": 29,
   "id": "8b92a750",
   "metadata": {},
   "outputs": [
    {
     "name": "stdout",
     "output_type": "stream",
     "text": [
      "Fecha menos un día: 17/06/23, 15:30:00\n",
      "Fecha más una hora: 18/06/23, 16:30:00\n",
      "Fecha más un minuto: 18/06/23, 15:31:00\n"
     ]
    }
   ],
   "source": [
    "import datetime \n",
    "fecha = datetime.datetime(2023, 6, 18, 15, 30, 0)\n",
    "un_dia = datetime.timedelta(days=1)\n",
    "una_hora = datetime.timedelta(hours=1)\n",
    "una_minuto = datetime.timedelta(minutes=1)\n",
    "\n",
    "# Restar un día\n",
    "fecha_menos_un_dia = fecha - un_dia\n",
    "print(\"Fecha menos un día:\", fecha_menos_un_dia.strftime(\"%d/%m/%y, %H:%M:%S\"))\n",
    "\n",
    "# Sumar una hora\n",
    "fecha_mas_una_hora = fecha + una_hora\n",
    "print(\"Fecha más una hora:\", fecha_mas_una_hora.strftime(\"%d/%m/%y, %H:%M:%S\"))\n",
    "\n",
    "# Sumar un minuto\n",
    "fecha_mas_un_minuto = fecha + una_minuto\n",
    "print(\"Fecha más un minuto:\", fecha_mas_un_minuto.strftime(\"%d/%m/%y, %H:%M:%S\"))\n"
   ]
  },
  {
   "cell_type": "code",
   "execution_count": 103,
   "id": "dc79779c",
   "metadata": {},
   "outputs": [
    {
     "name": "stdout",
     "output_type": "stream",
     "text": [
      "Número de la semana: 19\n"
     ]
    }
   ],
   "source": [
    "fecha = datetime.datetime(2022, 5, 10, 15, 30, 0)\n",
    "num_semana = fecha.isocalendar()[1]\n",
    "print(\"Número de la semana:\", num_semana)\n"
   ]
  },
  {
   "cell_type": "markdown",
   "id": "654f2563",
   "metadata": {},
   "source": [
    "## Información de las imagenes"
   ]
  },
  {
   "cell_type": "code",
   "execution_count": 31,
   "id": "16e4772f",
   "metadata": {},
   "outputs": [],
   "source": [
    "import os\n",
    "directorio_imagenes = 'imagenes'\n",
    "extension_incluidas = ['jpg','jpeg', 'bmp', 'png', 'gif']\n",
    "nombres_archivos = [fn for fn in os.listdir(directorio_imagenes)\n",
    "              if any(fn.endswith(ext) for ext in extension_incluidas)]"
   ]
  },
  {
   "cell_type": "code",
   "execution_count": 105,
   "id": "8dfda18a",
   "metadata": {},
   "outputs": [
    {
     "data": {
      "text/plain": [
       "['mesa.png']"
      ]
     },
     "execution_count": 105,
     "metadata": {},
     "output_type": "execute_result"
    }
   ],
   "source": [
    "nombres_archivos"
   ]
  },
  {
   "cell_type": "markdown",
   "id": "c0ebd7ef",
   "metadata": {},
   "source": [
    "* Conocer el tamaño de una imagen"
   ]
  },
  {
   "cell_type": "code",
   "execution_count": 106,
   "id": "f284dabb",
   "metadata": {},
   "outputs": [
    {
     "data": {
      "text/plain": [
       "3147977"
      ]
     },
     "execution_count": 106,
     "metadata": {},
     "output_type": "execute_result"
    }
   ],
   "source": [
    "tamano_bytes = os.path.getsize(os.path.join(directorio_imagenes,nombres_archivos[0]))\n",
    "tamano_bytes"
   ]
  },
  {
   "cell_type": "code",
   "execution_count": 107,
   "id": "7d4a51ca",
   "metadata": {},
   "outputs": [
    {
     "data": {
      "text/plain": [
       "3.0"
      ]
     },
     "execution_count": 107,
     "metadata": {},
     "output_type": "execute_result"
    }
   ],
   "source": [
    "round(tamano_bytes/1024/1024,2)"
   ]
  },
  {
   "cell_type": "markdown",
   "id": "c85c5659",
   "metadata": {},
   "source": [
    "* Módulo [Pillow](https://pillow.readthedocs.io/en/latest/reference/Image.html#PIL.Image.Image.format) para conocer información de una imagen"
   ]
  },
  {
   "cell_type": "code",
   "execution_count": 108,
   "id": "b00dd47b",
   "metadata": {},
   "outputs": [],
   "source": [
    "from PIL import Image"
   ]
  },
  {
   "cell_type": "code",
   "execution_count": 109,
   "id": "6261633a",
   "metadata": {},
   "outputs": [],
   "source": [
    "imagen = Image.open(os.path.join(directorio_imagenes,nombres_archivos[0]))"
   ]
  },
  {
   "cell_type": "code",
   "execution_count": 110,
   "id": "294a3c20",
   "metadata": {},
   "outputs": [
    {
     "data": {
      "text/plain": [
       "PIL.PngImagePlugin.PngImageFile"
      ]
     },
     "execution_count": 110,
     "metadata": {},
     "output_type": "execute_result"
    }
   ],
   "source": [
    "type(imagen)"
   ]
  },
  {
   "cell_type": "code",
   "execution_count": 111,
   "id": "a84fcfd7",
   "metadata": {},
   "outputs": [
    {
     "name": "stdout",
     "output_type": "stream",
     "text": [
      "resolucion (1024, 1024)\n"
     ]
    }
   ],
   "source": [
    "print(f'resolucion {imagen.size}')"
   ]
  },
  {
   "cell_type": "code",
   "execution_count": 112,
   "id": "a83854c1",
   "metadata": {},
   "outputs": [
    {
     "name": "stdout",
     "output_type": "stream",
     "text": [
      "mimetype PNG\n"
     ]
    }
   ],
   "source": [
    "print(f'mimetype {imagen.format}')\n"
   ]
  },
  {
   "cell_type": "markdown",
   "id": "611d251e",
   "metadata": {},
   "source": [
    "## Manejo de archivos CSV\n",
    "\n",
    "**Objetivo**: Modificar una línea del archivo csv"
   ]
  },
  {
   "cell_type": "markdown",
   "id": "8f57a183",
   "metadata": {},
   "source": [
    "Datos de mi archivo"
   ]
  },
  {
   "cell_type": "markdown",
   "id": "96546830",
   "metadata": {},
   "source": [
    "* ruta relativa a la imagen*\n",
    "* texto descriptivo\n",
    "* resolución* (alto y ancho)\n",
    "* tamaño*\n",
    "* tipo* (mimetype)\n",
    "* lista de tags\n",
    "* último perfil que actualizó\n",
    "* fecha de última actualización"
   ]
  },
  {
   "cell_type": "markdown",
   "id": "180fbaaa",
   "metadata": {},
   "source": [
    "1. Abrir el archivo CSV en modo lectura y escritura:\n",
    "2. Leer el archivo y almacenar su contenido en una variable:"
   ]
  },
  {
   "cell_type": "markdown",
   "id": "1f990ef0",
   "metadata": {},
   "source": [
    "### Posibles errores: \n",
    "* ¿qué podemos mejorar en este código?\n",
    "* ¿cuáles son los cuidados que debo tener al trabajar con archivos?"
   ]
  },
  {
   "cell_type": "code",
   "execution_count": 39,
   "id": "6703f4bc",
   "metadata": {},
   "outputs": [
    {
     "ename": "FileNotFoundError",
     "evalue": "[Errno 2] No such file or directory: 'imagenes/archivo.csv'",
     "output_type": "error",
     "traceback": [
      "\u001b[0;31m---------------------------------------------------------------------------\u001b[0m",
      "\u001b[0;31mFileNotFoundError\u001b[0m                         Traceback (most recent call last)",
      "Cell \u001b[0;32mIn[39], line 4\u001b[0m\n\u001b[1;32m      1\u001b[0m \u001b[38;5;28;01mimport\u001b[39;00m \u001b[38;5;21;01mos\u001b[39;00m\n\u001b[1;32m      2\u001b[0m \u001b[38;5;28;01mimport\u001b[39;00m \u001b[38;5;21;01mcsv\u001b[39;00m\n\u001b[0;32m----> 4\u001b[0m archivo_csv\u001b[38;5;241m=\u001b[39m \u001b[38;5;28;43mopen\u001b[39;49m\u001b[43m(\u001b[49m\u001b[43mos\u001b[49m\u001b[38;5;241;43m.\u001b[39;49m\u001b[43mpath\u001b[49m\u001b[38;5;241;43m.\u001b[39;49m\u001b[43mjoin\u001b[49m\u001b[43m(\u001b[49m\u001b[43mdirectorio_imagenes\u001b[49m\u001b[43m,\u001b[49m\u001b[38;5;124;43m'\u001b[39;49m\u001b[38;5;124;43marchivo.csv\u001b[39;49m\u001b[38;5;124;43m'\u001b[39;49m\u001b[43m)\u001b[49m\u001b[43m,\u001b[49m\u001b[43m \u001b[49m\u001b[38;5;124;43m'\u001b[39;49m\u001b[38;5;124;43mr+\u001b[39;49m\u001b[38;5;124;43m'\u001b[39;49m\u001b[43m)\u001b[49m \n\u001b[1;32m      5\u001b[0m lector_csv \u001b[38;5;241m=\u001b[39m csv\u001b[38;5;241m.\u001b[39mreader(archivo_csv)\n\u001b[1;32m      6\u001b[0m contenido_csv \u001b[38;5;241m=\u001b[39m \u001b[38;5;28mlist\u001b[39m(lector_csv)\n",
      "File \u001b[0;32m~/gitlab/Python/python2023/env/lib/python3.11/site-packages/IPython/core/interactiveshell.py:282\u001b[0m, in \u001b[0;36m_modified_open\u001b[0;34m(file, *args, **kwargs)\u001b[0m\n\u001b[1;32m    275\u001b[0m \u001b[38;5;28;01mif\u001b[39;00m file \u001b[38;5;129;01min\u001b[39;00m {\u001b[38;5;241m0\u001b[39m, \u001b[38;5;241m1\u001b[39m, \u001b[38;5;241m2\u001b[39m}:\n\u001b[1;32m    276\u001b[0m     \u001b[38;5;28;01mraise\u001b[39;00m \u001b[38;5;167;01mValueError\u001b[39;00m(\n\u001b[1;32m    277\u001b[0m         \u001b[38;5;124mf\u001b[39m\u001b[38;5;124m\"\u001b[39m\u001b[38;5;124mIPython won\u001b[39m\u001b[38;5;124m'\u001b[39m\u001b[38;5;124mt let you open fd=\u001b[39m\u001b[38;5;132;01m{\u001b[39;00mfile\u001b[38;5;132;01m}\u001b[39;00m\u001b[38;5;124m by default \u001b[39m\u001b[38;5;124m\"\u001b[39m\n\u001b[1;32m    278\u001b[0m         \u001b[38;5;124m\"\u001b[39m\u001b[38;5;124mas it is likely to crash IPython. If you know what you are doing, \u001b[39m\u001b[38;5;124m\"\u001b[39m\n\u001b[1;32m    279\u001b[0m         \u001b[38;5;124m\"\u001b[39m\u001b[38;5;124myou can use builtins\u001b[39m\u001b[38;5;124m'\u001b[39m\u001b[38;5;124m open.\u001b[39m\u001b[38;5;124m\"\u001b[39m\n\u001b[1;32m    280\u001b[0m     )\n\u001b[0;32m--> 282\u001b[0m \u001b[38;5;28;01mreturn\u001b[39;00m \u001b[43mio_open\u001b[49m\u001b[43m(\u001b[49m\u001b[43mfile\u001b[49m\u001b[43m,\u001b[49m\u001b[43m \u001b[49m\u001b[38;5;241;43m*\u001b[39;49m\u001b[43margs\u001b[49m\u001b[43m,\u001b[49m\u001b[43m \u001b[49m\u001b[38;5;241;43m*\u001b[39;49m\u001b[38;5;241;43m*\u001b[39;49m\u001b[43mkwargs\u001b[49m\u001b[43m)\u001b[49m\n",
      "\u001b[0;31mFileNotFoundError\u001b[0m: [Errno 2] No such file or directory: 'imagenes/archivo.csv'"
     ]
    }
   ],
   "source": [
    "import os\n",
    "import csv\n",
    "\n",
    "archivo_csv= open(os.path.join(directorio_imagenes,'archivo.csv'), 'r+') \n",
    "lector_csv = csv.reader(archivo_csv)\n",
    "contenido_csv = list(lector_csv)"
   ]
  },
  {
   "cell_type": "markdown",
   "id": "7e9d2562",
   "metadata": {},
   "source": [
    "* Manejo con with\n",
    "* Utilizar excepciones, pero cuáles pueden ser?"
   ]
  },
  {
   "cell_type": "code",
   "execution_count": 80,
   "id": "e1bfaff6",
   "metadata": {},
   "outputs": [
    {
     "name": "stdout",
     "output_type": "stream",
     "text": [
      "<class 'FileNotFoundError'>\n",
      "[Errno 2] No such file or directory: 'imagenes/archivo.csv'\n"
     ]
    }
   ],
   "source": [
    "try:\n",
    "    with open(os.path.join(directorio_imagenes,'archivo.csv'), 'r+') as archivo_csv:\n",
    "        lector_csv = csv.reader(archivo_csv)\n",
    "        contenido_csv = list(lector_csv)\n",
    "except Exception as e:\n",
    "    print(type(e))\n",
    "    print(e)"
   ]
  },
  {
   "cell_type": "code",
   "execution_count": 81,
   "id": "49ee8a16",
   "metadata": {},
   "outputs": [
    {
     "name": "stdout",
     "output_type": "stream",
     "text": [
      "Archivo no encontrado\n"
     ]
    }
   ],
   "source": [
    "try:\n",
    "    with open('archivo.csv', 'r+') as archivo_csv:\n",
    "        lector_csv = csv.reader(archivo_csv)\n",
    "        contenido_csv = list(lector_csv)\n",
    "except FileNotFoundError as e:\n",
    "    print(f'Archivo no encontrado')\n",
    "    "
   ]
  },
  {
   "cell_type": "code",
   "execution_count": 42,
   "id": "ab29c31b",
   "metadata": {},
   "outputs": [
    {
     "name": "stdout",
     "output_type": "stream",
     "text": [
      "Archivo no encontrado\n"
     ]
    }
   ],
   "source": [
    "try:\n",
    "    with open(os.path.join('img','registro_imagenes.csv'), 'r+') as archivo_csv:\n",
    "        lector_csv = csv.reader(archivo_csv)\n",
    "        contenido_csv = list(lector_csv)\n",
    "except FileNotFoundError as e:\n",
    "    print(f'Archivo no encontrado')"
   ]
  },
  {
   "cell_type": "code",
   "execution_count": 83,
   "id": "1babebfe",
   "metadata": {},
   "outputs": [
    {
     "name": "stdout",
     "output_type": "stream",
     "text": [
      "<class 'PermissionError'>\n",
      "La excepción [Errno 13] Permission denied: 'imagenes/otro_registro.csv' no se pudo resolver\n"
     ]
    }
   ],
   "source": [
    "try:\n",
    "    with open(os.path.join(directorio_imagenes,'otro_registro.csv'), 'r+') as archivo_csv:\n",
    "        lector_csv = csv.reader(archivo_csv)\n",
    "        contenido_csv = list(lector_csv)\n",
    "except FileNotFoundError as e:\n",
    "    print(f'Archivo no encontrado')\n",
    "except Exception as e:\n",
    "    print(type(e))\n",
    "    print(f'La excepción {e} no se pudo resolver')"
   ]
  },
  {
   "cell_type": "code",
   "execution_count": 84,
   "id": "f7c8a3a7",
   "metadata": {},
   "outputs": [],
   "source": [
    "try:\n",
    "    with open(os.path.join(directorio_imagenes,'registro_imagenes.csv'), 'r+') as archivo_csv:\n",
    "        lector_csv = csv.reader(archivo_csv)\n",
    "        contenido_csv = list(lector_csv)\n",
    "except FileNotFoundError as e:\n",
    "    print(f'Archivo no encontrado')\n",
    "   "
   ]
  },
  {
   "cell_type": "code",
   "execution_count": 85,
   "id": "55931aed",
   "metadata": {},
   "outputs": [
    {
     "data": {
      "text/plain": [
       "[['Ruta',\n",
       "  'texto descriptivo',\n",
       "  'resolución',\n",
       "  'tamaño',\n",
       "  'tipo',\n",
       "  'lista de tags',\n",
       "  'perfil actualizo',\n",
       "  'última actualización'],\n",
       " ['nombre0.png',\n",
       "  'Texto de imagen 0',\n",
       "  '(1280, 720)',\n",
       "  '164  KB',\n",
       "  'image/png',\n",
       "  \"['animales', 'paisaje', 'paisaje', 'vintage']\",\n",
       "  'moonchild',\n",
       "  '1682345806.3670118'],\n",
       " ['nombre1.png',\n",
       "  'Texto de imagen 1',\n",
       "  '(800, 600)',\n",
       "  '40  KB',\n",
       "  'image/gif',\n",
       "  \"['moderno', 'abstracto', 'paisaje', 'ciudad']\",\n",
       "  'thunderbolt',\n",
       "  '1682345806.3670218'],\n",
       " ['nombre2.png',\n",
       "  'Texto de imagen 2',\n",
       "  '(800, 600)',\n",
       "  '182  KB',\n",
       "  'image/jpeg',\n",
       "  \"['animales', 'abstracto', 'retro', 'naturaleza']\",\n",
       "  'deepthinker',\n",
       "  '1682345806.3670285'],\n",
       " ['nombre3.png',\n",
       "  'Texto de imagen 3',\n",
       "  '(640, 480)',\n",
       "  '705  KB',\n",
       "  'image/bmp',\n",
       "  \"['moderno', 'vintage', 'retro', 'naturaleza']\",\n",
       "  'johndoe',\n",
       "  '1682345806.3670352']]"
      ]
     },
     "execution_count": 85,
     "metadata": {},
     "output_type": "execute_result"
    }
   ],
   "source": [
    "contenido_csv"
   ]
  },
  {
   "cell_type": "markdown",
   "id": "33eda4db",
   "metadata": {},
   "source": [
    "**El modo r+ permite leer y escribir en el archivo.**"
   ]
  },
  {
   "cell_type": "markdown",
   "id": "122eeddc",
   "metadata": {},
   "source": [
    "La función **csv.reader** lee el archivo línea por línea y la función **list** convierte el resultado en una lista de listas, donde cada lista interna representa una fila del archivo CSV.\n",
    "\n",
    "    "
   ]
  },
  {
   "cell_type": "markdown",
   "id": "efbb2438",
   "metadata": {},
   "source": [
    "3. Buscar la línea que deseas modificar y realizar los cambios necesarios. Por ejemplo, queremos modificar la imagen con nombre **nombre3.png**"
   ]
  },
  {
   "cell_type": "code",
   "execution_count": 46,
   "id": "7481b6da",
   "metadata": {},
   "outputs": [],
   "source": [
    "imagen_mod = 'nombre3.png'\n"
   ]
  },
  {
   "cell_type": "code",
   "execution_count": 47,
   "id": "4882b453",
   "metadata": {},
   "outputs": [
    {
     "name": "stdout",
     "output_type": "stream",
     "text": [
      "La posición de la sublista que contiene el elemento nombre3.png es: 4\n"
     ]
    }
   ],
   "source": [
    "for i, sublist in enumerate(contenido_csv):\n",
    "    if imagen_mod in sublist:\n",
    "        posicion = i\n",
    "        datos_imagen_original = sublist\n",
    "        break\n",
    "\n",
    "print(\"La posición de la sublista que contiene el elemento\", imagen_mod, \"es:\", posicion)\n"
   ]
  },
  {
   "cell_type": "code",
   "execution_count": 48,
   "id": "869db61f",
   "metadata": {},
   "outputs": [
    {
     "data": {
      "text/plain": [
       "['nombre3.png',\n",
       " 'Texto de imagen 3',\n",
       " '(640, 480)',\n",
       " '705  KB',\n",
       " 'image/bmp',\n",
       " \"['moderno', 'vintage', 'retro', 'naturaleza']\",\n",
       " 'johndoe',\n",
       " '1682345806.3670352']"
      ]
     },
     "execution_count": 48,
     "metadata": {},
     "output_type": "execute_result"
    }
   ],
   "source": [
    "sublist"
   ]
  },
  {
   "cell_type": "code",
   "execution_count": 89,
   "id": "0fa04ec9",
   "metadata": {},
   "outputs": [
    {
     "data": {
      "text/plain": [
       "['nombre3.png',\n",
       " 'Texto de imagen 3',\n",
       " '(640, 480)',\n",
       " '705  KB',\n",
       " 'image/bmp',\n",
       " \"['moderno', 'vintage', 'retro', 'naturaleza']\",\n",
       " 'deepthinker',\n",
       " '1682345806.3670352']"
      ]
     },
     "execution_count": 89,
     "metadata": {},
     "output_type": "execute_result"
    }
   ],
   "source": [
    "import random\n",
    "nicks = ['thunderbolt', 'deepthinker']\n",
    "fila_a_modificar = posicion\n",
    "datos_imagen_mod = datos_imagen_original[:]\n",
    "datos_imagen_mod[6] = random.choice(nicks)\n",
    "datos_imagen_mod\n"
   ]
  },
  {
   "cell_type": "code",
   "execution_count": 87,
   "id": "9ffa6cc4",
   "metadata": {},
   "outputs": [
    {
     "data": {
      "text/plain": [
       "[['Ruta',\n",
       "  'texto descriptivo',\n",
       "  'resolución',\n",
       "  'tamaño',\n",
       "  'tipo',\n",
       "  'lista de tags',\n",
       "  'perfil actualizo',\n",
       "  'última actualización'],\n",
       " ['nombre0.png',\n",
       "  'Texto de imagen 0',\n",
       "  '(1280, 720)',\n",
       "  '164  KB',\n",
       "  'image/png',\n",
       "  \"['animales', 'paisaje', 'paisaje', 'vintage']\",\n",
       "  'moonchild',\n",
       "  '1682345806.3670118'],\n",
       " ['nombre1.png',\n",
       "  'Texto de imagen 1',\n",
       "  '(800, 600)',\n",
       "  '40  KB',\n",
       "  'image/gif',\n",
       "  \"['moderno', 'abstracto', 'paisaje', 'ciudad']\",\n",
       "  'thunderbolt',\n",
       "  '1682345806.3670218'],\n",
       " ['nombre2.png',\n",
       "  'Texto de imagen 2',\n",
       "  '(800, 600)',\n",
       "  '182  KB',\n",
       "  'image/jpeg',\n",
       "  \"['animales', 'abstracto', 'retro', 'naturaleza']\",\n",
       "  'deepthinker',\n",
       "  '1682345806.3670285'],\n",
       " ['nombre3.png',\n",
       "  'Texto de imagen 3',\n",
       "  '(640, 480)',\n",
       "  '705  KB',\n",
       "  'image/bmp',\n",
       "  \"['moderno', 'vintage', 'retro', 'naturaleza']\",\n",
       "  'johndoe',\n",
       "  '1682345806.3670352']]"
      ]
     },
     "execution_count": 87,
     "metadata": {},
     "output_type": "execute_result"
    }
   ],
   "source": [
    "contenido_csv[fila_a_modificar] = datos_imagen_mod\n",
    "contenido_csv"
   ]
  },
  {
   "cell_type": "markdown",
   "id": "db2df23a",
   "metadata": {},
   "source": [
    "Reemplaza los valores en la posición indicada    "
   ]
  },
  {
   "cell_type": "markdown",
   "id": "10d381db",
   "metadata": {},
   "source": [
    "4. Escribir el contenido actualizado:"
   ]
  },
  {
   "cell_type": "code",
   "execution_count": 90,
   "id": "dcf4b58e",
   "metadata": {},
   "outputs": [],
   "source": [
    "with open('registro_imagenes.csv', 'w',newline='') as archivo_csv:\n",
    "    escritor_csv = csv.writer(archivo_csv)\n",
    "    escritor_csv.writerows(contenido_csv)       \n"
   ]
  },
  {
   "cell_type": "markdown",
   "id": "e73d14f4",
   "metadata": {},
   "source": [
    "newline='' evita que se añadan líneas adicionales entre las filas en el archivo CSV."
   ]
  },
  {
   "cell_type": "markdown",
   "id": "042a8d37",
   "metadata": {},
   "source": [
    "* Especificación de encodings"
   ]
  },
  {
   "cell_type": "code",
   "execution_count": 6,
   "id": "99cb9067",
   "metadata": {},
   "outputs": [],
   "source": [
    "import os\n",
    "from csv import reader\n",
    "PATH_BASE = os.path.abspath(os.getcwd())"
   ]
  },
  {
   "cell_type": "markdown",
   "id": "37e488cf",
   "metadata": {},
   "source": [
    "> Directorio base del proyecto (sólo para Jupyter, para scripts hay formas mejores)\n"
   ]
  },
  {
   "cell_type": "code",
   "execution_count": 4,
   "id": "d0dfa84c",
   "metadata": {},
   "outputs": [],
   "source": [
    "CSV_PATH = os.path.join(PATH_BASE, \"files\", \"Spotify 2010 - 2019 Top 100.csv\")"
   ]
  },
  {
   "cell_type": "markdown",
   "id": "a364b943",
   "metadata": {},
   "source": [
    "> Al leerlo como un utf-8 regular se lee ese encabezado como si fueran parte de los datos del archivo"
   ]
  },
  {
   "cell_type": "code",
   "execution_count": 7,
   "id": "f7735519",
   "metadata": {},
   "outputs": [],
   "source": [
    "\n",
    "with open(CSV_PATH, newline=\"\", encoding=\"utf-8\") as spotify_file:\n",
    "    spotify_csv_reader = reader(spotify_file)\n",
    "    headers = next(spotify_csv_reader)\n",
    "    data = list(spotify_csv_reader)"
   ]
  },
  {
   "cell_type": "code",
   "execution_count": 9,
   "id": "9095ecab",
   "metadata": {},
   "outputs": [
    {
     "data": {
      "text/plain": [
       "['\\ufefftitle',\n",
       " 'artist',\n",
       " 'top genre',\n",
       " 'year released',\n",
       " 'added',\n",
       " 'bpm',\n",
       " 'nrgy',\n",
       " 'dnce',\n",
       " 'dB',\n",
       " 'live',\n",
       " 'val',\n",
       " 'dur',\n",
       " 'acous',\n",
       " 'spch',\n",
       " 'pop',\n",
       " 'top year',\n",
       " 'artist type']"
      ]
     },
     "execution_count": 9,
     "metadata": {},
     "output_type": "execute_result"
    }
   ],
   "source": [
    " headers"
   ]
  },
  {
   "cell_type": "markdown",
   "id": "d3a2bf97",
   "metadata": {},
   "source": [
    "> Utilizar el encoding adecuado permite descartar esos bytes de encabezado"
   ]
  },
  {
   "cell_type": "code",
   "execution_count": 11,
   "id": "a1524489",
   "metadata": {},
   "outputs": [],
   "source": [
    "with open(CSV_PATH, newline=\"\", encoding=\"utf-8-sig\") as spotify_file:\n",
    "    spotify_csv_reader = reader(spotify_file)\n",
    "    headers = next(spotify_csv_reader)\n",
    "    data = list(spotify_csv_reader)"
   ]
  },
  {
   "cell_type": "code",
   "execution_count": 12,
   "id": "c42f3336",
   "metadata": {},
   "outputs": [
    {
     "data": {
      "text/plain": [
       "['title',\n",
       " 'artist',\n",
       " 'top genre',\n",
       " 'year released',\n",
       " 'added',\n",
       " 'bpm',\n",
       " 'nrgy',\n",
       " 'dnce',\n",
       " 'dB',\n",
       " 'live',\n",
       " 'val',\n",
       " 'dur',\n",
       " 'acous',\n",
       " 'spch',\n",
       " 'pop',\n",
       " 'top year',\n",
       " 'artist type']"
      ]
     },
     "execution_count": 12,
     "metadata": {},
     "output_type": "execute_result"
    }
   ],
   "source": [
    "headers"
   ]
  },
  {
   "cell_type": "markdown",
   "id": "5e824334",
   "metadata": {},
   "source": [
    "## Pysimplegui\n",
    "### Cargar imagenes \n",
    "* en botones: .png o .gif, ruta directa,\n",
    "* con módulo Image\n"
   ]
  },
  {
   "cell_type": "markdown",
   "id": "b844b364",
   "metadata": {},
   "source": [
    "### Datos entre ventanas"
   ]
  },
  {
   "cell_type": "markdown",
   "id": "5cd361f1",
   "metadata": {},
   "source": [
    "* Crear una ventana con un perfil\n",
    "```python\n",
    "sg.Window(\n",
    "        \"Principal\", layout, finalize=True, metadata={\"perfil_actual\": None}\n",
    "    )\n",
    "```\n",
    "* Acceder a los datos de metada\n",
    "```python\n",
    "ventana.metadata[\"perfil_actual\"]\n",
    "```\n"
   ]
  },
  {
   "cell_type": "markdown",
   "id": "35b74df7",
   "metadata": {},
   "source": [
    "* Actualizar los datos\n",
    "```python\n",
    "ventana_principal.metadata[\"perfil_actual\"] = perfil\n",
    "```"
   ]
  },
  {
   "cell_type": "markdown",
   "id": "e46b6a7c",
   "metadata": {},
   "source": [
    "No es lo mismo los valores que son propios de cada ventana: values que los metada"
   ]
  },
  {
   "cell_type": "code",
   "execution_count": null,
   "id": "27a5a0e4",
   "metadata": {},
   "outputs": [],
   "source": []
  }
 ],
 "metadata": {
  "kernelspec": {
   "display_name": "Python 3 (ipykernel)",
   "language": "python",
   "name": "python3"
  },
  "language_info": {
   "codemirror_mode": {
    "name": "ipython",
    "version": 3
   },
   "file_extension": ".py",
   "mimetype": "text/x-python",
   "name": "python",
   "nbconvert_exporter": "python",
   "pygments_lexer": "ipython3",
   "version": "3.11.2"
  }
 },
 "nbformat": 4,
 "nbformat_minor": 5
}
