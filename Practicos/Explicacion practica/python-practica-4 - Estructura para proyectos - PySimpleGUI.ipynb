{
 "cells": [
  {
   "cell_type": "markdown",
   "id": "fe55140d",
   "metadata": {},
   "source": [
    "Proyectos en Python\n",
    "================="
   ]
  },
  {
   "cell_type": "markdown",
   "id": "07226d4f",
   "metadata": {},
   "source": [
    "Hasta el momento trabajamos o bien con Notebooks de Jupyter o bien con scripts sencillos.\n",
    "* ¿Cómo creamos un proyecto más grande?\n",
    "* ¿Cómo creamos un programa con interfaz gráfica?"
   ]
  },
  {
   "cell_type": "markdown",
   "id": "bde231b8",
   "metadata": {},
   "source": [
    "Un proyecto Python típico\n",
    "--------------------------------------\n",
    "\n",
    "* Una carpeta para el proyecto\n",
    "* Repositorio GIT\n",
    "* Paquete del proyecto\n",
    "* README.md"
   ]
  },
  {
   "cell_type": "markdown",
   "id": "cac03263",
   "metadata": {},
   "source": [
    "Interfaces gráficas con PySimpleGUI\n",
    "-----------------------------------------------------"
   ]
  },
  {
   "cell_type": "markdown",
   "id": "c1cdf5f5",
   "metadata": {},
   "source": [
    "### PySimpleGUI\n",
    "\n",
    "Analicemos y definamos entre todos las partes de un programa con PySimpleGUI\n",
    "\n",
    "* Layout: Es una lista. Cada uno de sus elementos es una lista con objetos de PySimpleGUI (botones, inputs, imágenes, listas de opciones, etc...)\n",
    "* Window: Tiene un título, contiene botones, inputs, etc... Se le puede poner un tamaño y configurar otras opciones.\n",
    "* window.read(): Dibuja la ventana, espera un evento y retorna una tupla con el evento y los valores de los inputs, listas de opciones, etc...\n",
    "* Event loop / bucle de eventos: Es bucle (normalmente infinito) que en el que proceso los eventos.\n",
    "* window.read(timeout=500) con timeout: Permite que el read no quede trabado más de X milisegundos. Por ejemplo para hacer animaciones, mostrar cuentas regresivas, etc..."
   ]
  },
  {
   "cell_type": "markdown",
   "id": "1c0e3733",
   "metadata": {},
   "source": [
    "### Ejemplos simples\n",
    "\n",
    "\n",
    "#### Eventos y valores\n",
    "\n",
    "Ejemplo simple ventana con un botón y un campo de texto:"
   ]
  },
  {
   "cell_type": "code",
   "execution_count": 2,
   "id": "155d5705",
   "metadata": {},
   "outputs": [
    {
     "name": "stdout",
     "output_type": "stream",
     "text": [
      "Evento: None, valores: {0: None}\n"
     ]
    }
   ],
   "source": [
    "import PySimpleGUI as sg\n",
    "\n",
    "# En layout armamos la ventana.\n",
    "# layout es una lista que contiene una lista por cada fila de la ventana.\n",
    "layout = [\n",
    "    [sg.Input()],\n",
    "    [sg.Button(\"Aceptar\")],\n",
    "]\n",
    "\n",
    "# Creamos el objeto ventana\n",
    "window = sg.Window(\"Título de la ventana\", layout)\n",
    "\n",
    "# Un loop infinito para procesar los eventos de la ventana\n",
    "while True:\n",
    "    # Esperamos un evento\n",
    "    event, values = window.read()\n",
    "    print(f\"Evento: {event}, valores: {values}\")\n",
    "    \n",
    "    # sg.WIN_CLOSED es el evento de cerrar la ventana\n",
    "    if event == sg.WIN_CLOSED:\n",
    "        break\n",
    "\n",
    "# Cerramos la ventana\n",
    "window.close()"
   ]
  },
  {
   "cell_type": "markdown",
   "id": "dd502762",
   "metadata": {},
   "source": [
    "#### Key\n",
    "\n",
    "Podemos identificar los elementos de la ventana con nombres únicos usando el argumento `key`.\n",
    "\n",
    "Por convención de PySimpleGUI normalmente las `key` son strings en mayúsculas rodeados de `-`.\n",
    "\n",
    "Los objetos creados con `sg.Window()` se comportan como diccionarios. Cada elemento está almacenado con la clave indicada en el argumento `key`."
   ]
  },
  {
   "cell_type": "code",
   "execution_count": 3,
   "id": "37cda40b",
   "metadata": {},
   "outputs": [
    {
     "name": "stdout",
     "output_type": "stream",
     "text": [
      "Evento: -ACEPTAR-, valores: {'-NOMBRE-': 'sd'}, objeto 'input': <PySimpleGUI.PySimpleGUI.Button object at 0x7fafec376a90>\n",
      "Evento: None, valores: None, objeto 'input': <PySimpleGUI.PySimpleGUI.Button object at 0x7fafec376a90>\n"
     ]
    }
   ],
   "source": [
    "import PySimpleGUI as sg\n",
    "\n",
    "# Agregamos una key para el campo de texto y para el botón\n",
    "layout = [\n",
    "    [sg.Input(key=\"-NOMBRE-\")],\n",
    "    [sg.Button(\"Aceptar\", key=\"-ACEPTAR-\")],\n",
    "]\n",
    "\n",
    "window = sg.Window(\"Título de la ventana\", layout)\n",
    "\n",
    "while True:\n",
    "    event, values = window.read()\n",
    "    print(f\"Evento: {event}, valores: {values}, objeto 'input': {window['-ACEPTAR-']}\")\n",
    "    \n",
    "    if event == sg.WIN_CLOSED:\n",
    "        break\n",
    "\n",
    "# Cerramos la ventana\n",
    "window.close()"
   ]
  },
  {
   "cell_type": "markdown",
   "id": "d9a15d1f",
   "metadata": {},
   "source": [
    "#### Update\n",
    "\n",
    "Para modificar algún elemento (por ejemplo un texto) podemos utilizar el método update.\n",
    "\n",
    "Por ejemplo:\n",
    "\n",
    "```python\n",
    "window[\"-NOMBRE-\"].update(\"No me gusta ese nombre\")\n",
    "```\n",
    "\n",
    "O bien para dejar el campo en blanco:\n",
    "\n",
    "```python\n",
    "window[\"-NOMBRE-\"].update(\"\")\n",
    "```\n",
    "\n",
    "**Importante:** Por defecto no se puede llamar a `update()` antes del primer `read()`."
   ]
  },
  {
   "cell_type": "markdown",
   "id": "652e55bf",
   "metadata": {},
   "source": [
    "#### Desafío\n",
    "\n",
    "Crear un programa que muestre un contador y un botón \"Incrementar\" que lo vaya incrementando.\n",
    "\n",
    "Sketch:\n",
    "\n",
    "![Sketch de la ventana](pysimplegui/contador.png)\n",
    "\n",
    "Preguntas:\n",
    "\n",
    "* ¿Qué tipo de elemento usar para mostrar el contador?\n",
    "* ¿Dónde guardamos el valor?\n",
    "* ¿Qué muestra al inicio?\n",
    "* ¿Dónde agregamos el código para incrementarlo y mostrarlo?"
   ]
  },
  {
   "cell_type": "code",
   "execution_count": 4,
   "id": "d754b426",
   "metadata": {},
   "outputs": [
    {
     "name": "stdout",
     "output_type": "stream",
     "text": [
      "None {}\n"
     ]
    }
   ],
   "source": [
    "import PySimpleGUI as sg\n",
    "\n",
    "contador = 0\n",
    "\n",
    "# Ponemos un valor inicial al campo de texto\n",
    "contenido = [\n",
    "    [sg.Text(contador, key=\"-MOSTRAR-CONTADOR-\")],\n",
    "    [sg.Button(\"Incrementar\", key=\"-CONTAR-\")],\n",
    "]\n",
    "\n",
    "window = sg.Window(\"Contador\", contenido)\n",
    "\n",
    "while True:\n",
    "    event, values = window.read()\n",
    "    print(f\"{event} {values}\")\n",
    "    \n",
    "    if event == sg.WIN_CLOSED:\n",
    "        break\n",
    "    elif event == \"-CONTAR-\":\n",
    "        contador += 1\n",
    "        window[\"-MOSTRAR-CONTADOR-\"].update(contador)\n",
    "\n",
    "# Cerramos la ventana\n",
    "window.close()"
   ]
  },
  {
   "cell_type": "code",
   "execution_count": null,
   "id": "78639c74",
   "metadata": {},
   "outputs": [],
   "source": [
    "import PySimpleGUI as sg\n",
    "from PIL import Image, ImageTk\n",
    "\n",
    "contador = 0\n",
    "\n",
    "# Ponemos un valor inicial al campo de texto\n",
    "contenido = [\n",
    "    [sg.Text(contador, key=\"-MOSTRAR-CONTADOR-\")],\n",
    "    [sg.Image(key=\"-MEME-\")],\n",
    "    [sg.Button(\"Incrementar\", key=\"-CONTAR-\")],\n",
    "]\n",
    "\n",
    "window = sg.Window(\"Contador\", contenido)\n",
    "\n",
    "while True:\n",
    "    event, values = window.read()\n",
    "    print(f\"{event} {values}\")\n",
    "    \n",
    "    if event == sg.WIN_CLOSED:\n",
    "        break\n",
    "    elif event == \"-CONTAR-\":\n",
    "        contador += 1\n",
    "        window[\"-MOSTRAR-CONTADOR-\"].update(contador)\n",
    "        meme = Image.open(\"meme.png\")\n",
    "        meme_tk = ImageTk.PhotoImage(meme)\n",
    "        window[\"-MEME-\"].update(data=meme_tk)\n",
    "\n",
    "# Cerramos la ventana\n",
    "window.close()"
   ]
  },
  {
   "cell_type": "markdown",
   "id": "6c5df446",
   "metadata": {},
   "source": [
    "Manejo de ventanas múltiples\n",
    "-------------------------------------------\n",
    "\n",
    "* Hay muchas formas de manejar múltiples ventanas en PySimpleGUI.\n",
    "* Veremos sólo una de estas formas.\n",
    "\n",
    "Repaso:\n",
    "\n",
    "* Una ventana tiene un \"layout\" con elementos (objetos como botones, campos de texto, imágenes, etc).\n",
    "* Al crear una ventana en la variable `window` leemos sus eventos con `window.read()`.\n",
    "\n",
    "Preguntas:\n",
    "\n",
    "* ¿Cómo creamos múltiples ventanas?\n",
    "* ¿Cómo podemos leer los eventos de muchas ventanas?\n",
    "* ¿Cómo organizamos el código para que el while donde procesamos eventos no sea gigante?\n",
    "* ¿Dónde mantenemos los datos del programa para evitar usar variables globales?\n"
   ]
  },
  {
   "cell_type": "markdown",
   "id": "e47f0cb2",
   "metadata": {},
   "source": [
    "### ¿Cómo creamos múltiples ventanas?\n",
    "\n",
    "Fácil, cuando querramos crear/mostrar una ventana, creamos su layout y creamos un objeto con `sg.Window(...)`,\n",
    "luego cuando no la necesitamos la cerramos con el método `close()`. Es conveniente crear funciones o métodos para crear las ventanas (junto con sus layouts) de forma cómoda:\n",
    "\n",
    "```python\n",
    "import PySimpleGUI as sg\n",
    "\n",
    "def crear_ventana_principal():\n",
    "    layout = [\n",
    "        [sg.Button(\"Siguiente\", key=\"-PRINCIPAL-SIGUIENTE-\")],\n",
    "    ]\n",
    "    return sg.Window(\"Ventana principal\", layout, finalize=True)\n",
    "    \n",
    "def crear_ventana_secundaria():\n",
    "    layout = [\n",
    "        [sg.Button(\"Volver\", key=\"-SECUNDARIA-VOLVER-\")],\n",
    "    ]\n",
    "    return sg.Window(\"Ventana secundaria\", layout, finalize=True)\n",
    "```\n",
    "\n",
    "**Nota:** el argumento `finalize=True` es necesario para que funcione correctamente `sg.read_all_windows()`.\n",
    "\n",
    "### ¿Cómo podemos leer los eventos de muchas ventanas?\n",
    "\n",
    "Podríamos hacerlo de distintas formas, pero la más sencilla es usar `sg.read_all_windows()`. Esta función similar\n",
    "al método `read()` con la diferencia que lee eventos de todas las ventanas activas y retorna también la ventana\n",
    "en la que se generó el evento:\n",
    "\n",
    "```python\n",
    "while True:\n",
    "    current_window, event, values = sg.read_all_windows()\n",
    "    print(f\"Evento: {event}, valores: {values}\")\n",
    "    \n",
    "    if event == sg.WIN_CLOSED:\n",
    "        break\n",
    "    elif event == \"-PRINCIPAL-SIGUIENTE-\":\n",
    "        window = crear_ventana_secundaria()\n",
    "        current_window.close()\n",
    "    elif event == \"-SECUNDARIA-VOLVER-\":\n",
    "        window = crear_ventana_principal()\n",
    "        current_window.close()\n",
    "```"
   ]
  },
  {
   "cell_type": "code",
   "execution_count": null,
   "id": "f8ebcce4",
   "metadata": {},
   "outputs": [],
   "source": [
    "import PySimpleGUI as sg\n",
    "\n",
    "def crear_ventana_principal():\n",
    "    layout = [\n",
    "        [sg.Button(\"Siguiente\", key=\"-PRINCIPAL-SIGUIENTE-\")],\n",
    "    ]\n",
    "    return sg.Window(\"Ventana principal\", layout, finalize=True)\n",
    "    \n",
    "def crear_ventana_secundaria():\n",
    "    layout = [\n",
    "        [sg.Button(\"Volver\", key=\"-SECUNDARIA-VOLVER-\")],\n",
    "    ]\n",
    "    return sg.Window(\"Ventana secundaria\", layout, finalize=True)\n",
    "\n",
    "crear_ventana_principal()\n",
    "\n",
    "while True:\n",
    "    current_window, event, values = sg.read_all_windows()\n",
    "    print(f\"Ventana actual: {current_window}, Evento: {event}, valores: {values}\")     \n",
    "    \n",
    "    if event == sg.WIN_CLOSED:\n",
    "        current_window.close()\n",
    "        break\n",
    "    elif event == \"-PRINCIPAL-SIGUIENTE-\":\n",
    "        crear_ventana_secundaria()\n",
    "        current_window.close()\n",
    "    elif event == \"-SECUNDARIA-VOLVER-\":\n",
    "        crear_ventana_principal()\n",
    "        current_window.close()"
   ]
  },
  {
   "cell_type": "markdown",
   "id": "f8bb3635",
   "metadata": {},
   "source": [
    "### ¿Cómo organizamos el código para que el while donde procesamos eventos no sea gigante?\n",
    "\n",
    "Al mismo tiempo que intentamos resolver esta pregunta también podríamos pensar en cómo evitar\n",
    "que el programa principal sea gigante.\n",
    "\n",
    "Dividir la funcionalida en funciones y separar en módulos.\n",
    "\n",
    "### ¿Dónde mantenemos los datos del programa para evitar usar variables globales?\n",
    "\n",
    "Charlemos opciones.\n",
    "\n",
    "1. Usar un diccionario con los valores del programa y pasarlo como parámetro.\n",
    "\n",
    "```python\n",
    "datos_juego = {\n",
    "    \"puntaje-actual\": 0,\n",
    "    \"jugador\": \"Pepe\",\n",
    "    \"tiempo_restante\": 1,\n",
    "}\n",
    "```\n",
    "\n",
    "2. Crear una case o más para mantener los datos en un objeto.\n",
    "\n",
    "```python\n",
    "class Juego:\n",
    "   def __init__(self):\n",
    "       self.puntaje_actual = 0\n",
    "       ...\n",
    "juego = Juego()\n",
    "```"
   ]
  },
  {
   "cell_type": "markdown",
   "id": "09a3d43d",
   "metadata": {},
   "source": [
    "### Una alternativa mejorable\n",
    "\n",
    "Supongamos que en el programa principal está en juego.py y creamos la siguiente estructura de archivos y carpetas para el proyecto:\n",
    "\n",
    "```\n",
    ".\n",
    "├── datos_juego.py\n",
    "├── __init__.py\n",
    "├── juego.py\n",
    "└── pantallas\n",
    "    ├── configuracion.py\n",
    "    ├── creditos.py\n",
    "    ├── __init__.py\n",
    "    └── principal.py\n",
    "```\n",
    "\n",
    "El programa principal en juego.py podría ser algo parecido a:\n",
    "\n",
    "```python\n",
    "import PySimpleGUI as sg\n",
    "from pantallas import configuracion, creditos, principal\n",
    "from datos_juego import DatosJuego\n",
    "\n",
    "\n",
    "datos_juego = DatosJuego()\n",
    "estado.ventana_actual = \"principal\"\n",
    "principal.crear_ventana()\n",
    "\n",
    "while True:\n",
    "    current_window, event, values = sg.read_all_windows()\n",
    "    print(f\"Ventana actual: {current_window}, Evento: {event}, valores: {values}\")\n",
    "    \n",
    "    if event == sg.WIN_CLOSED:\n",
    "        current_window.close()\n",
    "        break\n",
    "\n",
    "    # Si pongo keys a los eventos que me permitan distinguir de qué ventana vienen\n",
    "    # es fácil despachar los eventos a otras funciones.\n",
    "    # En este ejemplo asumimos que los eventos tienen como prefijo de las keys el\n",
    "    # nombre de la ventana, por ejemplo:\n",
    "    # \"-PRINCIPAL-CONFIGURAR-\", \"-CONFIGURACION-ACEPTAR-\", etc...\n",
    "    \n",
    "    # Ejercicio para el lector, parsear el evento para extraer el prefijo:\n",
    "    event_words = # ...\n",
    "    match event_words:\n",
    "        case [\"PRINCIPAL\", _]:\n",
    "            principal.procesar_eventos(current_window, event, valores, datos_juego)\n",
    "        case [\"CONFIGURACION\", _]:\n",
    "            secundario.procesar_eventos(current_window, event, valores, datos_juego)\n",
    "        # ...\n",
    "```"
   ]
  }
 ],
 "metadata": {
  "kernelspec": {
   "display_name": "Python 3 (ipykernel)",
   "language": "python",
   "name": "python3"
  },
  "language_info": {
   "codemirror_mode": {
    "name": "ipython",
    "version": 3
   },
   "file_extension": ".py",
   "mimetype": "text/x-python",
   "name": "python",
   "nbconvert_exporter": "python",
   "pygments_lexer": "ipython3",
   "version": "3.11.2"
  }
 },
 "nbformat": 4,
 "nbformat_minor": 5
}
