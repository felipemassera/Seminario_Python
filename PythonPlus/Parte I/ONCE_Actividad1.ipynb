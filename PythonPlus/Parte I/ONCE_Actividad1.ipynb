{
 "cells": [
  {
   "cell_type": "markdown",
   "id": "b015a19f",
   "metadata": {},
   "source": [
    "# Actividad 1  por Python plus - Parte I \n",
    "\n",
    "## Resolvé el siguiente desafío:"
   ]
  },
  {
   "cell_type": "markdown",
   "id": "4fb9e8a4",
   "metadata": {},
   "source": [
    "**EJERCICIO 11:** dado el archivo denominado [log_catedras](https://archivos.linti.unlp.edu.ar/index.php/s/ofgZh41dUYMYX6H) que contiene  el registro de  accesos al entorno catedras.linti, se desea:\n",
    "1. Generar una función que retorne los 5 usuarios que menos actividad registran en este archivo y la cantidad de accesos registrados. Esta función recbe un parámetro opcional que indica el orden en que se ordenan los usuarios: \"A\", si se ordenan en forma ascendente, \"D\" si es descendente o \"None\" si no se aplica ningún orden. Por defecto la función no ordena. \n",
    "2. Escribir un programa que, utilizando la función anterior, muestre un listado similar al siguiente:\n",
    " \n",
    "```\n",
    "------------------------------------------\n",
    "Usuario en el sistema  Cantidad de accesos\n",
    "------------------------------------------\n",
    "Butterfree             78\n",
    "Pikachu                71\n",
    "Oddish                 67\n",
    "Kingler                65\n",
    "Tauros                 65\n",
    "```\n"
   ]
  },
  {
   "cell_type": "code",
   "execution_count": 58,
   "id": "5021bb7c",
   "metadata": {},
   "outputs": [
    {
     "name": "stdout",
     "output_type": "stream",
     "text": [
      "C:\\Users\\Felipe\\Desktop\n",
      "******************************************\n",
      "Usuario en el sistema  Cantidad de accesos\n",
      "******************************************\n",
      "Dewgong                103\n",
      "Dragonair              86\n",
      "Kakuna                 78\n",
      "Bulbasaur              78\n",
      "Sandslash              22\n"
     ]
    }
   ],
   "source": [
    "#Solución\n",
    "import csv\n",
    "import os\n",
    "\n",
    "def Ejercicio(lector, forma=\"None\"):\n",
    "    \"\"\"esta funcion recibe el conjunto de lineas que hacen al .csv y dependiendo del \n",
    "    parametro opcional forma devuelve segun la cantidad de accesos: \n",
    "    \"A\", si se ordenan en forma ascendente\n",
    "    \"D\" si es descendente \n",
    "    \"None\" si no se aplica ningún orden.\n",
    "    \"\"\"\n",
    "    usuarios= [columna['Nombre completo del usuario']for columna in lector]\n",
    "    var = Counter(usuarios)\n",
    "    final= var.most_common()[:-6:-1]\n",
    "    match forma : \n",
    "        case 'A':\n",
    "            return (sorted(final, key = lambda x:x[1]))\n",
    "        case 'D':\n",
    "            return final[::-1]\n",
    "        case _ :\n",
    "            return final\n",
    "\n",
    "from collections import Counter\n",
    "ruta = os.path.dirname(os.path.realpath(''))\n",
    "ruta_archivo = os.path.join(ruta,\"tarea python\",\"log_catedras.csv\")\n",
    "print(ruta)\n",
    "with open(ruta_archivo,'r+' , encoding=\"utf-8\") as archivo:\n",
    "    lector = csv.DictReader (archivo, delimiter=\",\")\n",
    "    encabezado = next(lector)\n",
    "    \n",
    "    forma = input(\"Ingrese de que manera se imprime la lista: 'A','D'\").upper()\n",
    "    \n",
    "    final= Ejercicio(lector,forma)\n",
    "    \n",
    "    print('*'*42)\n",
    "    print('Usuario en el sistema  Cantidad de accesos')\n",
    "    print('*'*42)\n",
    "    \n",
    "    for usuario, cantidad in final:\n",
    "        print(f\"{usuario.ljust(23)}{cantidad}\")"
   ]
  }
 ],
 "metadata": {
  "kernelspec": {
   "display_name": "Python 3 (ipykernel)",
   "language": "python",
   "name": "python3"
  },
  "language_info": {
   "codemirror_mode": {
    "name": "ipython",
    "version": 3
   },
   "file_extension": ".py",
   "mimetype": "text/x-python",
   "name": "python",
   "nbconvert_exporter": "python",
   "pygments_lexer": "ipython3",
   "version": "3.11.2"
  }
 },
 "nbformat": 4,
 "nbformat_minor": 5
}
