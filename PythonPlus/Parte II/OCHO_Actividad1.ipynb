{
 "cells": [
  {
   "cell_type": "markdown",
   "id": "b015a19f",
   "metadata": {},
   "source": [
    "# Actividad 1  por Python plus - Parte I \n",
    "\n",
    "## Resolvé el siguiente desafío:"
   ]
  },
  {
   "cell_type": "markdown",
   "id": "35666559",
   "metadata": {},
   "source": [
    "**EJERCICIO 8:** dado el archivo denominado [log_catedras](https://archivos.linti.unlp.edu.ar/index.php/s/ofgZh41dUYMYX6H) que contiene  el registro de  accesos al entorno catedras.linti, se desea:\n",
    "1. Generar una función que retorne los usuarios que accedieron a los materiales de las clases de teoría durante la noche. Esto se puede  chequear si en la columna \"Contexto del evento\" aparece el texto \"Página: Material de las clases\".  Esta función recibe un parámetro opcional que indica el orden en que se ordenan los usuarios: \"A\", si se ordena en forma ascendente, \"D\" si es descendente o \"None\" si no se aplica ningún orden. Por defecto la función no ordena.  Se considera noche al horario de 7pm a 7am.\n",
    "2. Escribir un programa que, utilizando la función anterior, muestre un listado similar al siguiente:\n",
    " \n",
    "```\n",
    "---------------------\n",
    "Usuario en el sistema \n",
    "---------------------\n",
    "\n",
    "-----Butterfree-----\n",
    "------Pikachu-------\n",
    "-------Oddish-------\n",
    "------Kingler-------\n",
    "-------Tauros-------\n",
    "```"
   ]
  },
  {
   "cell_type": "code",
   "execution_count": null,
   "id": "5021bb7c",
   "metadata": {},
   "outputs": [],
   "source": [
    "#Solución\n",
    "import csv\n",
    "import os\n",
    "\n",
    "def resolved(archi,c=\"None\"):\n",
    "    csvreader = csv.reader(archivo, delimiter=',')\n",
    "    cumple = filter(lambda x: x[3]==\"PÃ¡gina: Material de las clases\" and (int(x[0].split(\",\")[1].strip().split(\":\")[0])<7 or 19<=(int(x[0].split(\",\")[1].strip().split(\":\")[0]))), csvreader)\n",
    "    list=[]\n",
    "    [list.append(linea[1]) for linea in cumple]\n",
    "    if(c==\"A\"):\n",
    "        list.sort()\n",
    "    elif(c==\"D\"):\n",
    "        list.sort(reverse=True)\n",
    "    return list\n",
    "\n",
    "ruta = os.path.dirname(os.path.realpath(\".\"))\n",
    "ruta_archivo = os.path.join(ruta,\"log_catedras.csv\")\n",
    "archivo = open(ruta_archivo, \"r\")\n",
    "alumnos=resolved(archivo)\n",
    "archivo.close()\n",
    "\n",
    "print(\"-\"*20)\n",
    "print(\"Usuario en el sistema\")\n",
    "print(\"-\"*20)\n",
    "for elem in alumnos:\n",
    "    print(elem.center(20, \"-\"))\n"
   ]
  }
 ],
 "metadata": {
  "kernelspec": {
   "display_name": "Python 3 (ipykernel)",
   "language": "python",
   "name": "python3"
  },
  "language_info": {
   "codemirror_mode": {
    "name": "ipython",
    "version": 3
   },
   "file_extension": ".py",
   "mimetype": "text/x-python",
   "name": "python",
   "nbconvert_exporter": "python",
   "pygments_lexer": "ipython3",
   "version": "3.11.2"
  }
 },
 "nbformat": 4,
 "nbformat_minor": 5
}
