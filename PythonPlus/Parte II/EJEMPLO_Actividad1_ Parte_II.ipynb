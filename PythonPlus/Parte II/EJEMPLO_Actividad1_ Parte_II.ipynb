{
 "cells": [
  {
   "cell_type": "markdown",
   "id": "14df4a10",
   "metadata": {},
   "source": [
    "# Actividad 1 por Python plus - Parte II\n",
    "\n",
    "- Sobre el ejercicio asignado:\n",
    "    - [Evaluación del trabajo asignado](#parte1.1)\n",
    "    - [Análisis del ejercicio asignado](#parte1.2)\n",
    "- Sobre este trabajo:\n",
    "    - [Corrección de la evaluación realizada](#parte2.1)\n",
    "    - [Solución alternativa](#parte2.2)\n",
    "    - [Uso de ChatGPT](#parte2.3)"
   ]
  },
  {
   "cell_type": "markdown",
   "id": "eb80dfd8",
   "metadata": {},
   "source": [
    "## Evaluación del trabajo asignado <a name=\"parte1.1\"></a>"
   ]
  },
  {
   "cell_type": "markdown",
   "id": "805c4f24",
   "metadata": {},
   "source": [
    "### Solución propuesta por tu compañero/a"
   ]
  },
  {
   "attachments": {},
   "cell_type": "markdown",
   "id": "b2c22533",
   "metadata": {},
   "source": [
    "**EJERCICIO 8:** dado el archivo denominado [log_catedras](https://archivos.linti.unlp.edu.ar/index.php/s/ofgZh41dUYMYX6H) que contiene  el registro de  accesos al entorno catedras.linti, se desea:\n",
    "1. Generar una función que retorne los usuarios que accedieron a los materiales de las clases de teoría durante la noche. Esto se puede  chequear si en la columna \"Contexto del evento\" aparece el texto \"Página: Material de las clases\".  Esta función recibe un parámetro opcional que indica el orden en que se ordenan los usuarios: \"A\", si se ordena en forma ascendente, \"D\" si es descendente o \"None\" si no se aplica ningún orden. Por defecto la función no ordena.  Se considera noche al horario de 7pm a 7am.\n",
    "2. Escribir un programa que, utilizando la función anterior, muestre un listado similar al siguiente:\n",
    " \n",
    "```\n",
    "---------------------\n",
    "Usuario en el sistema \n",
    "---------------------\n",
    "\n",
    "-----Butterfree-----\n",
    "------Pikachu-------\n",
    "-------Oddish-------\n",
    "------Kingler-------\n",
    "-------Tauros-------\n",
    "```\n",
    "\n",
    "**URL:** https://drive.google.com/file/d/1SgLKpFPGHI0nfumbz6iSm6qpuqPXD9sI/view?usp=share_link\n",
    "\n"
   ]
  },
  {
   "cell_type": "code",
   "execution_count": 51,
   "id": "05249b25",
   "metadata": {},
   "outputs": [
    {
     "name": "stdout",
     "output_type": "stream",
     "text": [
      "--------------------\n",
      "Usuario en el sistema\n",
      "--------------------\n",
      "------Weezing-------\n",
      "-------Weedle-------\n",
      "------Voltorb-------\n",
      "------Voltorb-------\n",
      "------Voltorb-------\n",
      "------Voltorb-------\n",
      "------Voltorb-------\n",
      "------Voltorb-------\n",
      "-----Vileplume------\n",
      "-----Vileplume------\n",
      "-----Vileplume------\n",
      "------Venomoth------\n",
      "-------Staryu-------\n",
      "-------Staryu-------\n",
      "-------Staryu-------\n",
      "-------Staryu-------\n",
      "-------Staryu-------\n",
      "-------Staryu-------\n",
      "-------Staryu-------\n",
      "-------Staryu-------\n",
      "-------Staryu-------\n",
      "-------Staryu-------\n",
      "------Spearow-------\n",
      "------Spearow-------\n",
      "------Spearow-------\n",
      "------Slowbro-------\n",
      "------Slowbro-------\n",
      "------Slowbro-------\n",
      "------Slowbro-------\n",
      "------Slowbro-------\n",
      "------Slowbro-------\n",
      "------Slowbro-------\n",
      "------Slowbro-------\n",
      "-------Seadra-------\n",
      "-------Seadra-------\n",
      "-------Seadra-------\n",
      "-------Seadra-------\n",
      "-------Seadra-------\n",
      "------Scyther-------\n",
      "------Scyther-------\n",
      "------Rhyhorn-------\n",
      "------Rhyhorn-------\n",
      "------Rhyhorn-------\n",
      "-------Rhydon-------\n",
      "-------Rhydon-------\n",
      "-------Rhydon-------\n",
      "-------Rhydon-------\n",
      "-------Rhydon-------\n",
      "-------Rhydon-------\n",
      "-------Rhydon-------\n",
      "-------Rhydon-------\n",
      "-------Rhydon-------\n",
      "-------Rhydon-------\n",
      "-------Rhydon-------\n",
      "------Rattata-------\n",
      "------Rattata-------\n",
      "------Raticate------\n",
      "------Raticate------\n",
      "------Raticate------\n",
      "------Raticate------\n",
      "------Primeape------\n",
      "-------Ponyta-------\n",
      "-------Ponyta-------\n",
      "-------Ponyta-------\n",
      "-------Ponyta-------\n",
      "-------Ponyta-------\n",
      "------Poliwag-------\n",
      "------Poliwag-------\n",
      "-----Pidgeotto------\n",
      "-----Pidgeotto------\n",
      "-----Pidgeotto------\n",
      "------Persian-------\n",
      "------Persian-------\n",
      "------Omastar-------\n",
      "------Omastar-------\n",
      "------Omastar-------\n",
      "------Omastar-------\n",
      "------Omastar-------\n",
      "------Omastar-------\n",
      "------Omastar-------\n",
      "------Omastar-------\n",
      "------Omastar-------\n",
      "------Omastar-------\n",
      "------Omastar-------\n",
      "------Omastar-------\n",
      "------Omastar-------\n",
      "------Omastar-------\n",
      "------Omastar-------\n",
      "------Omastar-------\n",
      "------Omastar-------\n",
      "------Omastar-------\n",
      "------Omastar-------\n",
      "-------Oddish-------\n",
      "-------Oddish-------\n",
      "-------Oddish-------\n",
      "-------Oddish-------\n",
      "-------Oddish-------\n",
      "------Mr. Mime------\n",
      "------Metapod-------\n",
      "------Metapod-------\n",
      "------Magneton------\n",
      "------Magneton------\n",
      "------Machoke-------\n",
      "------Machoke-------\n",
      "-----Lickitung------\n",
      "-----Lickitung------\n",
      "-----Lickitung------\n",
      "------Kadabra-------\n",
      "------Kadabra-------\n",
      "------Kadabra-------\n",
      "------Jolteon-------\n",
      "-----Jigglypuff-----\n",
      "-------Hypno--------\n",
      "-----Hitmonlee------\n",
      "-----Hitmonlee------\n",
      "------Haunter-------\n",
      "------Goldeen-------\n",
      "------Goldeen-------\n",
      "------Goldeen-------\n",
      "------Geodude-------\n",
      "------Geodude-------\n",
      "------Geodude-------\n",
      "------Geodude-------\n",
      "------Geodude-------\n",
      "------Geodude-------\n",
      "------Geodude-------\n",
      "-------Fearow-------\n",
      "-------Fearow-------\n",
      "-------Fearow-------\n",
      "-------Fearow-------\n",
      "-------Fearow-------\n",
      "-------Fearow-------\n",
      "-------Fearow-------\n",
      "-------Fearow-------\n",
      "-------Fearow-------\n",
      "-------Fearow-------\n",
      "-------Fearow-------\n",
      "-------Fearow-------\n",
      "-------Fearow-------\n",
      "-----Exeggutor------\n",
      "-----Exeggutor------\n",
      "-----Exeggutor------\n",
      "-----Exeggutor------\n",
      "------Dugtrio-------\n",
      "------Dugtrio-------\n",
      "------Dugtrio-------\n",
      "------Dugtrio-------\n",
      "------Dugtrio-------\n",
      "-----Dragonair------\n",
      "-------Doduo--------\n",
      "-------Doduo--------\n",
      "-------Ditto--------\n",
      "-------Ditto--------\n",
      "-------Ditto--------\n",
      "-------Ditto--------\n",
      "-------Ditto--------\n",
      "-------Ditto--------\n",
      "------Diglett-------\n",
      "------Diglett-------\n",
      "------Cloyster------\n",
      "------Clefable------\n",
      "-----Charmander-----\n",
      "-----Charmander-----\n",
      "-----Charizard------\n",
      "-----Charizard------\n",
      "-----Charizard------\n",
      "-----Charizard------\n",
      "-----Charizard------\n",
      "-----Charizard------\n",
      "-----Charizard------\n",
      "-----Butterfree-----\n",
      "-----Butterfree-----\n",
      "-----Butterfree-----\n",
      "-----Butterfree-----\n",
      "-----Butterfree-----\n",
      "-----Butterfree-----\n",
      "-----Butterfree-----\n",
      "-----Butterfree-----\n",
      "-----Butterfree-----\n",
      "-----Butterfree-----\n",
      "-----Butterfree-----\n",
      "-----Bellsprout-----\n",
      "------Beedrill------\n",
      "------Beedrill------\n",
      "------Arcanine------\n"
     ]
    }
   ],
   "source": [
    "#Solución\n",
    "import csv\n",
    "import os\n",
    "\n",
    "def resolved(archi,c=\"None\"):\n",
    "    csvreader = csv.reader(archivo, delimiter=',')\n",
    "    cumple = filter(lambda x: x[3]==\"PÃ¡gina: Material de las clases\" and (int(x[0].split(\",\")[1].strip().split(\":\")[0])<7 or 19<=(int(x[0].split(\",\")[1].strip().split(\":\")[0]))), csvreader)\n",
    "    list=[]\n",
    "    [list.append(linea[1]) for linea in cumple]\n",
    "    if(c==\"A\"):\n",
    "        list.sort()\n",
    "    elif(c==\"D\"):\n",
    "        list.sort(reverse=True)\n",
    "    return list\n",
    "\n",
    "ruta = os.path.dirname(os.path.realpath(\".\"))\n",
    "ruta_archivo = os.path.join(ruta,\"log_catedras.csv\")\n",
    "archivo = open(ruta_archivo, \"r\")\n",
    "alumnos=resolved(archivo)\n",
    "archivo.close()\n",
    "\n",
    "print(\"-\"*20)\n",
    "print(\"Usuario en el sistema\")\n",
    "print(\"-\"*20)\n",
    "for elem in alumnos:\n",
    "    print(elem.center(20, \"-\"))\n",
    "\n",
    "\n"
   ]
  },
  {
   "cell_type": "markdown",
   "id": "1eae6299",
   "metadata": {},
   "source": [
    "## Análisis del ejercicio asignado <a name=\"parte1.2\"></a>"
   ]
  },
  {
   "cell_type": "markdown",
   "id": "4e9717da",
   "metadata": {},
   "source": [
    "### Calificá de acuerdo a las siguientes pautas:"
   ]
  },
  {
   "cell_type": "code",
   "execution_count": 2,
   "id": "2762a6c2",
   "metadata": {
    "scrolled": true
   },
   "outputs": [],
   "source": [
    "# Puntos acumulados del trabajo de mi conpañero/a\n",
    "puntos_parte_I = 0"
   ]
  },
  {
   "cell_type": "markdown",
   "id": "fb152d91",
   "metadata": {},
   "source": [
    "1.- **¿El algoritmo para el procesamiento de datos en el archivo es correcto?¿Resuelve la consulta planteada?:** +10 puntos\n",
    "\n",
    "- Sumá 10 puntos si el código es correcto, inpendientemente si sigue con todas las indicaciones como lo pide el enunciado.\n"
   ]
  },
  {
   "cell_type": "code",
   "execution_count": 3,
   "id": "00a9cdca",
   "metadata": {
    "scrolled": true
   },
   "outputs": [],
   "source": [
    "# puntos a sumar de esta consigna:\n",
    "puntos_parte_I += 10"
   ]
  },
  {
   "cell_type": "markdown",
   "id": "43ba367c",
   "metadata": {},
   "source": [
    "2.-**¿Define la función de acuerdo a lo pedido? (respecto a la definición de parámetros, y valores retornados)**: +5 puntos\n",
    "\n",
    "- Sumá 2.5 puntos: si lo hace pero presenta algún error (indicá cuál es el error).\n",
    "\n",
    "- Sumá 5 puntos: si está correcto"
   ]
  },
  {
   "cell_type": "code",
   "execution_count": 4,
   "id": "590a4742",
   "metadata": {
    "scrolled": true
   },
   "outputs": [],
   "source": [
    "# puntos a sumar de esta consigna:\n",
    "puntos_parte_I += 5"
   ]
  },
  {
   "cell_type": "markdown",
   "id": "577b576a",
   "metadata": {},
   "source": [
    "3.-**¿Genera el listado de acuerdo a lo pedido?¿Respeta el formato propuesto?**: +5 puntos\n",
    "\n",
    "- Sumá 2.5 puntos: si lo hace pero presenta algún error (indicá cuál es el error).\n",
    "\n",
    "- Sumá 5 puntos: si está correcto"
   ]
  },
  {
   "cell_type": "code",
   "execution_count": 5,
   "id": "e3963e5d",
   "metadata": {
    "scrolled": true
   },
   "outputs": [],
   "source": [
    "# puntos a sumar de esta consigna:\n",
    "puntos_parte_I += 5"
   ]
  },
  {
   "cell_type": "markdown",
   "id": "e619052f",
   "metadata": {},
   "source": [
    "4- **Sobre el acceso al archivo de datos:** -10  a 5 puntos\n",
    "\n",
    "- Descontá 5 puntos si lo abre utilizando una ruta absoluta (ejemplo: /home/archivo/archivo.csv).\n",
    "- Descontá 5 puntos si no se cierra el archivo.\n",
    "- Sumá 5 puntos si usa la sentencia with y lo hace en forma correcta.\n",
    "- Sumá 5 puntos si abre correctamente el archivo (sin with) y lo cierra."
   ]
  },
  {
   "cell_type": "code",
   "execution_count": 6,
   "id": "b55c9896",
   "metadata": {
    "scrolled": true
   },
   "outputs": [],
   "source": [
    "# puntos a sumar de esta consigna:\n",
    "puntos_parte_I += 5"
   ]
  },
  {
   "attachments": {},
   "cell_type": "markdown",
   "id": "1670ee4b",
   "metadata": {},
   "source": [
    "5.- **Alguna otra falla o detalles que quieras marcar?**: - 5 puntos\n",
    "\n",
    "- Especificá cuál es el error que encontrás: No realiza Docstring en la funcion.\n"
   ]
  },
  {
   "cell_type": "code",
   "execution_count": 7,
   "id": "1e985faa",
   "metadata": {
    "scrolled": true
   },
   "outputs": [],
   "source": [
    "# puntos a descontar de esta consigna:\n",
    "puntos_parte_I -= 5"
   ]
  },
  {
   "cell_type": "markdown",
   "id": "50b1c6fc",
   "metadata": {},
   "source": [
    "### Total de puntos de la actividad (parte I) del trabajo asignado:"
   ]
  },
  {
   "cell_type": "code",
   "execution_count": 8,
   "id": "afbe1851",
   "metadata": {
    "scrolled": true
   },
   "outputs": [
    {
     "name": "stdout",
     "output_type": "stream",
     "text": [
      "Puntos actividad 1 - Parte I: 20\n"
     ]
    }
   ],
   "source": [
    "print(f\"Puntos actividad 1 - Parte I: {puntos_parte_I if puntos_parte_I >0 else 0}\")"
   ]
  },
  {
   "cell_type": "markdown",
   "id": "34aa40a5",
   "metadata": {},
   "source": [
    "### ¿Algo más que no fue considerado?"
   ]
  },
  {
   "attachments": {},
   "cell_type": "markdown",
   "id": "1e1f3415",
   "metadata": {},
   "source": [
    "- 1) Al abrir el archivo da error si se quiere ejecutar el programa en la misma carpeta donde esta el archivo .CSV, lo busca en la carpeta PADRE. \n",
    "- 2) No respeta la cantidad de caracterers max en una linea de codigo propuesta por la PEP 8, ya que de la linea a la que me refiero cuenta con 186 caracteres, siendo 79 la cantidad maxima sugerida.\n",
    "- 3) Por lo que comprendo de la consigna, creeria que no hace falta poner todas las veces que un usuario entra al sistema de forma nocturna, sino solamente informar que usuario entraria.\n",
    "- 4) Cuando filtra en el primer lambda pone como condicion de busqueda \"PÃ¡gina: Material de las clases\" ya que si la codificacion default del sistema no toma al acento como \"á\" = \"Ã¡\" no funcionaria el filtrado. En este caso creo que esta mal (no se si es motivo de descuento de puntos ya que no se practico!)\n",
    "- 5) No realiza el next en el csv reader, pero al filtrarlo no modifica en nada el resultado del programa"
   ]
  },
  {
   "attachments": {},
   "cell_type": "markdown",
   "id": "dc26afe2",
   "metadata": {},
   "source": [
    "## Corrección de la evaluación realizada - Total 20 puntos <a name=\"parte2.1\"></a>"
   ]
  },
  {
   "cell_type": "code",
   "execution_count": 29,
   "id": "a397db33",
   "metadata": {
    "scrolled": true
   },
   "outputs": [],
   "source": [
    "# Puntos acumulados de mi parte II    - A COMPLETAR POR LA CATEDRA -\n",
    "puntos_parte_II = 0"
   ]
  },
  {
   "cell_type": "markdown",
   "id": "93b1dce8",
   "metadata": {},
   "source": [
    "### Corrección de la parte I de mi compañero/a: 10 puntos\n",
    "\n",
    "- Suma 10 puntos si la evaluación realizada es correcta.\n",
    "- Suma 5 puntos si el manejo de arhivos está mal evaluado, pero el resto es correcto.\n",
    "- Suma 5 puntos si la definición de la función está mal evaluada pero el resto es correcto. "
   ]
  },
  {
   "cell_type": "code",
   "execution_count": null,
   "id": "8ebab756",
   "metadata": {
    "scrolled": true
   },
   "outputs": [],
   "source": [
    "# Sumo puntos de la sección - A COMPLETAR POR LA CATEDRA -\n",
    "puntos_parte_II += 10"
   ]
  },
  {
   "cell_type": "markdown",
   "id": "b6836a8f",
   "metadata": {},
   "source": [
    "### Análisis de la  solución propuesta por mi compañero/a: 10 puntos\n",
    "\n",
    "Responodé: "
   ]
  },
  {
   "attachments": {},
   "cell_type": "markdown",
   "id": "3631026c",
   "metadata": {},
   "source": [
    "- **¿Qué estructuras de datos usa para el manejo de los datos ingresados desde el archivo?** 3 ptos.\n",
    "Las estructuras de datos utilizadas fueron: '_csv.reader', 'Filter' y List.\n"
   ]
  },
  {
   "attachments": {},
   "cell_type": "markdown",
   "id": "19c84303",
   "metadata": {},
   "source": [
    "- **¿Usa expresiones lambda, funciones map, filter, reduce u otra similar? ¿Están correctamente definidas?** 2 ptos.\n",
    "    Utilizo funciones Lambda y filter\n"
   ]
  },
  {
   "attachments": {},
   "cell_type": "markdown",
   "id": "ece79493",
   "metadata": {},
   "source": [
    "- **¿Recorre el archivo más de lo necesario para resolver el ejercicio? ¿Se podría haber hecho de una mejor forma?Justificá.** 5 ptos. si justificás.\n",
    "- no, lo recorre una unica vez. No se me ocurre una mejor manera de realizarlo, ya que por lo que tengo entendido una vez generado el csvreader al archivo no lo volvemos a recorrer, sino que procesamos lo generado a partir del archivo. De todas maneras hubiese separado la estructura de lambda de  186 caracteres por un tema de legibilidad y respetar la PEP-8.  "
   ]
  },
  {
   "cell_type": "code",
   "execution_count": null,
   "id": "d63dc7e9",
   "metadata": {
    "scrolled": true
   },
   "outputs": [],
   "source": [
    "# Sumo puntos de la sección - A COMPLETAR POR LA CATEDRA -\n",
    "puntos_parte_II += 10"
   ]
  },
  {
   "cell_type": "markdown",
   "id": "29fdc855",
   "metadata": {},
   "source": [
    "## Escribí una solución alternativa a la planteada por tu compañero/a: 15 puntos <a name=\"parte2.2\"></a>\n",
    "**Esta solución será evaluada de acuerdo a las mismas pautas establecidas en este cuaderno.** (reduciendo proporcionalmente los puntos de cada sección, dado que el acá es 15 y no 25)"
   ]
  },
  {
   "cell_type": "code",
   "execution_count": 9,
   "id": "9a1bc0dc",
   "metadata": {
    "scrolled": true
   },
   "outputs": [
    {
     "name": "stdout",
     "output_type": "stream",
     "text": [
      "--------------------\n",
      "Usuario en el sistema\n",
      "--------------------\n",
      "------Weezing-------\n",
      "-------Weedle-------\n",
      "------Voltorb-------\n",
      "-----Vileplume------\n",
      "-------Staryu-------\n",
      "------Spearow-------\n",
      "------Slowbro-------\n",
      "-------Seadra-------\n",
      "------Scyther-------\n",
      "------Rhyhorn-------\n",
      "-------Rhydon-------\n",
      "------Rattata-------\n",
      "------Raticate------\n",
      "------Primeape------\n",
      "-------Ponyta-------\n",
      "------Poliwag-------\n",
      "-----Pidgeotto------\n",
      "------Persian-------\n",
      "------Omastar-------\n",
      "-------Oddish-------\n",
      "------Mr. Mime------\n",
      "------Metapod-------\n",
      "------Magneton------\n",
      "------Machoke-------\n",
      "-----Lickitung------\n",
      "------Kadabra-------\n",
      "------Jolteon-------\n",
      "-----Jigglypuff-----\n",
      "-------Hypno--------\n",
      "------Goldeen-------\n",
      "------Geodude-------\n",
      "-------Fearow-------\n",
      "-----Exeggutor------\n",
      "------Dugtrio-------\n",
      "-----Dragonair------\n",
      "-------Doduo--------\n",
      "-------Ditto--------\n",
      "------Diglett-------\n",
      "------Clefable------\n",
      "-----Charmander-----\n",
      "-----Charizard------\n",
      "-----Butterfree-----\n",
      "------Beedrill------\n",
      "------Arcanine------\n"
     ]
    }
   ],
   "source": [
    "# Solución alternativa\n",
    "import csv, os\n",
    "\n",
    "def filtrado(csvreader, orden=\"None\"):\n",
    "    \"\"\" Funcion que recibe como parametro el iterador csv_reader y una manera de ordenamiento del resultado, \"D\" Descendente; \"A\" Acendente ; Por defecto \"None\". \n",
    "    Esta funcion se encarga de filtrar aquellos usuarios que vieron la  \"Página: Material de las clases\" en el horario nocturno, comprendido entre las 19hs y las 07hs.\n",
    "    retornando una lista de usuarios que puede estar ordenada o no dependiendo del parametro de ordenamiento recibido. \"\"\"\n",
    "    formato_hs = lambda hs: int(hs.replace(\" \", \"\").split(\",\")[1].split(\":\")[0])\n",
    "    cumple_Hs = lambda linea: ((formato_hs(linea['Hora']) > 19) or (formato_hs(linea['Hora']) < 7))\n",
    "    contexto= lambda linea: linea [\"Contexto del evento\"] == \"Página: Material de las clases\"\n",
    "\n",
    "    filtrados = filter(lambda x: contexto(x) and cumple_Hs(x),csvreader)\n",
    "    conjunto = set(filtrado['Nombre completo del usuario'] for filtrado in filtrados)\n",
    "\n",
    "    lista_nombres = list(conjunto)\n",
    "    match orden:\n",
    "        case 'A':\n",
    "            return sorted(lista_nombres)\n",
    "        case 'D':\n",
    "            return sorted(lista_nombres)[::-1]\n",
    "        case _:\n",
    "            return lista_nombres    \n",
    "path = os.path.realpath('.')             \n",
    "ruta = os.path.join(path, \"log_catedras.csv\")\n",
    "\n",
    "with open(ruta, encoding=\"utf-8\") as file:\n",
    "    csvreader = csv.DictReader (file, delimiter=\",\")\n",
    "    resultado = filtrado(csvreader, 'D') # \"D\" Descendente; \"A\" Acendente ; Por defecto \"None\"\n",
    "\n",
    "print(\"-\"*20)\n",
    "print(\"Usuario en el sistema\")\n",
    "print(\"-\"*20)\n",
    "for elem in resultado:\n",
    "    print(elem.center(20, \"-\"))\n"
   ]
  },
  {
   "cell_type": "code",
   "execution_count": null,
   "id": "b61dae7c",
   "metadata": {
    "scrolled": true
   },
   "outputs": [],
   "source": [
    "# Sumo puntos de la sección - A COMPLETAR POR LA CATEDRA\n",
    "puntos_parte_II += 15"
   ]
  },
  {
   "cell_type": "markdown",
   "id": "7920e10b",
   "metadata": {},
   "source": [
    "## Uso de GPT - Total 5 puntos  <a name=\"parte2.3\"></a>\n",
    "\n",
    "\n",
    "**Mostrá una solución (o partes de la misma) dada por ChatGPT a este ejercicio.** (2.5 pts.)"
   ]
  },
  {
   "cell_type": "code",
   "execution_count": null,
   "id": "7f3abde7",
   "metadata": {},
   "outputs": [],
   "source": [
    "# Código dado por ChatGPT\n",
    "import csv\n",
    "\n",
    "def leer_archivo(nombre_archivo):\n",
    "    with open(nombre_archivo, 'r') as archivo:\n",
    "        lector = csv.DictReader(archivo)\n",
    "        return list(lector)\n",
    "\n",
    "def usuarios_noche_materiales_clase(entradas, orden=None):\n",
    "    usuarios = set()\n",
    "    for entrada in entradas:\n",
    "        fecha_hora = entrada['Fecha y hora']\n",
    "        contexto = entrada['Contexto del evento']\n",
    "        usuario = entrada['Nombre del usuario']\n",
    "        if contexto == 'Página: Material de las clases' and es_noche(fecha_hora):\n",
    "            usuarios.add(usuario)\n",
    "    if orden == 'A':\n",
    "        return sorted(usuarios)\n",
    "    elif orden == 'D':\n",
    "        return sorted(usuarios, reverse=True)\n",
    "    else:\n",
    "        return usuarios\n",
    "\n",
    "def es_noche(fecha_hora):\n",
    "    hora = int(fecha_hora.split()[1].split(':')[0])\n",
    "    return hora >= 19 or hora < 7\n",
    "\n",
    "def mostrar_listado_usuarios(usuarios):\n",
    "    print('---------------------')\n",
    "    print('Usuario en el sistema')\n",
    "    print('---------------------')\n",
    "    for usuario in usuarios:\n",
    "        print(f'-----{usuario}-----')\n",
    "\n",
    "entradas = leer_archivo('log_catedras.csv')\n",
    "usuarios = usuarios_noche_materiales_clase(entradas, orden='A')\n",
    "mostrar_listado_usuarios(usuarios)\n"
   ]
  },
  {
   "cell_type": "markdown",
   "id": "9caf4a8f",
   "metadata": {},
   "source": [
    "**Respondé:** (2.5pts.)"
   ]
  },
  {
   "attachments": {},
   "cell_type": "markdown",
   "id": "92626791",
   "metadata": {},
   "source": [
    "1. **En la respuesta dada, ¿se incluyen funciones o métodos no dados por la cátedra?** (SI/NO)    NO"
   ]
  },
  {
   "attachments": {},
   "cell_type": "markdown",
   "id": "18c77963",
   "metadata": {},
   "source": [
    "2. **¿Es entendible el código y la explicación propuesta?** SI/NO SI"
   ]
  },
  {
   "attachments": {},
   "cell_type": "markdown",
   "id": "7ba932f2",
   "metadata": {},
   "source": [
    "3. **Según esta experiencia, ¿podés decir si  el ejercicio que te tocó corregir fue resuelto con la ayuda de ChatGPT? ¿En qué te basás para responder esto?**  No podria decir eso, ya que el chat en este caso no utilizo funciones tales como lambda o filter (que si fueron utilizadas por el compañero)"
   ]
  },
  {
   "attachments": {},
   "cell_type": "markdown",
   "id": "ed9fc632",
   "metadata": {},
   "source": [
    "4. **Utilizaste la ayuda de ChatGPT para escribir la solución alternativa?** (SI/NO) NO, intente utilizar la logica de las correcciones que hice para intentar replantear el ejercicio. "
   ]
  },
  {
   "cell_type": "markdown",
   "id": "6eeae749",
   "metadata": {},
   "source": [
    "5. **Si respondiste afirmativamente la respuesta anterior, ¿de qué forma lo usaste?**\n",
    "Posibles respuestas (podés mencionar otras): \n",
    "- \"Lo usé para arrancar, ya que no se me ocurrió otra solución.\"\n",
    "- \"Lo usé para  verificar si lo que había planteado era correcto.\"\n",
    "- \"Lo usé sólo para definir la armar el listado pedido.\"\n",
    "- \"Lo usé sólo para ver cómo procesar el archivo de acuerdo a lo pedido.\""
   ]
  },
  {
   "cell_type": "code",
   "execution_count": null,
   "id": "0229a240",
   "metadata": {},
   "outputs": [],
   "source": [
    "# Sumo puntos de la sección - A COMPLETAR POR LA CATEDRA - \n",
    "puntos_parte_II += 5"
   ]
  },
  {
   "cell_type": "markdown",
   "id": "b0ba1701",
   "metadata": {},
   "source": [
    "### Total puntos de la actividad"
   ]
  },
  {
   "cell_type": "code",
   "execution_count": null,
   "id": "8248b652",
   "metadata": {
    "scrolled": true
   },
   "outputs": [],
   "source": [
    "print(f\"Puntos actividad 1 - Parte II: {puntos_parte_II if puntos_parte_II >0 else 0}\")"
   ]
  }
 ],
 "metadata": {
  "kernelspec": {
   "display_name": "Python 3 (ipykernel)",
   "language": "python",
   "name": "python3"
  },
  "language_info": {
   "codemirror_mode": {
    "name": "ipython",
    "version": 3
   },
   "file_extension": ".py",
   "mimetype": "text/x-python",
   "name": "python",
   "nbconvert_exporter": "python",
   "pygments_lexer": "ipython3",
   "version": "3.11.2"
  }
 },
 "nbformat": 4,
 "nbformat_minor": 5
}
