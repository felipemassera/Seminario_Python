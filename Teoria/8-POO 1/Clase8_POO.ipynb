{
 "cells": [
  {
   "cell_type": "markdown",
   "id": "handed-string",
   "metadata": {
    "slideshow": {
     "slide_type": "slide"
    }
   },
   "source": [
    "# Seminario de Lenguajes - Python\n",
    "## Cursada 2023\n",
    "### Clase 8: conceptos de la POO"
   ]
  },
  {
   "cell_type": "markdown",
   "id": "racial-manner",
   "metadata": {
    "slideshow": {
     "slide_type": "slide"
    }
   },
   "source": [
    "# Pensemos en la siguiente situación:\n",
    "\n",
    "\n",
    "- En el trabajo integrador tenemos que registrar los datos de quienes interactúan con la aplicación.\n",
    "- Podemos pensar en una entidad \"Usuario\" con datos asociados tales como:\n",
    "        - nombre\n",
    "        - nick\n",
    "        - género\n",
    "        - edad\n",
    "- También podríamos pensar en:\n",
    "        - avatar\n",
    "        - ultimo_acceso\n",
    "        - paleta de colores elegida\n",
    "##  Con lo visto hasta el momento, ¿qué estructura de datos podemos elegir para representar a un usuario?"
   ]
  },
  {
   "cell_type": "markdown",
   "id": "senior-kentucky",
   "metadata": {
    "slideshow": {
     "slide_type": "subslide"
    }
   },
   "source": [
    "# Podríamos utilizar diccionarios"
   ]
  },
  {
   "cell_type": "code",
   "execution_count": null,
   "id": "aggressive-angola",
   "metadata": {
    "slideshow": {
     "slide_type": "fragment"
    }
   },
   "outputs": [],
   "source": [
    "usuario = {'nombre': 'Tony', 'nick': 'Ironman', \"genero\": \"masculino\", \"edad\": 40, \"avatar\": \"ironman.png\"}"
   ]
  },
  {
   "cell_type": "markdown",
   "id": "apart-density",
   "metadata": {
    "slideshow": {
     "slide_type": "fragment"
    }
   },
   "source": [
    "##  ¿Podemos asociar funcionalidades específicas a este \"usuario\"? \n",
    "\n",
    "Por ejemplo, **cambiar_nombre**, **registrar_actividad**, **ver_avatar**, etc."
   ]
  },
  {
   "cell_type": "markdown",
   "id": "massive-watts",
   "metadata": {
    "slideshow": {
     "slide_type": "subslide"
    }
   },
   "source": [
    "# Podríamos definir funciones para definir la funcionalidad asociada"
   ]
  },
  {
   "cell_type": "code",
   "execution_count": null,
   "id": "excessive-excess",
   "metadata": {
    "slideshow": {
     "slide_type": "fragment"
    }
   },
   "outputs": [],
   "source": [
    "def cambiar_nombre(usuario, nuevo_nombre):\n",
    "    \"\"\" Modifica el nombre del usuario\n",
    "    \n",
    "    usuario: representa al usuario con el que queremos operar\n",
    "    nuevo_nombre: un str con el nuevo nombre\n",
    "    \"\"\"\n",
    "    usuario[\"nombre\"] = nuevo_nombre"
   ]
  },
  {
   "cell_type": "markdown",
   "id": "accessible-airplane",
   "metadata": {
    "slideshow": {
     "slide_type": "subslide"
    }
   },
   "source": [
    "#  Pero...\n",
    "\n",
    "\n",
    "- ¿Podemos modificar a \"nuestro usuario\" sin utilizar estas funciones?\n",
    "- ¿Podemos decir que \"nuestro usuario\" es una **entidad** que **encapsula** tanto su estructura como la funcionalidad para manipularlo?"
   ]
  },
  {
   "cell_type": "markdown",
   "id": "7cc1c7f5",
   "metadata": {
    "slideshow": {
     "slide_type": "fragment"
    }
   },
   "source": [
    "Si...y no..."
   ]
  },
  {
   "cell_type": "markdown",
   "id": "determined-question",
   "metadata": {
    "slideshow": {
     "slide_type": "subslide"
    }
   },
   "source": [
    "# Hablemos de objetos ..."
   ]
  },
  {
   "cell_type": "markdown",
   "id": "complete-weight",
   "metadata": {
    "slideshow": {
     "slide_type": "subslide"
    }
   },
   "source": [
    "# Un objeto es una colección de datos con un comportamiento asociado en una única entidad\n",
    "<center>\n",
    "<img src=\"imagenes/objeto_usuario.png\" alt=\"Objeto Jugador\" style=\"width:350px;\"/>\n",
    "</center>"
   ]
  },
  {
   "cell_type": "markdown",
   "id": "working-central",
   "metadata": {
    "slideshow": {
     "slide_type": "subslide"
    }
   },
   "source": [
    "# Objetos\n",
    "\n",
    "- Son los elementos fundamentales de la POO.\n",
    "- Son entidades que poseen **estado interno** y **comportamiento**.\n",
    "<center>\n",
    "<img src=\"imagenes/objeto_usuario_cont.png\" alt=\"Objeto Jugador\" style=\"width:750px;\"/>\n",
    "</center>"
   ]
  },
  {
   "cell_type": "markdown",
   "id": "a0232d9f",
   "metadata": {
    "slideshow": {
     "slide_type": "subslide"
    }
   },
   "source": [
    "# Objetos\n",
    "\n",
    "\n",
    "- Ya vimos  que en Python **todos** los elementos con los que trabajamos son objetos.\n",
    "\n",
    "```\n",
    "\tcadena = \"Hola\"\n",
    "\tarchivo = open(\"archi.txt\")\n",
    "\n",
    "\tcadena.upper()\n",
    "\tarchivo.close()\n",
    "```\n",
    "\n",
    "- **cadena** y **archivo** referencian a  **objetos**.\n",
    "- **upper** y **close** forman parte del comportamiento de estos objetos: son **métodos**."
   ]
  },
  {
   "cell_type": "markdown",
   "id": "italian-hobby",
   "metadata": {
    "slideshow": {
     "slide_type": "subslide"
    }
   },
   "source": [
    "# POO: conceptos básicos\n",
    "\n",
    "- En POO un programa puede verse como un **conjunto de objetos** que interactúan entre ellos **enviándose mensajes**.\n",
    "- Estos mensajes están asociados al **comportamiento** del objeto (conjunto de **métodos**).\n",
    "<center>\n",
    "<img src=\"imagenes/envio_mensaje.png\" alt=\"Envío de mensajes\" style=\"width:650px;\"/>\n",
    "</center>\n"
   ]
  },
  {
   "cell_type": "markdown",
   "id": "subjective-authorization",
   "metadata": {
    "slideshow": {
     "slide_type": "slide"
    }
   },
   "source": [
    "# El mundo de los objetos \n",
    "\n",
    "<center>\n",
    "<img src=\"imagenes/objetos.png\" alt=\"Muchos objetos\" style=\"width:850px;\"/>\n",
    "</center>"
   ]
  },
  {
   "cell_type": "markdown",
   "id": "exclusive-speaker",
   "metadata": {
    "slideshow": {
     "slide_type": "fragment"
    }
   },
   "source": [
    "- ¿Qué representa cada objeto?\n",
    "- ¿Qué podemos decir de cada grupo de objetos?"
   ]
  },
  {
   "cell_type": "markdown",
   "id": "reserved-experiment",
   "metadata": {
    "slideshow": {
     "slide_type": "subslide"
    }
   },
   "source": [
    "# Objetos y clases\n",
    "\n",
    "- No todos los objetos son iguales, ni tienen el mismo comportamiento. \n",
    "- Así agrupamos a los objetos de acuerdo a características comunes.\n",
    "\n",
    ">**Una clase describe las propiedades o atributos de objetos y las acciones o métodos que pueden hacer o ejecutar dichos objetos.**\n"
   ]
  },
  {
   "cell_type": "markdown",
   "id": "refined-retention",
   "metadata": {
    "slideshow": {
     "slide_type": "fragment"
    }
   },
   "source": [
    "<center>\n",
    "<img src=\"imagenes/clases.png\" alt=\"Clases\" style=\"width:550px;\"/></center>"
   ]
  },
  {
   "cell_type": "markdown",
   "id": "arabic-athletics",
   "metadata": {
    "slideshow": {
     "slide_type": "subslide"
    }
   },
   "source": [
    "# Pensemos en la clase Usuario\n",
    "<center>\n",
    "<img src=\"imagenes/clase_usuario.png\" alt=\"clase Usuario\" style=\"width:250px;\"/>\n",
    "</center>\n",
    "\n",
    "- Cuando creamos un objeto, creamos una **instancia de la clase**.\n",
    "- Una **instancia** es un **objeto individualizado** por los valores que tomen sus atributos o propiedades.\n",
    "<center>\n",
    "<img src=\"imagenes/objeto_dibu.png\" alt=\"clase Usuario\" style=\"width:450px;\"/>\n",
    "</center>"
   ]
  },
  {
   "cell_type": "markdown",
   "id": "warming-rider",
   "metadata": {
    "slideshow": {
     "slide_type": "subslide"
    }
   },
   "source": [
    "- La **interfaz pública** del objeto está formada por las propiedades y métodos que otros objetos pueden usar para interactuar con él."
   ]
  },
  {
   "cell_type": "markdown",
   "id": "daily-teacher",
   "metadata": {
    "slideshow": {
     "slide_type": "fragment"
    }
   },
   "source": [
    "- ¿Qué pasa si todas las propiedades y métodos son privadas? ¿Y si son todas públicas?"
   ]
  },
  {
   "cell_type": "markdown",
   "id": "qualified-aerospace",
   "metadata": {
    "slideshow": {
     "slide_type": "slide"
    }
   },
   "source": [
    "# Clases en Python\n",
    "\n",
    "```python\n",
    "class NombreClase:\n",
    "    sentencias\n",
    "    ...\n",
    "```"
   ]
  },
  {
   "cell_type": "markdown",
   "id": "living-duncan",
   "metadata": {
    "slideshow": {
     "slide_type": "fragment"
    }
   },
   "source": [
    "- La [PEP 8](https://www.python.org/dev/peps/pep-0008/#class-names) sugieren usar CamelCase en el caso del nombre de las clases.\n",
    "- Al igual que las funciones, las clases **deben** estar definidas antes de que se utilicen.\n",
    "- Con la definición de una nueva clase se crea un nuevo **espacio de nombres**.\n"
   ]
  },
  {
   "cell_type": "markdown",
   "id": "inclusive-newton",
   "metadata": {
    "slideshow": {
     "slide_type": "fragment"
    }
   },
   "source": [
    "### ¿Cómo se crea una instancia de una clase?\n",
    "\n",
    "\n",
    "```python\n",
    "objeto =  NombreClase()\n",
    "\n",
    "```"
   ]
  },
  {
   "cell_type": "markdown",
   "id": "excellent-naples",
   "metadata": {
    "slideshow": {
     "slide_type": "subslide"
    }
   },
   "source": [
    "# La clase Usuario"
   ]
  },
  {
   "cell_type": "code",
   "execution_count": null,
   "id": "powerful-thumbnail",
   "metadata": {
    "slideshow": {
     "slide_type": "fragment"
    }
   },
   "outputs": [],
   "source": [
    "class Usuario():\n",
    "    \"\"\"Define la entidad que representa a un usuario en UNLPImage\"\"\"\n",
    "\n",
    "    #Propiedades\n",
    "    nombre = 'Tony Stark'\n",
    "    nick = 'Ironman'\n",
    "    avatar = None\n",
    "\n",
    "    #Métodos\n",
    "    def cambiar_nombre(self, nombre):\n",
    "        self.nombre = nombre"
   ]
  },
  {
   "cell_type": "markdown",
   "id": "chemical-platform",
   "metadata": {
    "slideshow": {
     "slide_type": "fragment"
    }
   },
   "source": [
    "- ¿self?"
   ]
  },
  {
   "cell_type": "markdown",
   "id": "5bbe24f6",
   "metadata": {
    "slideshow": {
     "slide_type": "fragment"
    }
   },
   "source": [
    "- ¿Qué quiere decir que Usuario tiene su propio espacio de nombres?"
   ]
  },
  {
   "cell_type": "markdown",
   "id": "textile-athens",
   "metadata": {
    "slideshow": {
     "slide_type": "subslide"
    }
   },
   "source": [
    "# Creamos las instancias"
   ]
  },
  {
   "cell_type": "code",
   "execution_count": null,
   "id": "confused-filter",
   "metadata": {
    "slideshow": {
     "slide_type": "fragment"
    }
   },
   "outputs": [],
   "source": [
    "tony = Usuario()\n",
    "print(tony.nombre)\n",
    "tony.cambiar_nombre(\"Tony\")\n",
    "print(tony.nombre)"
   ]
  },
  {
   "cell_type": "markdown",
   "id": "applied-switzerland",
   "metadata": {
    "slideshow": {
     "slide_type": "fragment"
    }
   },
   "source": [
    "- Observemos la línea 3: **tony.cambiar_nombre(\"Tony\")**\n",
    "    - Atención a la cantidad de parámetros pasados.\n",
    "- Cuando creamos otros objetos de clase **Usuario**, ¿qué particularidad tendrán?"
   ]
  },
  {
   "cell_type": "code",
   "execution_count": null,
   "id": "emotional-production",
   "metadata": {
    "slideshow": {
     "slide_type": "fragment"
    }
   },
   "outputs": [],
   "source": [
    "otro_usuario = Usuario()"
   ]
  },
  {
   "cell_type": "code",
   "execution_count": null,
   "id": "84b704b2",
   "metadata": {
    "slideshow": {
     "slide_type": "fragment"
    }
   },
   "outputs": [],
   "source": [
    "print(otro_usuario.nombre)"
   ]
  },
  {
   "cell_type": "markdown",
   "id": "challenging-english",
   "metadata": {
    "slideshow": {
     "slide_type": "subslide"
    }
   },
   "source": [
    "# Podemos parametrizar  la creación de objetos"
   ]
  },
  {
   "cell_type": "code",
   "execution_count": null,
   "id": "flexible-diamond",
   "metadata": {
    "slideshow": {
     "slide_type": "fragment"
    }
   },
   "outputs": [],
   "source": [
    "class Usuario():\n",
    "    \"\"\" Define la entidad que representa a un usuario en UNLPImage\"\"\"\n",
    "\n",
    "    def __init__(self, nom, alias):\n",
    "        self.nombre = nom\n",
    "        self.nick = alias\n",
    "        self.avatar = None\n",
    "    #Métodos\n",
    "    def cambiar_nombre(self, nombre):\n",
    "        self.nombre = nombre"
   ]
  },
  {
   "cell_type": "code",
   "execution_count": null,
   "id": "expected-teens",
   "metadata": {
    "slideshow": {
     "slide_type": "fragment"
    }
   },
   "outputs": [],
   "source": [
    "tony = Usuario('Tony Stark','Ironman')\n",
    "tony.cambiar_nombre(\"Tony\")"
   ]
  },
  {
   "cell_type": "markdown",
   "id": "foreign-lightning",
   "metadata": {
    "slideshow": {
     "slide_type": "fragment"
    }
   },
   "source": [
    "- El método **__init__() se invoca automáticamente** al crear el objeto."
   ]
  },
  {
   "cell_type": "markdown",
   "id": "coordinated-specialist",
   "metadata": {
    "slideshow": {
     "slide_type": "subslide"
    }
   },
   "source": [
    "# ¿Qué pasa si..?"
   ]
  },
  {
   "cell_type": "code",
   "execution_count": null,
   "id": "capital-samba",
   "metadata": {
    "slideshow": {
     "slide_type": "fragment"
    }
   },
   "outputs": [],
   "source": [
    "otro_usuario = Usuario()"
   ]
  },
  {
   "cell_type": "markdown",
   "id": "moving-depression",
   "metadata": {
    "slideshow": {
     "slide_type": "fragment"
    }
   },
   "source": [
    "## Podemos inicializar con valores por defecto"
   ]
  },
  {
   "cell_type": "code",
   "execution_count": null,
   "id": "verbal-treatment",
   "metadata": {
    "slideshow": {
     "slide_type": "subslide"
    }
   },
   "outputs": [],
   "source": [
    "class Usuario():\n",
    "    \"\"\" Define la entidad que representa a un usuario en UNLPImage\"\"\"\n",
    "\n",
    "    def __init__(self, nom=\"Tony Stark\", alias=\"Ironman\"):\n",
    "        self.nombre = nom\n",
    "        self.nick = alias\n",
    "        self.avatar = None\n",
    "    #Métodos\n",
    "    def cambiar_nombre(self, nombre):\n",
    "        self.nombre = nombre"
   ]
  },
  {
   "cell_type": "code",
   "execution_count": null,
   "id": "moderate-mount",
   "metadata": {
    "slideshow": {
     "slide_type": "fragment"
    }
   },
   "outputs": [],
   "source": [
    "tony = Usuario()\n",
    "bruce = Usuario(\"Bruce Wayne\", \"Batman\")\n",
    "print(tony.nombre)\n",
    "print(bruce.nombre)"
   ]
  },
  {
   "cell_type": "markdown",
   "id": "b9302bd4",
   "metadata": {
    "slideshow": {
     "slide_type": "subslide"
    }
   },
   "source": [
    "# Desafio\n",
    "\n",
    "> Estamos armando un curso y queremos modelar con clases los distintos recursos con los que vamos a trabajar. Cada recurso tiene un nombre, una URL donde está publicado, un tipo (para indicar si se encuentra en formato PDF, jupyter o video) y la fecha de su última modificación.  \n",
    "\n",
    "> Crear la clase para trabajar con estos datos."
   ]
  },
  {
   "cell_type": "markdown",
   "id": "8262ca58",
   "metadata": {
    "slideshow": {
     "slide_type": "subslide"
    }
   },
   "source": [
    "# Tarea para el hogar ..."
   ]
  },
  {
   "cell_type": "code",
   "execution_count": null,
   "id": "599cbc72",
   "metadata": {
    "slideshow": {
     "slide_type": "fragment"
    }
   },
   "outputs": [],
   "source": [
    "class Recurso:\n",
    "    ...\n",
    "    "
   ]
  },
  {
   "cell_type": "markdown",
   "id": "24bc92e3",
   "metadata": {
    "slideshow": {
     "slide_type": "fragment"
    }
   },
   "source": [
    "- ¿Qué debemos pensar?\n",
    "    - ¿Qué propiedades tiene un recurso?\n",
    "    - ¿Cuál es el comportamiento? ¿Cuáles son los métodos asociados?"
   ]
  },
  {
   "cell_type": "markdown",
   "id": "spare-marathon",
   "metadata": {
    "slideshow": {
     "slide_type": "slide"
    }
   },
   "source": [
    "# Observemos este código: ¿qué diferencia hay entre villanos y enemigos?"
   ]
  },
  {
   "cell_type": "code",
   "execution_count": null,
   "id": "understanding-chase",
   "metadata": {
    "slideshow": {
     "slide_type": "fragment"
    }
   },
   "outputs": [],
   "source": [
    "class SuperHeroe():\n",
    "    villanos = []\n",
    "\n",
    "    def __init__(self, nombre, alias):\n",
    "            self.nombre = nombre\n",
    "            self.enemigos = []\n",
    "            "
   ]
  },
  {
   "cell_type": "markdown",
   "id": "engaged-contributor",
   "metadata": {
    "slideshow": {
     "slide_type": "fragment"
    }
   },
   "source": [
    "- **villanos** es una **variable de clase** mientras que **enemigos** es una **variable de instancia**.\n",
    "- ¿Qué significa esto?"
   ]
  },
  {
   "cell_type": "markdown",
   "id": "fe98b6d8",
   "metadata": {
    "slideshow": {
     "slide_type": "subslide"
    }
   },
   "source": [
    "# Variables de instancia vs. de clase\n",
    "\n",
    "> Una **variable de instancia** es **exclusiva de cada instancia** u objeto.\n",
    "\n",
    "> Una **variable de clase** es única y es **compartida por todas las instancias** de la clase. \n",
    "\n"
   ]
  },
  {
   "cell_type": "markdown",
   "id": "mathematical-guinea",
   "metadata": {
    "slideshow": {
     "slide_type": "subslide"
    }
   },
   "source": [
    "# Veamos el ejemplo completo:"
   ]
  },
  {
   "cell_type": "code",
   "execution_count": null,
   "id": "mexican-spine",
   "metadata": {
    "slideshow": {
     "slide_type": "subslide"
    }
   },
   "outputs": [],
   "source": [
    "class SuperHeroe():\n",
    "    \"\"\" Esta clase  define a un superheroe \n",
    "    villanos:  representa a los enemigos de todos los superhéroes\n",
    "    \"\"\" \n",
    "    villanos = []\n",
    "        \n",
    "    def __init__(self, nombre, alias):\n",
    "        self.nombre = nombre\n",
    "        self.enemigos = []\n",
    "  \n",
    "    def get_enemigos(self):\n",
    "        return self.enemigos\n",
    "        \n",
    "    def agregar_enemigo(self, otro_enemigo):\n",
    "        \"Agrega un enemigo a los enemigos del superhéroe\"\n",
    "        \n",
    "        self.enemigos.append(otro_enemigo)\n",
    "        SuperHeroe.villanos.append(otro_enemigo)"
   ]
  },
  {
   "cell_type": "code",
   "execution_count": null,
   "id": "several-windsor",
   "metadata": {
    "slideshow": {
     "slide_type": "subslide"
    }
   },
   "outputs": [],
   "source": [
    "batman = SuperHeroe( \"Bruce Wayne\", \"Batman\")\n",
    "ironman = SuperHeroe( \"Tony Stark\", \"ironman\")\n",
    "\n",
    "batman.agregar_enemigo(\"Joker\")\n",
    "batman.agregar_enemigo(\"Pinguino\")\n",
    "batman.agregar_enemigo(\"Gatubela\")\n",
    "\n",
    "ironman.agregar_enemigo(\"Whiplash\")\n",
    "ironman.agregar_enemigo(\"Thanos\")"
   ]
  },
  {
   "cell_type": "code",
   "execution_count": null,
   "id": "d24600b2",
   "metadata": {
    "slideshow": {
     "slide_type": "subslide"
    }
   },
   "outputs": [],
   "source": [
    "# OJO que esta función  está FUERA de la clase\n",
    "def imprimo_villanos(nombre, lista_de_villanos):\n",
    "    \"imprime  la lista de todos los villanos de nombre\"\n",
    "    print(\"\\n\"+\"*\"*40)\n",
    "    print(f\"Los enemigos de {nombre}\")\n",
    "    print(\"*\"*40)\n",
    "    for malo in lista_de_villanos:\n",
    "        print(malo)\n"
   ]
  },
  {
   "cell_type": "code",
   "execution_count": null,
   "id": "foster-thomas",
   "metadata": {
    "slideshow": {
     "slide_type": "fragment"
    }
   },
   "outputs": [],
   "source": [
    "imprimo_villanos(batman.nombre, batman.get_enemigos())\n",
    "imprimo_villanos(ironman.nombre, ironman.get_enemigos())"
   ]
  },
  {
   "cell_type": "code",
   "execution_count": null,
   "id": "26261898",
   "metadata": {
    "slideshow": {
     "slide_type": "subslide"
    }
   },
   "outputs": [],
   "source": [
    "imprimo_villanos(\"todos los superhéroes\", SuperHeroe.villanos)"
   ]
  },
  {
   "cell_type": "markdown",
   "id": "adopted-album",
   "metadata": {
    "slideshow": {
     "slide_type": "subslide"
    }
   },
   "source": [
    "#  Python me permite cosas como éstas: "
   ]
  },
  {
   "cell_type": "code",
   "execution_count": null,
   "id": "french-scale",
   "metadata": {
    "slideshow": {
     "slide_type": "fragment"
    }
   },
   "outputs": [],
   "source": [
    "class SuperHeroe:\n",
    "    pass\n",
    "\n",
    "tony = SuperHeroe()  \n",
    "tony.nombre = \"Tony Stark\"\n",
    "tony.alias = \"Ironman\"\n",
    "tony.soy_Ironman = lambda : True if tony.alias == \"Ironman\" else False\n",
    "\n",
    "tony.soy_Ironman()\n",
    "#tony.nombre"
   ]
  },
  {
   "cell_type": "code",
   "execution_count": null,
   "id": "f77e1e8c",
   "metadata": {
    "slideshow": {
     "slide_type": "fragment"
    }
   },
   "outputs": [],
   "source": [
    "del tony.nombre\n",
    "tony.nombre"
   ]
  },
  {
   "cell_type": "markdown",
   "id": "cubic-elder",
   "metadata": {
    "slideshow": {
     "slide_type": "fragment"
    }
   },
   "source": [
    "- ¿Qué significa esto?"
   ]
  },
  {
   "cell_type": "markdown",
   "id": "living-machinery",
   "metadata": {
    "slideshow": {
     "slide_type": "fragment"
    }
   },
   "source": [
    "- ¡¡Aunque esto no sería lo más indicado de hacer!! ¿Por qué?"
   ]
  },
  {
   "cell_type": "markdown",
   "id": "accepting-clearing",
   "metadata": {
    "slideshow": {
     "slide_type": "subslide"
    }
   },
   "source": [
    "#  Volvamos a este código: ¿no hay algo que parece incorrecto?"
   ]
  },
  {
   "cell_type": "code",
   "execution_count": null,
   "id": "db25dd9e",
   "metadata": {
    "slideshow": {
     "slide_type": "fragment"
    }
   },
   "outputs": [],
   "source": [
    "class SuperHeroe():\n",
    "    villanos = []\n",
    "\n",
    "    def __init__(self, nombre, alias):\n",
    "            self.nombre = nombre\n",
    "            self.enemigos = []        "
   ]
  },
  {
   "cell_type": "code",
   "execution_count": null,
   "id": "43fc9fb4",
   "metadata": {
    "slideshow": {
     "slide_type": "fragment"
    }
   },
   "outputs": [],
   "source": [
    "batman = SuperHeroe(\"Bruce\", \"Batman\")\n",
    "print(batman.nombre)"
   ]
  },
  {
   "cell_type": "markdown",
   "id": "hollow-viewer",
   "metadata": {
    "slideshow": {
     "slide_type": "subslide"
    }
   },
   "source": [
    "# Público y privado\n",
    "\n",
    "- Antes de empezar a hablar de esto ....\n",
    "\n",
    "\"**“Private” instance variables that cannot be accessed except from inside an object don’t exist in Python.\"**\"\n",
    "\n",
    "- De nuevo.. en español..\n",
    "\n",
    "**\"Las variables «privadas» de instancia, que no pueden accederse excepto desde dentro de un objeto, no existen en Python\"\"**\n",
    "\n",
    "- ¿Y entonces?\n",
    "\n",
    "- Más info:  https://docs.python.org/3/tutorial/classes.html#private-variables"
   ]
  },
  {
   "cell_type": "markdown",
   "id": "immediate-brown",
   "metadata": {
    "slideshow": {
     "slide_type": "subslide"
    }
   },
   "source": [
    "# Hay una convención ..\n",
    "\n",
    "Es posible **definir el acceso** a determinados métodos y atributos de los objetos, quedando claro qué cosas se pueden y no se pueden utilizar desde **fuera de la clase**.\n"
   ]
  },
  {
   "cell_type": "markdown",
   "id": "addressed-titanium",
   "metadata": {
    "slideshow": {
     "slide_type": "fragment"
    }
   },
   "source": [
    "\n",
    "- **Por convención**, todo atributo (propiedad o método) que comienza con \"_\" se considera no público.\n",
    "- Pero esto no impide que se acceda. **Simplemente es una convención**."
   ]
  },
  {
   "cell_type": "markdown",
   "id": "cultural-february",
   "metadata": {
    "slideshow": {
     "slide_type": "subslide"
    }
   },
   "source": [
    "# Privado por convención"
   ]
  },
  {
   "cell_type": "code",
   "execution_count": null,
   "id": "confused-interest",
   "metadata": {
    "slideshow": {
     "slide_type": "fragment"
    }
   },
   "outputs": [],
   "source": [
    "class Usuario():\n",
    "    \"Define la entidad que representa a un usuario en UNLPImage\"\n",
    "    def __init__(self, nom=\"Sara Connor\", alias=\"mama_de_John\"):\n",
    "        self._nombre = nom\n",
    "        self.nick = alias\n",
    "        self.avatar = None\n",
    "    #Métodos\n",
    "    def cambiar_nombre(self, nuevo_nombre):\n",
    "        self._nombre = nuevo_nombre\n",
    "\n",
    "obj = Usuario()\n",
    "print(obj._nombre)"
   ]
  },
  {
   "cell_type": "markdown",
   "id": "frozen-assessment",
   "metadata": {
    "slideshow": {
     "slide_type": "fragment"
    }
   },
   "source": [
    "- Hay otra forma de indicar que algo no es \"tan\" público: agregando a los nombres de la variables o funciones, dos guiones **(__)** delante. "
   ]
  },
  {
   "cell_type": "markdown",
   "id": "streaming-tribune",
   "metadata": {
    "slideshow": {
     "slide_type": "subslide"
    }
   },
   "source": [
    "# Veamos este ejemplo: códigos secretos"
   ]
  },
  {
   "cell_type": "code",
   "execution_count": null,
   "id": "painted-senior",
   "metadata": {
    "slideshow": {
     "slide_type": "fragment"
    }
   },
   "outputs": [],
   "source": [
    "class CodigoSecreto:\n",
    "    '''¿¿¿Textos con clave??? '''\n",
    "\n",
    "    def __init__(self, texto_plano, clave_secreta):\n",
    "        self.__texto_plano = texto_plano\n",
    "        self.__clave_secreta = clave_secreta\n",
    "\n",
    "    def desencriptar(self, clave_secreta):\n",
    "        '''Solo se muestra el texto si la clave es correcta'''\n",
    "        \n",
    "        if clave_secreta == self.__clave_secreta:\n",
    "            return self.__texto_plano\n",
    "        else:\n",
    "            return ''"
   ]
  },
  {
   "cell_type": "markdown",
   "id": "portuguese-value",
   "metadata": {
    "slideshow": {
     "slide_type": "fragment"
    }
   },
   "source": [
    "- ¿Cuáles son las propiedades? ¿Públicas o privadas?\n",
    "- ¿Y los métodos?¿Públicos o privados?\n",
    "- ¿Cómo creo un objeto **CodigoSecreto**?"
   ]
  },
  {
   "cell_type": "markdown",
   "id": "level-concept",
   "metadata": {
    "slideshow": {
     "slide_type": "subslide"
    }
   },
   "source": [
    "# Codificamos textos\n",
    "\n",
    "\n",
    "```python\n",
    "class CodigoSecreto:\n",
    "    '''¿¿¿Textos con clave???? '''\n",
    "\n",
    "    def __init__(self, texto_plano, clave_secreta):\n",
    "        self.__texto_plano = texto_plano\n",
    "        self.__clave_secreta = clave_secreta\n",
    "\n",
    "    def desencriptar(self, clave_secreta):\n",
    "        '''Solo se muestra el texto si la clave es correcta'''\n",
    "        if clave_secreta == self.__clave_secreta:\n",
    "            return self.__texto_plano\n",
    "        else:\n",
    "            return ''\n",
    "```"
   ]
  },
  {
   "cell_type": "code",
   "execution_count": null,
   "id": "referenced-neighbor",
   "metadata": {
    "slideshow": {
     "slide_type": "fragment"
    }
   },
   "outputs": [],
   "source": [
    "texto_secreto = CodigoSecreto(\"Seminario Python\", \"stark\")"
   ]
  },
  {
   "cell_type": "code",
   "execution_count": null,
   "id": "c0b94abd",
   "metadata": {
    "slideshow": {
     "slide_type": "fragment"
    }
   },
   "outputs": [],
   "source": [
    "print(texto_secreto.desencriptar(\"stark\"))"
   ]
  },
  {
   "cell_type": "markdown",
   "id": "fifth-anthropology",
   "metadata": {
    "slideshow": {
     "slide_type": "subslide"
    }
   },
   "source": [
    "# ¿Qué pasa si quiero imprimir desde fuera de la clase: **texto_secreto.__texto_plano**?"
   ]
  },
  {
   "cell_type": "code",
   "execution_count": null,
   "id": "81d5a36b",
   "metadata": {
    "slideshow": {
     "slide_type": "fragment"
    }
   },
   "outputs": [],
   "source": [
    "print(texto_secreto.__texto_plano)"
   ]
  },
  {
   "cell_type": "markdown",
   "id": "interior-kentucky",
   "metadata": {
    "slideshow": {
     "slide_type": "fragment"
    }
   },
   "source": [
    "## Entonces, ¿sí es privado?"
   ]
  },
  {
   "cell_type": "markdown",
   "id": "qualified-explosion",
   "metadata": {
    "slideshow": {
     "slide_type": "subslide"
    }
   },
   "source": [
    "#  Códigos no tan secretos\n",
    "\n",
    "- Ahora, probemos esto:"
   ]
  },
  {
   "cell_type": "code",
   "execution_count": null,
   "id": "departmental-motion",
   "metadata": {
    "slideshow": {
     "slide_type": "fragment"
    }
   },
   "outputs": [],
   "source": [
    "print(texto_secreto._CodigoSecreto__texto_plano)"
   ]
  },
  {
   "cell_type": "markdown",
   "id": "august-clone",
   "metadata": {
    "slideshow": {
     "slide_type": "fragment"
    }
   },
   "source": [
    "- Todo identificador que comienza con **\"__\"**, por ejemplo **__texto_plano**, es reemplazado textualmente por **_NombreClase__**, por ejemplo: **_CodigoSecreto__texto_plano**.\n",
    "\n",
    "- [+Info](https://dbader.org/blog/meaning-of-underscores-in-python)"
   ]
  },
  {
   "cell_type": "markdown",
   "id": "dramatic-feedback",
   "metadata": {
    "slideshow": {
     "slide_type": "subslide"
    }
   },
   "source": [
    "# Entonces... respecto a lo público y privado\n",
    "\n",
    "## Respetaremos las convenciones\n",
    "\n",
    "- Si el nombre de una propiedad comienza con **\"_\"** será considerada privada. Por lo tanto no  podrá utilizarse directamente desde fuera de la clase.\n",
    "- Aquellas propiedades que consideramos públicas, las usaremos como tal. Es decir, que pueden utilizarse fuera de la clase."
   ]
  },
  {
   "cell_type": "code",
   "execution_count": null,
   "id": "ab7de277",
   "metadata": {
    "slideshow": {
     "slide_type": "fragment"
    }
   },
   "outputs": [],
   "source": [
    "class Usuario():\n",
    "    \"Define la entidad que representa a un usuario en UNLPImage\"\n",
    "    def __init__(self, nom=\"Sara Connor\", alias=\"mama_de_John\"):\n",
    "        self._nombre = nom\n",
    "        self.nick = alias\n",
    "        self._avatar = None\n",
    "    #Métodos\n",
    "    def cambiar_nombre(self, nuevo_nombre):\n",
    "        self._nombre = nuevo_nombre\n",
    "\n",
    "obj = Usuario()\n",
    "print(obj.nick)    "
   ]
  },
  {
   "cell_type": "markdown",
   "id": "38968d79",
   "metadata": {
    "slideshow": {
     "slide_type": "slide"
    }
   },
   "source": [
    "# getters y setters"
   ]
  },
  {
   "cell_type": "code",
   "execution_count": null,
   "id": "bc448d8a",
   "metadata": {},
   "outputs": [],
   "source": [
    "class Demo:\n",
    "    def __init__(self):\n",
    "        self._x = 0\n",
    "        self.y = 10\n",
    "\n",
    "    def get_x(self):\n",
    "        return self._x\n",
    "        \n",
    "    def set_x(self, value):\n",
    "        self._x = value"
   ]
  },
  {
   "cell_type": "markdown",
   "id": "ad88e82f",
   "metadata": {
    "slideshow": {
     "slide_type": "fragment"
    }
   },
   "source": [
    "- ¿Cuántas variables de instancia?\n",
    "- Por cada variable de instancia **no pública** tenemos un método **get** y un método **set**. O, como veremos más adelante: **propiedades**.\n"
   ]
  },
  {
   "cell_type": "markdown",
   "id": "industrial-screening",
   "metadata": {
    "slideshow": {
     "slide_type": "slide"
    }
   },
   "source": [
    "# Algunos métodos especiales\n",
    "\n",
    "Mencionamos antes que los \"__\" son especiales en Python. Por ejemplo, podemos definir métodos con estos nombres:\n",
    "\n",
    "- \\_\\_lt__, \\_\\_gt__, \\_\\_le__, \\_\\_ge__ \n",
    "- \\_\\_eq__, \\_\\_ne__\n",
    "\n",
    "En estos casos, estos métodos nos permiten comparar dos objetos con los símbolos correspondientes:\n",
    "\n",
    "- x<y invoca  x.\\_\\_lt\\_\\_(y),\n",
    "- x<=y invoca x.\\_\\_le\\_\\_(y), \n",
    "- x==y invoca x.\\_\\_eq\\_\\_(y), \n",
    "- x!=y invoca x.\\_\\_ne\\_\\_(y),\n",
    "- x>y invoca x.\\_\\_gt\\_\\_(y), \n",
    "- x>=y invoca x.\\_\\_ge\\_\\_(y)."
   ]
  },
  {
   "cell_type": "code",
   "execution_count": null,
   "id": "b1ccd8a9",
   "metadata": {
    "slideshow": {
     "slide_type": "subslide"
    }
   },
   "outputs": [],
   "source": [
    "class Banda():\n",
    "    \"\"\"    Define la entidad que representa a una banda   ..   \"\"\"\n",
    "    \n",
    "    def __init__(self, nombre, genero=\"rock\"):\n",
    "        self.nombre = nombre\n",
    "        self.genero = genero\n",
    "        self._integrantes = []\n",
    "  \n",
    "    def agregar_integrante(self, nuevo_integrante):\n",
    "        self._integrantes.append(nuevo_integrante)\n",
    "    \n",
    "    def __lt__(self, otra):\n",
    "        return len(self._integrantes) < len(otra._integrantes)"
   ]
  },
  {
   "cell_type": "markdown",
   "id": "781bb9aa",
   "metadata": {
    "slideshow": {
     "slide_type": "fragment"
    }
   },
   "source": [
    "- ¿Qué implementa el método **\\_\\_lt\\_\\_**?"
   ]
  },
  {
   "cell_type": "markdown",
   "id": "5e9abd34",
   "metadata": {
    "slideshow": {
     "slide_type": "fragment"
    }
   },
   "source": [
    "- ¿Cuándo una banda es \"menor\" que otra?"
   ]
  },
  {
   "cell_type": "code",
   "execution_count": null,
   "id": "4376036e",
   "metadata": {
    "slideshow": {
     "slide_type": "subslide"
    }
   },
   "outputs": [],
   "source": [
    "soda = Banda(\"Soda Stereo\")\n",
    "soda.agregar_integrante(\"Gustavo Ceratti\")\n",
    "soda.agregar_integrante(\"Zeta Bosio\")\n",
    "soda.agregar_integrante(\"Charly Alberti\")\n",
    "\n",
    "seru = Banda(\"Seru Giran\")\n",
    "seru.agregar_integrante(\"Charly García)\")\n",
    "seru.agregar_integrante(\"David Lebon)\")\n",
    "seru.agregar_integrante(\"Oscar Moro)\")\n",
    "seru.agregar_integrante(\"Pedro Aznar)\")"
   ]
  },
  {
   "cell_type": "code",
   "execution_count": null,
   "id": "a0da9369",
   "metadata": {},
   "outputs": [],
   "source": [
    "menor = soda.nombre if soda < seru else seru.nombre\n",
    "menor"
   ]
  },
  {
   "cell_type": "markdown",
   "id": "6ebe9ee4",
   "metadata": {
    "slideshow": {
     "slide_type": "subslide"
    }
   },
   "source": [
    "# El método \\_\\_str\\_\\_\n",
    "\n",
    "Retorna una cadena de caracteres (**str**) con la representación que querramos mostrar del objeto. "
   ]
  },
  {
   "cell_type": "code",
   "execution_count": null,
   "id": "fea64304",
   "metadata": {
    "slideshow": {
     "slide_type": "fragment"
    }
   },
   "outputs": [],
   "source": [
    "class Banda():\n",
    "    \"\"\"    Define la entidad que representa a una banda .. \"\"\"\n",
    "    \n",
    "    def __init__(self, nombre, genero=\"rock\"):\n",
    "        self.nombre = nombre\n",
    "        self.genero = genero\n",
    "        self._integrantes = []\n",
    "\n",
    "    def agregar_integrante(self, nuevo_integrante):\n",
    "        self._integrantes.append(nuevo_integrante)\n",
    "    \n",
    "    def __str__(self):\n",
    "        return (f\"{self.nombre} está integrada por {self._integrantes}\")"
   ]
  },
  {
   "cell_type": "code",
   "execution_count": null,
   "id": "b3febd5b",
   "metadata": {
    "slideshow": {
     "slide_type": "subslide"
    }
   },
   "outputs": [],
   "source": [
    "soda = Banda(\"Soda Stereo\")\n",
    "soda.agregar_integrante(\"Gustavo Ceratti\")\n",
    "soda.agregar_integrante(\"Zeta Bosio\")\n",
    "soda.agregar_integrante(\"Charly Alberti\")\n",
    "\n",
    "print(soda)"
   ]
  },
  {
   "cell_type": "markdown",
   "id": "2c7517f2",
   "metadata": {
    "slideshow": {
     "slide_type": "fragment"
    }
   },
   "source": [
    "[-Info](https://docs.python.org/3/reference/datamodel.html#special-method-names)"
   ]
  },
  {
   "cell_type": "markdown",
   "id": "charming-recycling",
   "metadata": {
    "slideshow": {
     "slide_type": "slide"
    }
   },
   "source": [
    "# Seguimos la próxima ..."
   ]
  }
 ],
 "metadata": {
  "celltoolbar": "Slideshow",
  "kernelspec": {
   "display_name": "Python 3 (ipykernel)",
   "language": "python",
   "name": "python3"
  },
  "language_info": {
   "codemirror_mode": {
    "name": "ipython",
    "version": 3
   },
   "file_extension": ".py",
   "mimetype": "text/x-python",
   "name": "python",
   "nbconvert_exporter": "python",
   "pygments_lexer": "ipython3",
   "version": "3.11.3"
  }
 },
 "nbformat": 4,
 "nbformat_minor": 5
}
