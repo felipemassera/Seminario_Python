{
 "cells": [
  {
   "cell_type": "markdown",
   "id": "younger-ready",
   "metadata": {
    "slideshow": {
     "slide_type": "slide"
    }
   },
   "source": [
    "# Seminario de Lenguajes - Python\n",
    "## Cursada 2023\n",
    "### Clase 7: continuamos con las excepciones"
   ]
  },
  {
   "cell_type": "markdown",
   "id": "amazing-catholic",
   "metadata": {
    "slideshow": {
     "slide_type": "subslide"
    }
   },
   "source": [
    "# Recordemos: ¿qué es un excepción?"
   ]
  },
  {
   "cell_type": "markdown",
   "id": "196e268d",
   "metadata": {
    "slideshow": {
     "slide_type": "fragment"
    }
   },
   "source": [
    ">Una **excepción** es un acontecimiento, que **ocurre durante la ejecución** de un programa, que **interrumpe** el **flujo normal** de las instrucciones del programa. "
   ]
  },
  {
   "cell_type": "markdown",
   "id": "63e4d936",
   "metadata": {
    "slideshow": {
     "slide_type": "slide"
    }
   },
   "source": [
    "## Desafío 1: analicemos este código\n",
    "\n",
    "¿Dónde se puede producir una excepción? ¿Cuál o cuáles?"
   ]
  },
  {
   "cell_type": "code",
   "execution_count": null,
   "id": "c46b1060",
   "metadata": {
    "slideshow": {
     "slide_type": "subslide"
    }
   },
   "outputs": [],
   "source": [
    "mi_musica = {70: [\"Stairway to heaven\", \"Bohemian Rhapsody\"],\n",
    "             80: [\"Dancing in the dark\", \"Welcome to the jungle\", \"Under pressure\"],\n",
    "             2000:(\"Given up\", \"The pretender\")}\n",
    "\n",
    "tema = input(\"Ingresá un nuevo tema (FIN para terminar): \")\n",
    "while tema !=\"FIN\":\n",
    "    decada = int(input(\"ingresá a qué década pertenece: \"))\n",
    "    mi_musica[decada].append(tema)\n",
    "\n",
    "    tema = input(\"Ingresá un nuevo tema (FIN para terminar): \")"
   ]
  },
  {
   "cell_type": "markdown",
   "id": "muslim-minute",
   "metadata": {
    "slideshow": {
     "slide_type": "subslide"
    }
   },
   "source": [
    "# Excepciones en Python\n",
    "Habíamos visto la siguiente estructura:\n",
    "\n",
    "```python\n",
    "\n",
    "try:\n",
    "    sentencias\n",
    "except nombreExcepción:\n",
    "    sentencias\n",
    "except nombreExcepción:\n",
    "    sentencias\n",
    "except:\n",
    "```\n",
    "\n",
    "- [+Info](https://docs.python.org/3/library/exceptions.html)"
   ]
  },
  {
   "cell_type": "markdown",
   "id": "32da064f",
   "metadata": {
    "slideshow": {
     "slide_type": "subslide"
    }
   },
   "source": [
    "#  ¿Cómo incluímos el manejo de excepciones en nuestro código?\n",
    "### Analicemos esta solución al desafío: "
   ]
  },
  {
   "cell_type": "code",
   "execution_count": null,
   "id": "8377e7e2",
   "metadata": {
    "slideshow": {
     "slide_type": "subslide"
    }
   },
   "outputs": [],
   "source": [
    "mi_musica = {70: [\"Stairway to heaven\", \"Bohemian Rhapsody\"],\n",
    "             80: [\"Dancing in the dark\", \"Welcome to the jungle\", \"Under pressure\"],\n",
    "             2000:(\"Given up\", \"The pretender\")}\n",
    "\n",
    "tema = input(\"Ingresá un nuevo tema (FIN para terminar): \")\n",
    "while tema !=\"FIN\":\n",
    "    try:\n",
    "        decada = int(input(\"ingresá a qué década pertenece: \"))\n",
    "        mi_musica[decada].append(tema)\n",
    "    except ValueError:\n",
    "        print(\"Para ingresar la decada, tenés que ingresar un número. Empecemos de nuevo...\")\n",
    "    except KeyError:\n",
    "        print(\"\"\"Por ahora, sólo tengo registradas las décadas: 70, 80 y 2000. Ingresá una de ellas. \n",
    "                 Empecemos de nuevo...\"\"\")\n",
    "    except:\n",
    "        print(\"Ups! Hubo un error inesperado... Intentá de nuevo\")\n",
    "        # Esto no lo vamos a poder resolver ingresando nuevamente\n",
    "\n",
    "    tema = input(\"Ingresá un nuevo tema (FIN para terminar): \")"
   ]
  },
  {
   "cell_type": "markdown",
   "id": "above-former",
   "metadata": {
    "slideshow": {
     "slide_type": "subslide"
    }
   },
   "source": [
    "# Repasemos un poco más con este otro ejemplo:"
   ]
  },
  {
   "cell_type": "code",
   "execution_count": null,
   "id": "7e5ea8cc",
   "metadata": {
    "slideshow": {
     "slide_type": "subslide"
    }
   },
   "outputs": [],
   "source": [
    "dicci = {1980:\"Soda Stereo\", 2010:\"Jauria\", 1990:\"Los Piojos\"}"
   ]
  },
  {
   "cell_type": "code",
   "execution_count": null,
   "id": "historic-accused",
   "metadata": {
    "slideshow": {
     "slide_type": "fragment"
    }
   },
   "outputs": [],
   "source": [
    "try:\n",
    "    print(\"Entrando al primer try ...\")\n",
    "    clave = 1970\n",
    "    try:\n",
    "        print (f\"La mejor banda de {clave} es {dicci[clave]}\")\n",
    "    except NameError:\n",
    "        print(\"TRY INTERNO: clave inexistente.\")\n",
    "    \n",
    "    print(\"Saliendo del primer try ... \")\n",
    "\n",
    "except KeyError:\n",
    "        print(\"TRY EXTERNO: clave inexistente.\")\n",
    "print('Sigo con mi programa....')"
   ]
  },
  {
   "cell_type": "markdown",
   "id": "proprietary-sharp",
   "metadata": {
    "slideshow": {
     "slide_type": "fragment"
    }
   },
   "source": [
    "- ¿Se ejecuta línea 9?"
   ]
  },
  {
   "cell_type": "markdown",
   "id": "endangered-minute",
   "metadata": {
    "slideshow": {
     "slide_type": "subslide"
    }
   },
   "source": [
    "### El ejemplo demuestra que Python aplica el mecanismo de TERMINACIÓN."
   ]
  },
  {
   "cell_type": "markdown",
   "id": "harmful-bread",
   "metadata": {
    "slideshow": {
     "slide_type": "subslide"
    }
   },
   "source": [
    "# ¿Cómo es la forma de **propagación** que utiliza Python?\n",
    "\n",
    "- Primero busca **estáticamente**.\n",
    "- Si no se encuentra, busca **dinámicamente** a quién llamó a la función.\n",
    "- Si no encuentra un manejador... entonces termina el programa ... con error.."
   ]
  },
  {
   "cell_type": "code",
   "execution_count": null,
   "id": "f471b5fe",
   "metadata": {
    "slideshow": {
     "slide_type": "subslide"
    }
   },
   "outputs": [],
   "source": [
    "dicci = {1980:\"Soda Stereo\", 2010:\"Jauria\", 1990:\"Los Piojos\"}"
   ]
  },
  {
   "cell_type": "code",
   "execution_count": null,
   "id": "1522839b",
   "metadata": {
    "slideshow": {
     "slide_type": "fragment"
    }
   },
   "outputs": [],
   "source": [
    "def super_bandas(clave):\n",
    "    try:\n",
    "        return dicci[clave] \n",
    "    except NameError:\n",
    "        print(\"Ups! Hay un problema con algo mal definido.\")\n",
    "\n",
    "try:\n",
    "    print(\"Entrando al primer try ...\")\n",
    "    clave = 1970\n",
    "    try:\n",
    "        print (f\"La mejor banda de {clave} es {super_bandas(clave)}\")\n",
    "    except KeyError:\n",
    "        print(\"TRY INTERNO: clave inexistente.\")\n",
    "   \n",
    "    print(\"Saliendo del primer try ... \")\n",
    "\n",
    "except KeyError:\n",
    "        print(\"TRY EXTERNO: clave inexistente.\")\n",
    "print('Sigo con mi programa....')"
   ]
  },
  {
   "cell_type": "markdown",
   "id": "meaningful-rwanda",
   "metadata": {
    "slideshow": {
     "slide_type": "subslide"
    }
   },
   "source": [
    "# Recordemos lo planteado la clase pasada: ¿qué debemos investigar para trabajar con  excepciones?\n",
    "\n",
    "- ¿Qué acción se toma después de levantada y manejada una excepción? ¿Se continúa con la ejecución de la unidad que lo provocó o se termina?\n",
    "- ¿Cómo se alcanza una excepción? \n",
    "- ¿Cómo especificar los manejadores de excepciones que se deben ejecutar cuando se alcanzan las mismas?\n",
    "- ¿Qué sucede cuando no se encuentra un manejador para una excepción levantada?\n",
    "- ¿El lenguaje tiene excepciones predefinidas?\n",
    "- ¿Podemos levantar en forma explícita una excepción?\n",
    "- ¿Podemos crear nuestras propias excepciones?"
   ]
  },
  {
   "cell_type": "markdown",
   "id": "suspended-canon",
   "metadata": {
    "slideshow": {
     "slide_type": "subslide"
    }
   },
   "source": [
    "# La sentencia completa\n",
    "\n",
    "```python\n",
    "try:\n",
    "    sentencias\n",
    "except excepcion1, excepcion2:\n",
    "    sentencias\n",
    "except:\n",
    "    sentencias\n",
    "else:\n",
    "    sentencias\n",
    "finally:\n",
    "    sentencias\n",
    "    \n",
    "```"
   ]
  },
  {
   "cell_type": "markdown",
   "id": "b344bae4",
   "metadata": {
    "slideshow": {
     "slide_type": "fragment"
    }
   },
   "source": [
    "### Teníamos una tarea...."
   ]
  },
  {
   "cell_type": "markdown",
   "id": "193d8775",
   "metadata": {
    "slideshow": {
     "slide_type": "subslide"
    }
   },
   "source": [
    "# Veamos este ejemplo sencillo"
   ]
  },
  {
   "cell_type": "code",
   "execution_count": null,
   "id": "generous-albert",
   "metadata": {
    "slideshow": {
     "slide_type": "fragment"
    }
   },
   "outputs": [],
   "source": [
    "XY = 10\n",
    "try:\n",
    "    print(XY)\n",
    "except NameError:\n",
    "    print(\"Usaste una variable que no está definida\")\n",
    "else:\n",
    "    print(\"Este mensaje se imprime porque  NO se levantó la excepción\")\n",
    "finally:\n",
    "    print(\"Este mensaje se imprime SIEMPRE\")"
   ]
  },
  {
   "cell_type": "markdown",
   "id": "fe3440b2",
   "metadata": {
    "slideshow": {
     "slide_type": "fragment"
    }
   },
   "source": [
    "### Entonces, ¿para qué usamos else y finally?"
   ]
  },
  {
   "cell_type": "markdown",
   "id": "bf726fb3",
   "metadata": {
    "slideshow": {
     "slide_type": "subslide"
    }
   },
   "source": [
    "# else y finally\n",
    "\n",
    "\n",
    ">Se utiliza la cláusula **else** para incluir el código que se debería ejecutar si **no se levanta ninguna excepción** en el bloque try..except.\n",
    "\n",
    ">Se utiliza la cláusula **finally** para incluir el código que se ejecuta **siempre**, independientemente si se levanta o no alguna excepción en el bloque try..except"
   ]
  },
  {
   "cell_type": "markdown",
   "id": "indonesian-reducing",
   "metadata": {
    "slideshow": {
     "slide_type": "subslide"
    }
   },
   "source": [
    "# Observemos el bloque finally en este otro ejemplo:"
   ]
  },
  {
   "cell_type": "code",
   "execution_count": null,
   "id": "6be6d8a3",
   "metadata": {
    "slideshow": {
     "slide_type": "subslide"
    }
   },
   "outputs": [],
   "source": [
    "dicci = {1980:\"Soda Stereo\", 2010:\"Jauria\", 1990:\"Los Piojos\"}"
   ]
  },
  {
   "cell_type": "code",
   "execution_count": null,
   "id": "bottom-clause",
   "metadata": {
    "slideshow": {
     "slide_type": "fragment"
    }
   },
   "outputs": [],
   "source": [
    "try:\n",
    "    print(\"Entrando al primer try ...\")\n",
    "    clave = 1970\n",
    "    try:\n",
    "        print (f\"La mejor banda de {clave} es {dicci[clave]}\")\n",
    "    except NameError:\n",
    "        print(\"TRY INTERNO: clave inexistente.\")\n",
    "    finally:\n",
    "        print(\"Saliendo del primer try ... \")\n",
    "\n",
    "except KeyError:\n",
    "        print(\"TRY EXTERNO: clave inexistente.\")\n",
    "print('Sigo con mi programa....')"
   ]
  },
  {
   "cell_type": "markdown",
   "id": "handed-wednesday",
   "metadata": {
    "slideshow": {
     "slide_type": "fragment"
    }
   },
   "source": [
    "- Podemos observar que la línea 9 ahora se ejecuta. "
   ]
  },
  {
   "cell_type": "markdown",
   "id": "religious-rehabilitation",
   "metadata": {
    "slideshow": {
     "slide_type": "slide"
    }
   },
   "source": [
    "# Podemos levantar explícitamente excepciones"
   ]
  },
  {
   "cell_type": "code",
   "execution_count": null,
   "id": "96ef702a",
   "metadata": {
    "slideshow": {
     "slide_type": "subslide"
    }
   },
   "outputs": [],
   "source": [
    "dicci = {1980:\"Soda Stereo\", 2010:\"Jauria\", 1990:\"Los Piojos\"}"
   ]
  },
  {
   "cell_type": "code",
   "execution_count": null,
   "id": "established-diversity",
   "metadata": {
    "slideshow": {
     "slide_type": "fragment"
    }
   },
   "outputs": [],
   "source": [
    "try:\n",
    "    print ('Entramos al bloque try')\n",
    "    for x in [1980, 1990, 2000, 2005, 2010]:\n",
    "        if x == 2000:\n",
    "            raise KeyError\n",
    "        else:\n",
    "            print(dicci[x])\n",
    "    print('Continuamos con el proceso..')\n",
    "except KeyError:\n",
    "    dicci[x] = 'NUEVO'\n",
    "\n",
    "dicci"
   ]
  },
  {
   "cell_type": "markdown",
   "id": "5b76c9fb",
   "metadata": {
    "slideshow": {
     "slide_type": "fragment"
    }
   },
   "source": [
    "¿Por qué no continúa con la iteración e ingresa un elemento con clave 2005?"
   ]
  },
  {
   "cell_type": "markdown",
   "id": "meaning-skirt",
   "metadata": {
    "slideshow": {
     "slide_type": "subslide"
    }
   },
   "source": [
    "# También es posible:"
   ]
  },
  {
   "cell_type": "code",
   "execution_count": null,
   "id": "waiting-change",
   "metadata": {
    "slideshow": {
     "slide_type": "fragment"
    }
   },
   "outputs": [],
   "source": [
    "try:\n",
    "    for x in [1980, 1990, 2000, 2005, 2010]:\n",
    "        if x == 2000:\n",
    "            raise\n",
    "        else:\n",
    "            print(dicci[x])\n",
    "    print('Continuamos con el proceso..')\n",
    "except KeyError:\n",
    "    dicci[x] = 'NUEVO'\n",
    "    print(\"Manejando KeyError\")"
   ]
  },
  {
   "cell_type": "markdown",
   "id": "published-spending",
   "metadata": {
    "slideshow": {
     "slide_type": "fragment"
    }
   },
   "source": [
    "- ¿Qué excepción se levantó?"
   ]
  },
  {
   "cell_type": "markdown",
   "id": "statewide-shelf",
   "metadata": {
    "slideshow": {
     "slide_type": "subslide"
    }
   },
   "source": [
    "- **raise**: vuelve a lanzar la última excepción que estaba activa en el ámbito actual. Si no hay ninguna excepción activa en el alcance actual, se lanza una **RuntimeError** que indica que se trata de un error."
   ]
  },
  {
   "cell_type": "code",
   "execution_count": null,
   "id": "greater-vessel",
   "metadata": {
    "slideshow": {
     "slide_type": "fragment"
    }
   },
   "outputs": [],
   "source": [
    "try:\n",
    "    print ('Entramos al TRY EXTERNO')\n",
    "    try:\n",
    "        print(\"Entramos TRY INTERNO\")\n",
    "        for x in [1980, 1990, 2000, 2005, 2010]:\n",
    "            if x == 2000:\n",
    "                raise KeyError\n",
    "            else:\n",
    "                print(dicci[x])\n",
    "        print('Continuamos con el proceso..')\n",
    "    except KeyError:\n",
    "        print(\"Manejando KeyError en el TRY INTERNO\")\n",
    "        raise\n",
    "except KeyError:\n",
    "    print(\"Manejando KeyError en el TRY EXTERNO\")\n",
    "except:\n",
    "    print(\"Esto es por cualquier otra...\")"
   ]
  },
  {
   "cell_type": "markdown",
   "id": "heated-neighbor",
   "metadata": {
    "slideshow": {
     "slide_type": "subslide"
    }
   },
   "source": [
    "# Algunas de las excepciones predefinidas (Built-in)\n",
    "\t\n",
    "- **ImportError**: error con importación de módulos.\n",
    "- **ModuleNotFoundError**: error por módulo no encontrado.\n",
    "- **IndexError**: error por índice fuera de rango.\n",
    "- **KeyError**: error por clave inexistente.\n",
    "- **NameError**: error por nombre no encontrado.\n",
    "- **SyntaxError**: error por problemas sintácticos\n",
    "- **ZeroDivisionError**: error por división por cero.\n",
    "- **IOError**: error en entrada salida.\n",
    "\n",
    "\n",
    "[Listado completo](https://docs.python.org/3/library/exceptions.html)"
   ]
  },
  {
   "cell_type": "markdown",
   "id": "spoken-stomach",
   "metadata": {
    "slideshow": {
     "slide_type": "subslide"
    }
   },
   "source": [
    "# ¿Es posible acceder a la información de contexto de la excepción?"
   ]
  },
  {
   "cell_type": "code",
   "execution_count": null,
   "id": "71bdca4d",
   "metadata": {
    "slideshow": {
     "slide_type": "fragment"
    }
   },
   "outputs": [],
   "source": [
    "dicci = {1980:\"Soda Stereo\", 2010:\"Jauria\", 1990:\"Los Piojos\"}"
   ]
  },
  {
   "cell_type": "code",
   "execution_count": null,
   "id": "f9e9895f",
   "metadata": {
    "slideshow": {
     "slide_type": "fragment"
    }
   },
   "outputs": [],
   "source": [
    "try:\n",
    "    print ('Entramos al bloque try')\n",
    "    for x in [1980, 1990, 2000, 2005, 2010]:\n",
    "        print(dicci[x])\n",
    "    print('Continuamos con el proceso..')\n",
    "except KeyError as exc:\n",
    "    dicci[x] = 'NUEVO'\n",
    "    datos_exc = exc\n",
    "    #import sys\n",
    "    #print(sys.exc_info())\n",
    "print(datos_exc)"
   ]
  },
  {
   "cell_type": "markdown",
   "id": "coral-springfield",
   "metadata": {
    "slideshow": {
     "slide_type": "fragment"
    }
   },
   "source": [
    "- **sys.exc_info()** "
   ]
  },
  {
   "cell_type": "code",
   "execution_count": null,
   "id": "corresponding-harrison",
   "metadata": {
    "slideshow": {
     "slide_type": "notes"
    }
   },
   "outputs": [],
   "source": [
    "x = 10\n",
    "y = 0\n",
    "try:\n",
    "    z = x/y\n",
    "except ZeroDivisionError as e:\n",
    "    z = e  \n",
    "print(z) "
   ]
  },
  {
   "cell_type": "markdown",
   "id": "headed-transport",
   "metadata": {
    "slideshow": {
     "slide_type": "slide"
    }
   },
   "source": [
    "# En resumen:\n",
    "\n",
    "\n",
    "```python\n",
    "try:\n",
    "    sentencias\n",
    "except excepcion1, excepcion2:\n",
    "    sentencias\n",
    "except excepcion3 as variable:\n",
    "    sentencias\n",
    "except:\n",
    "    sentencias\n",
    "else:\n",
    "    sentencias\n",
    "finally:\n",
    "    sentencias\n",
    "    \n",
    "```\n"
   ]
  },
  {
   "cell_type": "markdown",
   "id": "prescription-simulation",
   "metadata": {
    "slideshow": {
     "slide_type": "slide"
    }
   },
   "source": [
    "# Hacemos una autoevaluación de lo visto"
   ]
  }
 ],
 "metadata": {
  "celltoolbar": "Slideshow",
  "kernelspec": {
   "display_name": "Python 3 (ipykernel)",
   "language": "python",
   "name": "python3"
  },
  "language_info": {
   "codemirror_mode": {
    "name": "ipython",
    "version": 3
   },
   "file_extension": ".py",
   "mimetype": "text/x-python",
   "name": "python",
   "nbconvert_exporter": "python",
   "pygments_lexer": "ipython3",
   "version": "3.11.3"
  }
 },
 "nbformat": 4,
 "nbformat_minor": 5
}
