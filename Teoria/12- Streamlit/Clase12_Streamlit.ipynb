{
 "cells": [
  {
   "cell_type": "markdown",
   "metadata": {
    "id": "9io7UHUBh_GF",
    "slideshow": {
     "slide_type": "slide"
    }
   },
   "source": [
    "# Seminario de Lenguajes - Python\n",
    "## Cursada 2023\n",
    "### Clase 11: analizamos películas\n"
   ]
  },
  {
   "cell_type": "markdown",
   "metadata": {
    "id": "9io7UHUBh_GF",
    "slideshow": {
     "slide_type": "slide"
    }
   },
   "source": [
    "El material de esta clase fue desarrollado en el marco del proyecto **\"Ciencia de Datos en la escuela\"**.\n",
    "\n",
    "Se puede descargar desde https://ciencia_datos_escuela.gitlab.io/, donde también hay más ejemplos. \n",
    "\n",
    "Vamos a mostrar otra herramienta para graficar: [plotly](https://plotly.com/python/)\n"
   ]
  },
  {
   "cell_type": "markdown",
   "metadata": {
    "id": "9io7UHUBh_GF",
    "slideshow": {
     "slide_type": "fragment"
    }
   },
   "source": [
    "\n",
    "Vamos a trabajar con:\n",
    "- https://www.kaggle.com/datasets/shivamb/netflix-shows"
   ]
  },
  {
   "cell_type": "markdown",
   "metadata": {
    "id": "eOpyY0tcrqaZ",
    "slideshow": {
     "slide_type": "slide"
    }
   },
   "source": [
    "## Preparando el dataset de Netflix\n",
    "<a name= preparando-el-dataset-de-netflix ></a>\n"
   ]
  },
  {
   "cell_type": "code",
   "execution_count": null,
   "metadata": {
    "id": "4xnbgYwmiHn4",
    "slideshow": {
     "slide_type": "fragment"
    }
   },
   "outputs": [],
   "source": [
    "import pandas as pd\n",
    "import plotly.express as px"
   ]
  },
  {
   "cell_type": "code",
   "execution_count": null,
   "metadata": {
    "id": "9LzOovpHjlWL",
    "slideshow": {
     "slide_type": "fragment"
    }
   },
   "outputs": [],
   "source": [
    "netflix_completo = pd.read_csv(\"netflix_titles.csv\")"
   ]
  },
  {
   "cell_type": "code",
   "execution_count": null,
   "metadata": {
    "id": "hjBCtm9-jy5U",
    "slideshow": {
     "slide_type": "fragment"
    }
   },
   "outputs": [],
   "source": [
    "netflix_completo.columns"
   ]
  },
  {
   "cell_type": "code",
   "execution_count": null,
   "metadata": {
    "slideshow": {
     "slide_type": "fragment"
    }
   },
   "outputs": [],
   "source": [
    "netflix_completo.head()"
   ]
  },
  {
   "cell_type": "markdown",
   "metadata": {
    "id": "GpbtyF-0lgy6",
    "slideshow": {
     "slide_type": "subslide"
    }
   },
   "source": [
    "Vemos que hay  filas que tienen valores NaN, lo que significa que no hay un valor, para lo cual usamos el método [dropna](https://pandas.pydata.org/docs/reference/api/pandas.DataFrame.dropna.html) que elimina las filas que contienen este tipo de valores. "
   ]
  },
  {
   "cell_type": "code",
   "execution_count": null,
   "metadata": {
    "id": "51mmnhHclgTp",
    "slideshow": {
     "slide_type": "fragment"
    }
   },
   "outputs": [],
   "source": [
    "netflix_completo_sin_na = netflix_completo.dropna()"
   ]
  },
  {
   "cell_type": "code",
   "execution_count": null,
   "metadata": {
    "slideshow": {
     "slide_type": "fragment"
    }
   },
   "outputs": [],
   "source": [
    "netflix_completo_sin_na.head()"
   ]
  },
  {
   "cell_type": "markdown",
   "metadata": {
    "slideshow": {
     "slide_type": "subslide"
    }
   },
   "source": [
    "# Desafío 1\n",
    "\n",
    "> ¿Cuál es la cantidad de películas y/o series estrenadas por año, que contiene la plataforma Netflix?"
   ]
  },
  {
   "cell_type": "code",
   "execution_count": null,
   "metadata": {
    "id": "GC2wS31jruWV",
    "slideshow": {
     "slide_type": "fragment"
    }
   },
   "outputs": [],
   "source": [
    "contenido_por_anio = netflix_completo[[\"show_id\",\"type\",\"release_year\"]]\n",
    "contenido_por_anio.head()"
   ]
  },
  {
   "cell_type": "markdown",
   "metadata": {
    "id": "ChJbqVrPRIlr",
    "slideshow": {
     "slide_type": "subslide"
    }
   },
   "source": [
    "Podemos agrupar por año de estreno y tipo (si es Película o show de TV) y contar la cantidad de elementos en cada subgrupo con **count**."
   ]
  },
  {
   "cell_type": "code",
   "execution_count": null,
   "metadata": {
    "id": "RTMaQfwpHvy-",
    "slideshow": {
     "slide_type": "fragment"
    }
   },
   "outputs": [],
   "source": [
    "contenido_por_anio = contenido_por_anio.groupby([\"release_year\",\"type\"])[\"show_id\"].count()\n",
    "contenido_por_anio.head(10)"
   ]
  },
  {
   "cell_type": "markdown",
   "metadata": {
    "id": "F6AoD_82r5gy",
    "slideshow": {
     "slide_type": "slide"
    }
   },
   "source": [
    "# Graficando con matplotlib"
   ]
  },
  {
   "cell_type": "code",
   "execution_count": null,
   "metadata": {
    "id": "FaIuHJVAT1Wl",
    "slideshow": {
     "slide_type": "fragment"
    }
   },
   "outputs": [],
   "source": [
    "contenido_por_anio.plot(figsize=(10,10), xlabel=\"Año de estreno\", ylabel=\"Cantidad de estrenos\", marker=\"o\")"
   ]
  },
  {
   "cell_type": "markdown",
   "metadata": {
    "id": "BpVpkMZxT1sZ",
    "slideshow": {
     "slide_type": "slide"
    }
   },
   "source": [
    "# Graficando con Plotly"
   ]
  },
  {
   "cell_type": "markdown",
   "metadata": {
    "id": "cOuArF-1UAfJ",
    "slideshow": {
     "slide_type": "fragment"
    }
   },
   "source": [
    "En el caso de Plotly, usamos **plotly express**, una versión simplificada, muy parecida a matplotLib pero nos permite tener **gráficos interactivos**."
   ]
  },
  {
   "cell_type": "code",
   "execution_count": null,
   "metadata": {
    "id": "ITxkCrivT2CF"
   },
   "outputs": [],
   "source": [
    "fig= px.line(contenido_por_anio)\n",
    "fig.show()"
   ]
  },
  {
   "cell_type": "markdown",
   "metadata": {
    "slideshow": {
     "slide_type": "subslide"
    }
   },
   "source": [
    "# ¿Qué pasó?\n",
    "\n",
    "\"**TypeError:** Data frame index is a pandas MultiIndex. **pandas MultiIndex is not supported** by plotly express at the moment.\"\n",
    "\n",
    "\n",
    "La operación de agrupamiento genera un dataframe con más de un índice y esto no es soportado por plotly express."
   ]
  },
  {
   "cell_type": "markdown",
   "metadata": {
    "id": "4C1oAlMWH1Y_",
    "slideshow": {
     "slide_type": "fragment"
    }
   },
   "source": [
    "Usamos el método [unstack](https://pandas.pydata.org/docs/reference/api/pandas.DataFrame.unstack.html)  que retorna un nuevo dataframe con nuevos índice: ¿cuáles?"
   ]
  },
  {
   "cell_type": "code",
   "execution_count": null,
   "metadata": {
    "id": "QvHm3ddZRIKD",
    "slideshow": {
     "slide_type": "fragment"
    }
   },
   "outputs": [],
   "source": [
    "contenido_por_anio = contenido_por_anio.unstack()\n",
    "contenido_por_anio.head()"
   ]
  },
  {
   "cell_type": "markdown",
   "metadata": {
    "id": "4C1oAlMWH1Y_",
    "slideshow": {
     "slide_type": "subslide"
    }
   },
   "source": [
    "# Esto genera un nuevo problema\n",
    "\n",
    "Hay valores NaN en aquellas interecciones que no faltan datos. \n",
    "\n",
    "Por lo tando, podemos usar [fillna](https://pandas.pydata.org/docs/reference/api/pandas.DataFrame.fillna.html) con el valor 0,  para indicar qué valores NaN o null deben ser llenados con 0."
   ]
  },
  {
   "cell_type": "code",
   "execution_count": null,
   "metadata": {
    "id": "QvHm3ddZRIKD",
    "slideshow": {
     "slide_type": "fragment"
    }
   },
   "outputs": [],
   "source": [
    "contenido_por_anio = contenido_por_anio.fillna(0)\n",
    "contenido_por_anio.head()"
   ]
  },
  {
   "cell_type": "markdown",
   "metadata": {
    "slideshow": {
     "slide_type": "subslide"
    }
   },
   "source": [
    "# Ahora si podemos graficar"
   ]
  },
  {
   "cell_type": "code",
   "execution_count": null,
   "metadata": {
    "id": "ITxkCrivT2CF",
    "slideshow": {
     "slide_type": "fragment"
    }
   },
   "outputs": [],
   "source": [
    "fig= px.line(contenido_por_anio)\n",
    "fig.show()"
   ]
  },
  {
   "cell_type": "markdown",
   "metadata": {
    "slideshow": {
     "slide_type": "slide"
    }
   },
   "source": [
    "# Seguimos la próxima ..."
   ]
  }
 ],
 "metadata": {
  "celltoolbar": "Slideshow",
  "colab": {
   "collapsed_sections": [],
   "provenance": []
  },
  "kernelspec": {
   "display_name": "Python 3 (ipykernel)",
   "language": "python",
   "name": "python3"
  },
  "language_info": {
   "codemirror_mode": {
    "name": "ipython",
    "version": 3
   },
   "file_extension": ".py",
   "mimetype": "text/x-python",
   "name": "python",
   "nbconvert_exporter": "python",
   "pygments_lexer": "ipython3",
   "version": "3.11.3"
  }
 },
 "nbformat": 4,
 "nbformat_minor": 1
}
