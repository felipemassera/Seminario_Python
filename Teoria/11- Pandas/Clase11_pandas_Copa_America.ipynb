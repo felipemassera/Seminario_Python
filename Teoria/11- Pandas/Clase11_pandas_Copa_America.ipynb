{
 "cells": [
  {
   "cell_type": "markdown",
   "id": "emotional-pendant",
   "metadata": {
    "slideshow": {
     "slide_type": "slide"
    }
   },
   "source": [
    "# Seminario de Lenguajes - Python\n",
    "## Cursada 2023\n",
    "### Clase 11: seguimos con pandas"
   ]
  },
  {
   "cell_type": "markdown",
   "id": "noticed-terror",
   "metadata": {
    "slideshow": {
     "slide_type": "slide"
    }
   },
   "source": [
    "# Repasamos analizando  la Copa América\n",
    "\n",
    "- Vamos a trabajar con dataset generados a partir de datos de páginas HTML.\n",
    "Para leer  documentos HTML hay varias opciones: \n",
    "- Con pandas, con la función **read_html**,\n",
    "- También hay otras librerías tales como [BeautifulSoup](https://www.crummy.com/software/BeautifulSoup/)\n",
    "\n",
    "En todos los casos, se requiere instalar un **parser HTML**. En nuestro caso estoy usando [lxml](https://lxml.de/) que se instala con pip."
   ]
  },
  {
   "cell_type": "markdown",
   "id": "90fe07c6",
   "metadata": {
    "slideshow": {
     "slide_type": "slide"
    }
   },
   "source": [
    "# Desafíos de hoy ...\n",
    "\n",
    "\n",
    "> Vamos a analizar los resultados de la Copa América, a partir de la [página de la Wikipedia](https://es.wikipedia.org/wiki/Copa_Am%C3%A9rica) sobre este torneo.\n",
    " "
   ]
  },
  {
   "cell_type": "code",
   "execution_count": null,
   "id": "green-bachelor",
   "metadata": {
    "slideshow": {
     "slide_type": "fragment"
    }
   },
   "outputs": [],
   "source": [
    "import pandas as pd"
   ]
  },
  {
   "cell_type": "code",
   "execution_count": null,
   "id": "precise-prospect",
   "metadata": {
    "slideshow": {
     "slide_type": "fragment"
    }
   },
   "outputs": [],
   "source": [
    "url = \"https://es.wikipedia.org/wiki/Copa_Am%C3%A9rica\"\n",
    "result = pd.read_html(url)"
   ]
  },
  {
   "cell_type": "code",
   "execution_count": null,
   "id": "f76a5d5b",
   "metadata": {
    "slideshow": {
     "slide_type": "skip"
    }
   },
   "outputs": [],
   "source": [
    "#url = \"https://es.wikipedia.org/wiki/Copa_Am%C3%A9rica\"\n",
    "result = pd.read_csv(\"tabla_general.csv\")"
   ]
  },
  {
   "cell_type": "markdown",
   "id": "3cb83f3e",
   "metadata": {
    "slideshow": {
     "slide_type": "fragment"
    }
   },
   "source": [
    "- La función **read_html** lee las tablas HTML.\n",
    "- Veamos el tipo de **result**."
   ]
  },
  {
   "cell_type": "code",
   "execution_count": null,
   "id": "a1bfe4c6",
   "metadata": {
    "slideshow": {
     "slide_type": "fragment"
    }
   },
   "outputs": [],
   "source": [
    "type(result)"
   ]
  },
  {
   "cell_type": "markdown",
   "id": "composite-logic",
   "metadata": {
    "slideshow": {
     "slide_type": "subslide"
    }
   },
   "source": [
    "# Exploramos la tabla general\n",
    "\n",
    "- Esta tabla, con la información de los torneos, se encuentra en **result[1]**.\n",
    "\n",
    "- Observemos cómo está compuesto el dataframe. ¿Cuáles son los nombres de las columnas? ¿Todas tienen valores válidos?"
   ]
  },
  {
   "cell_type": "code",
   "execution_count": null,
   "id": "rolled-concrete",
   "metadata": {
    "slideshow": {
     "slide_type": "subslide"
    }
   },
   "outputs": [],
   "source": [
    "result[1]"
   ]
  },
  {
   "cell_type": "markdown",
   "id": "47a946a9",
   "metadata": {
    "slideshow": {
     "slide_type": "subslide"
    }
   },
   "source": [
    "# Empecemos a \"limpiar\" el dataframe: columnas no válidas"
   ]
  },
  {
   "cell_type": "code",
   "execution_count": null,
   "id": "81ece050",
   "metadata": {
    "slideshow": {
     "slide_type": "fragment"
    }
   },
   "outputs": [],
   "source": [
    "ediciones = result[1]"
   ]
  },
  {
   "cell_type": "code",
   "execution_count": null,
   "id": "811dcc57",
   "metadata": {
    "slideshow": {
     "slide_type": "skip"
    }
   },
   "outputs": [],
   "source": [
    "#ediciones = pd.read_csv(\"tabla_general.csv\")"
   ]
  },
  {
   "cell_type": "code",
   "execution_count": null,
   "id": "a413885e",
   "metadata": {
    "slideshow": {
     "slide_type": "subslide"
    }
   },
   "outputs": [],
   "source": [
    "ediciones.info()"
   ]
  },
  {
   "cell_type": "code",
   "execution_count": null,
   "id": "e0db86c0",
   "metadata": {
    "slideshow": {
     "slide_type": "skip"
    }
   },
   "outputs": [],
   "source": [
    "#ediciones.to_csv(\"tabla_general.csv\")"
   ]
  },
  {
   "cell_type": "code",
   "execution_count": null,
   "id": "1b711893",
   "metadata": {
    "slideshow": {
     "slide_type": "subslide"
    }
   },
   "outputs": [],
   "source": [
    "ediciones"
   ]
  },
  {
   "cell_type": "markdown",
   "id": "648ba069",
   "metadata": {
    "slideshow": {
     "slide_type": "subslide"
    }
   },
   "source": [
    "# Empecemos a \"limpiar\" el dataframe: ¿qué representan los valores NaN?"
   ]
  },
  {
   "cell_type": "markdown",
   "id": "dc30c2ec",
   "metadata": {
    "slideshow": {
     "slide_type": "fragment"
    }
   },
   "source": [
    "- Con este valor indicamos que **el valor no está o es nulo**. \n",
    "- En nuestro dataset, tenemos columnas con estos valores. Vamos a eliminar estas columnas: ¿cuáles son las columnas que deberíamos eliminar?"
   ]
  },
  {
   "cell_type": "markdown",
   "id": "e3b6037a",
   "metadata": {
    "slideshow": {
     "slide_type": "fragment"
    }
   },
   "source": [
    "- Para esto, usamos el método [drop](https://pandas.pydata.org/pandas-docs/stable/reference/api/pandas.DataFrame.drop.html), indicando que los labels que estamos mencionando se refieren a la columna. \n",
    "El parámetro **axis** puede contener: \n",
    "    - para indicar **filas: 0 o ‘index’**\n",
    "    - para indicar **columnas: 1 o ‘columns’**\n",
    "\n"
   ]
  },
  {
   "cell_type": "code",
   "execution_count": null,
   "id": "important-method",
   "metadata": {
    "slideshow": {
     "slide_type": "subslide"
    }
   },
   "outputs": [],
   "source": [
    "ediciones = ediciones.drop([4, 8, 12, 13], axis='columns')"
   ]
  },
  {
   "cell_type": "code",
   "execution_count": null,
   "id": "moving-bargain",
   "metadata": {
    "scrolled": true,
    "slideshow": {
     "slide_type": "fragment"
    }
   },
   "outputs": [],
   "source": [
    "ediciones"
   ]
  },
  {
   "cell_type": "markdown",
   "id": "going-corrections",
   "metadata": {
    "slideshow": {
     "slide_type": "subslide"
    }
   },
   "source": [
    "# Observemos los nombres de las columnas"
   ]
  },
  {
   "cell_type": "code",
   "execution_count": null,
   "id": "baking-sucking",
   "metadata": {
    "slideshow": {
     "slide_type": "fragment"
    }
   },
   "outputs": [],
   "source": [
    "ediciones.columns"
   ]
  },
  {
   "cell_type": "markdown",
   "id": "4592fcda",
   "metadata": {
    "slideshow": {
     "slide_type": "fragment"
    }
   },
   "source": [
    "- ¿Dónde se encuentran los nombres reales de las columnas?"
   ]
  },
  {
   "cell_type": "markdown",
   "id": "aef9c4b0",
   "metadata": {
    "slideshow": {
     "slide_type": "fragment"
    }
   },
   "source": [
    "Vamos a renombrar los labels de las columnas con los elementos de la primera fila:"
   ]
  },
  {
   "cell_type": "code",
   "execution_count": null,
   "id": "official-omaha",
   "metadata": {
    "slideshow": {
     "slide_type": "fragment"
    }
   },
   "outputs": [],
   "source": [
    "ediciones.columns = ediciones.iloc[0]"
   ]
  },
  {
   "cell_type": "code",
   "execution_count": null,
   "id": "e31cf504",
   "metadata": {
    "slideshow": {
     "slide_type": "subslide"
    }
   },
   "outputs": [],
   "source": [
    "ediciones"
   ]
  },
  {
   "cell_type": "markdown",
   "id": "d0071f29",
   "metadata": {
    "slideshow": {
     "slide_type": "subslide"
    }
   },
   "source": [
    "Vemos que las dos primeras filas no tienen datos válidos para nuestro análisis. Por lo tanto, las vamos a eliminar antes de seguir:"
   ]
  },
  {
   "cell_type": "code",
   "execution_count": null,
   "id": "scheduled-mileage",
   "metadata": {
    "slideshow": {
     "slide_type": "fragment"
    }
   },
   "outputs": [],
   "source": [
    "ediciones = ediciones[2:]"
   ]
  },
  {
   "cell_type": "code",
   "execution_count": null,
   "id": "dying-format",
   "metadata": {
    "slideshow": {
     "slide_type": "fragment"
    }
   },
   "outputs": [],
   "source": [
    "ediciones"
   ]
  },
  {
   "cell_type": "markdown",
   "id": "mysterious-departure",
   "metadata": {
    "slideshow": {
     "slide_type": "subslide"
    }
   },
   "source": [
    "# Observemos la columna año ...\n",
    "Si observamos la columna año, vemos que todas terminan con la cadena \"Detalle\". Vamos a eliminar esto y dejar sólo el año."
   ]
  },
  {
   "cell_type": "code",
   "execution_count": null,
   "id": "a822d0b3",
   "metadata": {
    "slideshow": {
     "slide_type": "fragment"
    }
   },
   "outputs": [],
   "source": [
    "ediciones[\"Año\"].head()"
   ]
  },
  {
   "cell_type": "code",
   "execution_count": null,
   "id": "healthy-miller",
   "metadata": {
    "slideshow": {
     "slide_type": "subslide"
    }
   },
   "outputs": [],
   "source": [
    "#ediciones[\"Año\"].str[0:4]  \n",
    "ediciones[\"Año\"] = ediciones[\"Año\"].str[0:4]  "
   ]
  },
  {
   "cell_type": "code",
   "execution_count": null,
   "id": "56cc8520",
   "metadata": {},
   "outputs": [],
   "source": [
    "#ediciones[\"Año\"] = ediciones.loc[:, \"Año\"].str[0:4]  "
   ]
  },
  {
   "cell_type": "code",
   "execution_count": null,
   "id": "a79dbb18",
   "metadata": {
    "slideshow": {
     "slide_type": "fragment"
    }
   },
   "outputs": [],
   "source": [
    "ediciones[\"Año\"]"
   ]
  },
  {
   "cell_type": "markdown",
   "id": "appreciated-planner",
   "metadata": {
    "slideshow": {
     "slide_type": "subslide"
    }
   },
   "source": [
    "Esta operación genera **SettingWithCopyWarning**, ¿por qué?\n"
   ]
  },
  {
   "cell_type": "markdown",
   "id": "e595e979",
   "metadata": {
    "slideshow": {
     "slide_type": "subslide"
    }
   },
   "source": [
    "# SettingWithCopyWarning\n",
    "\n",
    "- Algunas acciones en pandas retornan una **vista** de los datos y otras una **copia**.\n",
    "\n",
    "<center>\n",
    "<img src=\"imagenes/warning1.png\" alt=\"Vistas vs. copias\" style=\"width:550px;\"/>\n",
    "</center>\n",
    "Imagen sacada de https://www.dataquest.io/blog/settingwithcopywarning/"
   ]
  },
  {
   "cell_type": "markdown",
   "id": "272ea8ac",
   "metadata": {
    "slideshow": {
     "slide_type": "subslide"
    }
   },
   "source": [
    "# SettingWithCopyWarning\n",
    "\n",
    "\n",
    "- Por lo tanto, ante una modificación: \n",
    "\n",
    "<center>\n",
    "<img src=\"imagenes/warning2.png\" alt=\"Vistas vs. copias\" style=\"width:550px;\"/>\n",
    "</center>\n",
    "Imagen sacada de https://www.dataquest.io/blog/settingwithcopywarning/"
   ]
  },
  {
   "cell_type": "markdown",
   "id": "d6bc5ce2",
   "metadata": {
    "slideshow": {
     "slide_type": "subslide"
    }
   },
   "source": [
    "# Por lo tanto ..."
   ]
  },
  {
   "cell_type": "code",
   "execution_count": null,
   "id": "activated-logging",
   "metadata": {
    "slideshow": {
     "slide_type": "fragment"
    }
   },
   "outputs": [],
   "source": [
    "ediciones = ediciones.copy()"
   ]
  },
  {
   "cell_type": "markdown",
   "id": "24266791",
   "metadata": {
    "slideshow": {
     "slide_type": "subslide"
    }
   },
   "source": [
    "# Más info en \n",
    "\n",
    "- https://pandas.pydata.org/pandas-docs/stable/user_guide/indexing.html#returning-a-view-versus-a-copy\n",
    "- https://www.dataquest.io/blog/settingwithcopywarning/\n",
    "\n",
    "- O en el [video](https://www.youtube.com/watch?v=F37fV0uFf60)  de [Marc Garcia](https://datapythonista.me/)"
   ]
  },
  {
   "cell_type": "markdown",
   "id": "40eaff24",
   "metadata": {
    "slideshow": {
     "slide_type": "subslide"
    }
   },
   "source": [
    "# Observemos ahora  \n",
    "- Vemos que la columna Año quedó como queríamos, pero...\n",
    "- ¿Qué notamos de la fila 31? ¿Y en la última?"
   ]
  },
  {
   "cell_type": "code",
   "execution_count": null,
   "id": "official-gothic",
   "metadata": {
    "slideshow": {
     "slide_type": "fragment"
    }
   },
   "outputs": [],
   "source": [
    "ediciones.tail(2)"
   ]
  },
  {
   "cell_type": "markdown",
   "id": "cardiovascular-vienna",
   "metadata": {
    "slideshow": {
     "slide_type": "subslide"
    }
   },
   "source": [
    "Si observamos los datos, podemos ver que hay dos filas con datos que no nos sirven: las filas 31 y 50. \n",
    "\n",
    "Si el dataset es muy grande, ¿cómo podemos darnos cuenta de estas cosas?"
   ]
  },
  {
   "cell_type": "code",
   "execution_count": null,
   "id": "fe209f80",
   "metadata": {
    "slideshow": {
     "slide_type": "fragment"
    }
   },
   "outputs": [],
   "source": [
    "ediciones[\"Equipos\"].unique()"
   ]
  },
  {
   "cell_type": "markdown",
   "id": "3d677dee",
   "metadata": {
    "slideshow": {
     "slide_type": "subslide"
    }
   },
   "source": [
    "Eliminemos las filas 31 y 50. "
   ]
  },
  {
   "cell_type": "code",
   "execution_count": null,
   "id": "desirable-accountability",
   "metadata": {
    "slideshow": {
     "slide_type": "fragment"
    }
   },
   "outputs": [],
   "source": [
    "#ediciones = ediciones.drop([31, 50], axis=\"rows\")\n",
    "ediciones"
   ]
  },
  {
   "cell_type": "markdown",
   "id": "constitutional-royal",
   "metadata": {
    "slideshow": {
     "slide_type": "subslide"
    }
   },
   "source": [
    "# Observemos la columna Campeón ...\n",
    "\n",
    "Otro dato que podríamos \"limpiar\" es la columna Campeón. Si observamos, todos los países terminan con una cadena similar a: \"(x)\". Si queremos utilizar esta columna para nuestras consultas, esto podría traernos poblemas. \n",
    "\n",
    "Vamos a eliminar estos caracteres de los valores de esta columna:"
   ]
  },
  {
   "cell_type": "code",
   "execution_count": null,
   "id": "union-examination",
   "metadata": {
    "slideshow": {
     "slide_type": "fragment"
    }
   },
   "outputs": [],
   "source": [
    "#ediciones[\"Campeón\"].str[:-4]  \n",
    "ediciones[\"Campeón\"] = ediciones[\"Campeón\"].str[:-4]  "
   ]
  },
  {
   "cell_type": "code",
   "execution_count": null,
   "id": "immune-universal",
   "metadata": {
    "scrolled": true,
    "slideshow": {
     "slide_type": "subslide"
    }
   },
   "outputs": [],
   "source": [
    "ediciones"
   ]
  },
  {
   "cell_type": "markdown",
   "id": "opposite-contrast",
   "metadata": {
    "slideshow": {
     "slide_type": "slide"
    }
   },
   "source": [
    "# Ahora si, vamos a comenzar a analizar los datos\n",
    "\n",
    "## Desafío 1\n",
    "\n",
    "> Si queremos ver cuándo el país que es sede salió campeón, podría comenzar ordenando los datos y visualizarlos.  Ordenamos por **dos criterios**: Sede y Campeón\n"
   ]
  },
  {
   "cell_type": "code",
   "execution_count": null,
   "id": "2aad7a05",
   "metadata": {
    "slideshow": {
     "slide_type": "subslide"
    }
   },
   "outputs": [],
   "source": [
    "#ediciones.sort_values(by=['Sede', 'Campeón'])\n",
    "ediciones.sort_values(by=['Sede', 'Campeón'])[['Año', 'Sede', 'Campeón']]"
   ]
  },
  {
   "cell_type": "markdown",
   "id": "ad964df5",
   "metadata": {
    "slideshow": {
     "slide_type": "fragment"
    }
   },
   "source": [
    "Más adelante completaremos este desafío."
   ]
  },
  {
   "cell_type": "markdown",
   "id": "48956cea",
   "metadata": {
    "slideshow": {
     "slide_type": "slide"
    }
   },
   "source": [
    "# Ahora si, vamos a realizar algunas consultas\n",
    "\n",
    "## Desafío 2\n",
    "\n",
    "> ¿En qué torneos salimos campeones?\n"
   ]
  },
  {
   "cell_type": "code",
   "execution_count": null,
   "id": "f8960c95",
   "metadata": {
    "slideshow": {
     "slide_type": "subslide"
    }
   },
   "outputs": [],
   "source": [
    "nuestras_copas = ediciones[ediciones[\"Campeón\"] == \"Argentina\"]"
   ]
  },
  {
   "cell_type": "code",
   "execution_count": null,
   "id": "3f2b1f41",
   "metadata": {
    "slideshow": {
     "slide_type": "fragment"
    }
   },
   "outputs": [],
   "source": [
    "len(nuestras_copas)"
   ]
  },
  {
   "cell_type": "code",
   "execution_count": null,
   "id": "f79d1dd5",
   "metadata": {
    "slideshow": {
     "slide_type": "fragment"
    }
   },
   "outputs": [],
   "source": [
    "nuestras_copas[[\"Año\"]]"
   ]
  },
  {
   "cell_type": "markdown",
   "id": "edc04c4e",
   "metadata": {
    "slideshow": {
     "slide_type": "subslide"
    }
   },
   "source": [
    "# Mmm ... Esto NO es correcto!!"
   ]
  },
  {
   "cell_type": "code",
   "execution_count": null,
   "id": "09570801",
   "metadata": {
    "slideshow": {
     "slide_type": "fragment"
    }
   },
   "outputs": [],
   "source": [
    "ediciones[\"Campeón\"].unique()"
   ]
  },
  {
   "cell_type": "code",
   "execution_count": null,
   "id": "e15d6f4f",
   "metadata": {
    "slideshow": {
     "slide_type": "fragment"
    }
   },
   "outputs": [],
   "source": [
    "nuestras_copas = ediciones[(ediciones[\"Campeón\"] == \"Argentina\") | (ediciones[\"Campeón\"] == \"Argentina \")]"
   ]
  },
  {
   "cell_type": "code",
   "execution_count": null,
   "id": "654f1a6d",
   "metadata": {
    "slideshow": {
     "slide_type": "fragment"
    }
   },
   "outputs": [],
   "source": [
    "len(nuestras_copas)"
   ]
  },
  {
   "cell_type": "code",
   "execution_count": null,
   "id": "4e099d4b",
   "metadata": {
    "slideshow": {
     "slide_type": "subslide"
    }
   },
   "outputs": [],
   "source": [
    "nuestras_copas[[\"Año\"]]"
   ]
  },
  {
   "cell_type": "markdown",
   "id": "detected-haven",
   "metadata": {
    "slideshow": {
     "slide_type": "subslide"
    }
   },
   "source": [
    "\n",
    "# Desafío 2\n",
    "\n",
    "> Los 5 países que más veces salieron campeones"
   ]
  },
  {
   "cell_type": "markdown",
   "id": "6f245af1",
   "metadata": {
    "slideshow": {
     "slide_type": "subslide"
    }
   },
   "source": [
    "# Usamos groupby\n",
    "\n",
    "Vamos  usar el método  [groupby](https://pandas.pydata.org/pandas-docs/stable/reference/api/pandas.DataFrame.groupby.html) para crear **agrupamientos**.\n",
    "\n",
    "> El agrupamiento es una operación que permite dividir un DataFrame en grupos basados en una o más columnas y luego aplicar cálculos o funciones a cada grupo de forma independiente."
   ]
  },
  {
   "cell_type": "markdown",
   "id": "0f114a45",
   "metadata": {
    "slideshow": {
     "slide_type": "subslide"
    }
   },
   "source": [
    "# ¿Cuál sería el criterio acá para formar los grupos?"
   ]
  },
  {
   "cell_type": "markdown",
   "id": "b4d74b36",
   "metadata": {
    "slideshow": {
     "slide_type": "fragment"
    }
   },
   "source": [
    "Podríamos dividir por la columna \"Campeón\" y luego ver qué grupos tienen más elementos. \n",
    "\n",
    "**IMPORTANTE:**  sobre los datos agrupados podemos aplicar funciones de agregación tales como **size(), sum(), mean(), max(), min(), entre otras**."
   ]
  },
  {
   "cell_type": "code",
   "execution_count": null,
   "id": "0db133b6",
   "metadata": {
    "slideshow": {
     "slide_type": "subslide"
    }
   },
   "outputs": [],
   "source": [
    "ediciones.groupby(\"Campeón\").size()"
   ]
  },
  {
   "cell_type": "markdown",
   "id": "premier-liberal",
   "metadata": {
    "slideshow": {
     "slide_type": "subslide"
    }
   },
   "source": [
    "# ¿Algo raro? \n",
    "\n",
    "Observemos que hay países que aparecen varias veces: ¿por qué?"
   ]
  },
  {
   "cell_type": "code",
   "execution_count": null,
   "id": "unsigned-scroll",
   "metadata": {
    "slideshow": {
     "slide_type": "fragment"
    }
   },
   "outputs": [],
   "source": [
    "ediciones[\"Campeón\"].unique()"
   ]
  },
  {
   "cell_type": "markdown",
   "id": "continuous-language",
   "metadata": {
    "slideshow": {
     "slide_type": "fragment"
    }
   },
   "source": [
    "Si observamos los datos, \"Argentina\" y \"Uruguay\" aparecen dos veces. "
   ]
  },
  {
   "cell_type": "markdown",
   "id": "87d39bf8",
   "metadata": {
    "slideshow": {
     "slide_type": "subslide"
    }
   },
   "source": [
    "# Vamos a resolver esto:\n",
    "\n",
    "- Vamos a realizar algunos reemplazoss en nuestros datos."
   ]
  },
  {
   "cell_type": "code",
   "execution_count": null,
   "id": "supported-cache",
   "metadata": {
    "slideshow": {
     "slide_type": "fragment"
    }
   },
   "outputs": [],
   "source": [
    "paises = {'Argentina ': 'Argentina',\n",
    "          'Uruguay ': 'Uruguay',}\n",
    "\n",
    "ediciones = ediciones.copy()\n",
    "ediciones['Campeón'] = ediciones['Campeón'].replace(paises)"
   ]
  },
  {
   "cell_type": "code",
   "execution_count": null,
   "id": "proud-welding",
   "metadata": {
    "slideshow": {
     "slide_type": "fragment"
    }
   },
   "outputs": [],
   "source": [
    "ediciones[\"Campeón\"].unique()"
   ]
  },
  {
   "cell_type": "code",
   "execution_count": null,
   "id": "b2765504",
   "metadata": {
    "slideshow": {
     "slide_type": "subslide"
    }
   },
   "outputs": [],
   "source": [
    "ediciones.groupby(\"Campeón\").size()"
   ]
  },
  {
   "cell_type": "markdown",
   "id": "aaae7e9c",
   "metadata": {
    "slideshow": {
     "slide_type": "subslide"
    }
   },
   "source": [
    "# Pero nosotros queríamos los 5 con más campeonatos"
   ]
  },
  {
   "cell_type": "code",
   "execution_count": null,
   "id": "c5f66495",
   "metadata": {
    "slideshow": {
     "slide_type": "subslide"
    }
   },
   "outputs": [],
   "source": [
    "ediciones.groupby(\"Campeón\").size().sort_values(ascending=False).head(5)"
   ]
  },
  {
   "cell_type": "markdown",
   "id": "2f01f4e2",
   "metadata": {
    "slideshow": {
     "slide_type": "subslide"
    }
   },
   "source": [
    "# También podemos ver esto en forma más gráfica"
   ]
  },
  {
   "cell_type": "code",
   "execution_count": null,
   "id": "34df88d7",
   "metadata": {
    "slideshow": {
     "slide_type": "fragment"
    }
   },
   "outputs": [],
   "source": [
    "campeonatos_por_equipo = ediciones.groupby(\"Campeón\").size().sort_values(ascending=False).head(5)\n",
    "campeonatos_por_equipo.plot(kind='pie')"
   ]
  },
  {
   "cell_type": "markdown",
   "id": "bdff693b",
   "metadata": {
    "slideshow": {
     "slide_type": "subslide"
    }
   },
   "source": [
    "# Desafío 3\n",
    "\n",
    ">  Países organizadores que salieron campeones\n",
    "\n",
    "Acá retomamos el desafío 1..."
   ]
  },
  {
   "cell_type": "markdown",
   "id": "873ad689",
   "metadata": {
    "slideshow": {
     "slide_type": "subslide"
    }
   },
   "source": [
    "#  La primera solución que nos podríamos plantear es:"
   ]
  },
  {
   "cell_type": "code",
   "execution_count": null,
   "id": "national-assessment",
   "metadata": {
    "slideshow": {
     "slide_type": "fragment"
    }
   },
   "outputs": [],
   "source": [
    "campeones_organizadores = ediciones[ediciones[\"Sede\"] == ediciones[\"Campeón\"]]"
   ]
  },
  {
   "cell_type": "code",
   "execution_count": null,
   "id": "consolidated-edition",
   "metadata": {
    "slideshow": {
     "slide_type": "fragment"
    }
   },
   "outputs": [],
   "source": [
    "campeones_organizadores[[\"Año\", \"Sede\", \"Campeón\"]]"
   ]
  },
  {
   "cell_type": "markdown",
   "id": "47038b23",
   "metadata": {
    "slideshow": {
     "slide_type": "subslide"
    }
   },
   "source": [
    "# Pero esto no es correcto\n",
    "\n",
    "Exploremos los datos:"
   ]
  },
  {
   "cell_type": "code",
   "execution_count": null,
   "id": "70c52512",
   "metadata": {
    "slideshow": {
     "slide_type": "fragment"
    }
   },
   "outputs": [],
   "source": [
    "ediciones.groupby('Sede')['Campeón'].unique()"
   ]
  },
  {
   "cell_type": "markdown",
   "id": "e27260b2",
   "metadata": {
    "slideshow": {
     "slide_type": "subslide"
    }
   },
   "source": [
    "# Tarea para el hogar\n",
    "\n",
    "> Resolver el problema anterior reemplazando los valores de la columna \"Sede\" por los adecuados."
   ]
  },
  {
   "cell_type": "markdown",
   "id": "14257ea1",
   "metadata": {
    "slideshow": {
     "slide_type": "subslide"
    }
   },
   "source": [
    "# Desafío 4\n",
    "\n",
    "> Queremos saber qué países fueron los campeones por sede.\n",
    "\n",
    "Para esto podemos agrupar por  **Sede** y  **Campeón** y ver cuántos elementos hay.  \n",
    "\n",
    "Observamos que aún no resolvimos el problema de los valores \"malos\" detectados anteriormente, así que seguramente aparecerán en estos resultados."
   ]
  },
  {
   "cell_type": "code",
   "execution_count": null,
   "id": "504d6f6c",
   "metadata": {
    "slideshow": {
     "slide_type": "subslide"
    }
   },
   "outputs": [],
   "source": [
    "ediciones.groupby(['Sede', 'Campeón'])['Sede'].count()"
   ]
  },
  {
   "cell_type": "markdown",
   "id": "occupational-lincoln",
   "metadata": {
    "slideshow": {
     "slide_type": "subslide"
    }
   },
   "source": [
    "# Ahora vamos a trabajar con la tabla de goleadores\n",
    "\n",
    "- Deberíamos ver cuál es el dataframe que la representa en la lista **result**."
   ]
  },
  {
   "cell_type": "code",
   "execution_count": null,
   "id": "preceding-spectrum",
   "metadata": {
    "scrolled": true,
    "slideshow": {
     "slide_type": "fragment"
    }
   },
   "outputs": [],
   "source": [
    "goleadores_x_edicion = result[12]"
   ]
  },
  {
   "cell_type": "code",
   "execution_count": null,
   "id": "b465a622",
   "metadata": {
    "slideshow": {
     "slide_type": "skip"
    }
   },
   "outputs": [],
   "source": [
    "#goleadores_x_edicion = pd.read_csv(\"goleadores_x_edicion.csv\")"
   ]
  },
  {
   "cell_type": "code",
   "execution_count": null,
   "id": "1b9cca47",
   "metadata": {
    "slideshow": {
     "slide_type": "skip"
    }
   },
   "outputs": [],
   "source": [
    "#goleadores_x_edicion.to_csv(\"goleadores_x_edicion.csv\")"
   ]
  },
  {
   "cell_type": "code",
   "execution_count": null,
   "id": "0a2a9957",
   "metadata": {
    "slideshow": {
     "slide_type": "fragment"
    }
   },
   "outputs": [],
   "source": [
    "goleadores_x_edicion.tail()"
   ]
  },
  {
   "cell_type": "markdown",
   "id": "effective-actor",
   "metadata": {
    "slideshow": {
     "slide_type": "subslide"
    }
   },
   "source": [
    "# Desafío 5\n",
    "\n",
    "> Queremos saber cuándo el goleador del torneo pertenece a la selección campeona\n",
    "\n",
    "¿Podemos obtener este dato trabajando con la tabla de goleadores?\n"
   ]
  },
  {
   "cell_type": "code",
   "execution_count": null,
   "id": "graduate-narrow",
   "metadata": {
    "scrolled": true,
    "slideshow": {
     "slide_type": "fragment"
    }
   },
   "outputs": [],
   "source": [
    "goleadores_x_edicion"
   ]
  },
  {
   "cell_type": "markdown",
   "id": "dietary-carter",
   "metadata": {
    "slideshow": {
     "slide_type": "subslide"
    }
   },
   "source": [
    "En este dataframe sólo tenemos el año del torneo, no el país que fue sede.  Para esto, podemos agregar la sede (el país) en la tabla de goleadores. \n",
    "\n",
    "Esto implica **unir** dos dataframes podemos usarel método [merge](https://pandas.pydata.org/pandas-docs/stable/reference/api/pandas.DataFrame.merge.htm).\n"
   ]
  },
  {
   "cell_type": "code",
   "execution_count": null,
   "id": "aquatic-scholarship",
   "metadata": {
    "slideshow": {
     "slide_type": "fragment"
    }
   },
   "outputs": [],
   "source": [
    "ediciones_recortada = ediciones[[\"Año\", \"Campeón\"]]"
   ]
  },
  {
   "cell_type": "code",
   "execution_count": null,
   "id": "6fa78d19",
   "metadata": {
    "slideshow": {
     "slide_type": "fragment"
    }
   },
   "outputs": [],
   "source": [
    "ediciones_recortada"
   ]
  },
  {
   "cell_type": "markdown",
   "id": "698022f1",
   "metadata": {
    "slideshow": {
     "slide_type": "subslide"
    }
   },
   "source": [
    "Hagamos el siguiente cambio:"
   ]
  },
  {
   "cell_type": "code",
   "execution_count": null,
   "id": "champion-marathon",
   "metadata": {
    "slideshow": {
     "slide_type": "fragment"
    }
   },
   "outputs": [],
   "source": [
    "ediciones_recortada.columns = [\"Edición\", \"Campeón\"]"
   ]
  },
  {
   "cell_type": "code",
   "execution_count": null,
   "id": "fe731eb6",
   "metadata": {
    "slideshow": {
     "slide_type": "fragment"
    }
   },
   "outputs": [],
   "source": [
    "ediciones_recortada.columns"
   ]
  },
  {
   "cell_type": "markdown",
   "id": "mature-replica",
   "metadata": {
    "slideshow": {
     "slide_type": "fragment"
    }
   },
   "source": [
    "¿Por qué creen que cambiamos el nombre de la columna?"
   ]
  },
  {
   "cell_type": "code",
   "execution_count": null,
   "id": "particular-inspection",
   "metadata": {
    "scrolled": true,
    "slideshow": {
     "slide_type": "fragment"
    }
   },
   "outputs": [],
   "source": [
    "goleadores_completa = pd.merge(goleadores_x_edicion, ediciones_recortada, on='Edición')\n",
    "goleadores_completa"
   ]
  },
  {
   "cell_type": "markdown",
   "id": "center-fiber",
   "metadata": {
    "slideshow": {
     "slide_type": "subslide"
    }
   },
   "source": [
    "Y ahora si, obtenemos el dato pedido: goleadores del torneo pertenecientes a la selección sede.\n",
    "\n",
    "¿La siguiente consulta resuelve nuestro problema?"
   ]
  },
  {
   "cell_type": "code",
   "execution_count": null,
   "id": "institutional-turkish",
   "metadata": {
    "slideshow": {
     "slide_type": "fragment"
    }
   },
   "outputs": [],
   "source": [
    "goleadores_completa[goleadores_completa[\"Campeón\"] == goleadores_completa[\"Selección\"]]"
   ]
  },
  {
   "cell_type": "markdown",
   "id": "everyday-endorsement",
   "metadata": {
    "slideshow": {
     "slide_type": "subslide"
    }
   },
   "source": [
    "No es correcta, ya que hay ediciones donde hay más de un goleador de distintas selecciones.\n",
    "\n",
    "Una solución podría ser:"
   ]
  },
  {
   "cell_type": "code",
   "execution_count": null,
   "id": "super-banner",
   "metadata": {
    "slideshow": {
     "slide_type": "fragment"
    }
   },
   "outputs": [],
   "source": [
    "goleadores_completa[goleadores_completa.apply(lambda x: x[\"Campeón\"] in x[\"Selección\"], axis=\"columns\")].tail()"
   ]
  },
  {
   "cell_type": "markdown",
   "id": "26df1ddf",
   "metadata": {
    "slideshow": {
     "slide_type": "subslide"
    }
   },
   "source": [
    "# ¿apply?\n",
    "\n",
    "\n",
    "- El método [apply](https://pandas.pydata.org/pandas-docs/stable/reference/api/pandas.DataFrame.apply.html) permite aplicar una función a uno de los ejes del dataFrame. \n",
    "\n",
    "- Los objetos pasados a la función son objetos de la fila (axis=0 o index) o columna (axis=1 o column) dependiendo del eje con el que estemos trabajando. \n"
   ]
  },
  {
   "cell_type": "markdown",
   "id": "5b845d81",
   "metadata": {
    "slideshow": {
     "slide_type": "fragment"
    }
   },
   "source": [
    "En nuestro caso: ¿qué función aplicamos? ¿A qué objetos?"
   ]
  },
  {
   "cell_type": "markdown",
   "id": "accompanied-logan",
   "metadata": {
    "slideshow": {
     "slide_type": "subslide"
    }
   },
   "source": [
    "# Seguimos con la Copa América\n",
    "\n",
    "## Veamos la tabla histórica"
   ]
  },
  {
   "cell_type": "code",
   "execution_count": null,
   "id": "recorded-scope",
   "metadata": {
    "slideshow": {
     "slide_type": "fragment"
    }
   },
   "outputs": [],
   "source": [
    "tabla_h = result[4]"
   ]
  },
  {
   "cell_type": "code",
   "execution_count": null,
   "id": "b54235c3",
   "metadata": {
    "slideshow": {
     "slide_type": "skip"
    }
   },
   "outputs": [],
   "source": [
    "#tabla_h.to_csv(\"tabla_h.csv\")"
   ]
  },
  {
   "cell_type": "code",
   "execution_count": null,
   "id": "cfa855e3",
   "metadata": {
    "slideshow": {
     "slide_type": "skip"
    }
   },
   "outputs": [],
   "source": [
    "#tabla_h.read_csv(\"tabla_h.csv\")"
   ]
  },
  {
   "cell_type": "code",
   "execution_count": null,
   "id": "de9db437",
   "metadata": {
    "slideshow": {
     "slide_type": "fragment"
    }
   },
   "outputs": [],
   "source": [
    "tabla_h"
   ]
  },
  {
   "cell_type": "code",
   "execution_count": null,
   "id": "conceptual-spencer",
   "metadata": {
    "slideshow": {
     "slide_type": "subslide"
    }
   },
   "outputs": [],
   "source": [
    "tabla_h.info()"
   ]
  },
  {
   "cell_type": "markdown",
   "id": "liked-attribute",
   "metadata": {
    "slideshow": {
     "slide_type": "fragment"
    }
   },
   "source": [
    "Vemos que pandas reconoció las columnas cuyos valores son números y los convirtió automáticamente.   Por lo tanto, podríamos sumar sus valores sin necesidad de convertir."
   ]
  },
  {
   "cell_type": "markdown",
   "id": "5f195ed1",
   "metadata": {
    "slideshow": {
     "slide_type": "subslide"
    }
   },
   "source": [
    "Por ejemplo: si queremos saber cuántos torneos hubo:"
   ]
  },
  {
   "cell_type": "code",
   "execution_count": null,
   "id": "favorite-committee",
   "metadata": {
    "slideshow": {
     "slide_type": "fragment"
    }
   },
   "outputs": [],
   "source": [
    "tabla_h[\"Títulos\"].sum()"
   ]
  },
  {
   "cell_type": "markdown",
   "id": "united-punch",
   "metadata": {
    "slideshow": {
     "slide_type": "subslide"
    }
   },
   "source": [
    "O la cantidad de goles en todos los torneos:\n"
   ]
  },
  {
   "cell_type": "code",
   "execution_count": null,
   "id": "hazardous-soundtrack",
   "metadata": {
    "slideshow": {
     "slide_type": "fragment"
    }
   },
   "outputs": [],
   "source": [
    "tabla_h.sum()"
   ]
  },
  {
   "cell_type": "markdown",
   "id": "19082084",
   "metadata": {
    "slideshow": {
     "slide_type": "fragment"
    }
   },
   "source": [
    "- ¿Qué hizo **sum**?\n",
    "¿Qué pasó con las columnas Equipo y  Dif.?"
   ]
  },
  {
   "cell_type": "markdown",
   "id": "eaad5b3d",
   "metadata": {
    "slideshow": {
     "slide_type": "subslide"
    }
   },
   "source": [
    "# ¿Cuáles son los países con más diferencia de goles a favor - goles en contra?\n",
    "\n",
    "¿El siguiente código es una posible solución?"
   ]
  },
  {
   "cell_type": "code",
   "execution_count": null,
   "id": "89275a34",
   "metadata": {
    "slideshow": {
     "slide_type": "fragment"
    }
   },
   "outputs": [],
   "source": [
    "tabla_h.sort_values(\"Dif.\")"
   ]
  },
  {
   "cell_type": "markdown",
   "id": "0029b2eb",
   "metadata": {
    "slideshow": {
     "slide_type": "subslide"
    }
   },
   "source": [
    "# Una posible solución ..."
   ]
  },
  {
   "cell_type": "code",
   "execution_count": null,
   "id": "529b3559",
   "metadata": {
    "slideshow": {
     "slide_type": "fragment"
    }
   },
   "outputs": [],
   "source": [
    "tabla_h[\"Dif_en_num\"] = tabla_h[\"Dif.\"].apply(lambda x: int(x[1:]) if x[0]==\"+\" else (-1)*int(x[1:]))"
   ]
  },
  {
   "cell_type": "markdown",
   "id": "03fd6cb0",
   "metadata": {
    "slideshow": {
     "slide_type": "fragment"
    }
   },
   "source": [
    "**IMPORTANTE:** acabamos de crear una nueva columna."
   ]
  },
  {
   "cell_type": "code",
   "execution_count": null,
   "id": "56d5e41d",
   "metadata": {
    "slideshow": {
     "slide_type": "fragment"
    }
   },
   "outputs": [],
   "source": [
    "tabla_h"
   ]
  },
  {
   "cell_type": "code",
   "execution_count": null,
   "id": "a58cb4a7",
   "metadata": {
    "slideshow": {
     "slide_type": "subslide"
    }
   },
   "outputs": [],
   "source": [
    "tabla_h.sort_values(\"Dif_en_num\", ascending=False)"
   ]
  },
  {
   "cell_type": "markdown",
   "id": "f30a0667",
   "metadata": {
    "slideshow": {
     "slide_type": "notes"
    }
   },
   "source": [
    "En la clase de 2022, vimos que había un problema en la conversión a **int**. Esto no tiene que ver con Python ni pandas sino con una codificación del signo \"-\" en la Wikipedia. Acá hay una solución alternativa (¡gracias Daniel!)."
   ]
  },
  {
   "cell_type": "code",
   "execution_count": null,
   "id": "a20ae43e",
   "metadata": {
    "slideshow": {
     "slide_type": "notes"
    }
   },
   "outputs": [],
   "source": [
    "tabla_h[\"Dif_correcta\"] = tabla_h[\"Dif.\"].apply(lambda x: x.replace('–','-'))\n",
    "tabla_h[\"Dif_correcta\"] = tabla_h[\"Dif_correcta\"].apply(lambda x: int(x))\n",
    "tabla_h"
   ]
  },
  {
   "cell_type": "code",
   "execution_count": null,
   "id": "dd292f16",
   "metadata": {
    "slideshow": {
     "slide_type": "subslide"
    }
   },
   "outputs": [],
   "source": [
    "goles_x_equipo = tabla_h.sort_values(\"Dif_en_num\", ascending=False)[[\"Equipo\", \"Dif_en_num\"]]"
   ]
  },
  {
   "cell_type": "code",
   "execution_count": null,
   "id": "d3a07603",
   "metadata": {
    "slideshow": {
     "slide_type": "fragment"
    }
   },
   "outputs": [],
   "source": [
    "goles_x_equipo"
   ]
  },
  {
   "cell_type": "markdown",
   "id": "4abc8153",
   "metadata": {
    "slideshow": {
     "slide_type": "subslide"
    }
   },
   "source": [
    "# Y ahora... Argentina vs Brasil :)\n",
    "\n",
    "## Goles argentinos vs. brasileros\n",
    "\n",
    "Retomamos la tabla de goleadores..."
   ]
  },
  {
   "cell_type": "code",
   "execution_count": null,
   "id": "e6f80d11",
   "metadata": {
    "slideshow": {
     "slide_type": "fragment"
    }
   },
   "outputs": [],
   "source": [
    "goleadores_completa.head()"
   ]
  },
  {
   "cell_type": "code",
   "execution_count": null,
   "id": "2872d220",
   "metadata": {
    "slideshow": {
     "slide_type": "subslide"
    }
   },
   "outputs": [],
   "source": [
    "gol_argentinos = goleadores_completa[goleadores_completa[\"Selección\"].str.contains(\"Argentina\")]\n",
    "gol_argentinos[\"Goles\"].sum()"
   ]
  },
  {
   "cell_type": "code",
   "execution_count": null,
   "id": "a8f7df8d",
   "metadata": {
    "slideshow": {
     "slide_type": "fragment"
    }
   },
   "outputs": [],
   "source": [
    "gol_brasileros = goleadores_completa[goleadores_completa[\"Selección\"].str.contains(\"Brasil\")]\n",
    "gol_brasileros[\"Goles\"].sum()"
   ]
  },
  {
   "cell_type": "code",
   "execution_count": null,
   "id": "ff7261b6",
   "metadata": {
    "slideshow": {
     "slide_type": "subslide"
    }
   },
   "outputs": [],
   "source": [
    "from matplotlib import pyplot as plt"
   ]
  },
  {
   "cell_type": "code",
   "execution_count": null,
   "id": "c73b3c0c",
   "metadata": {
    "slideshow": {
     "slide_type": "fragment"
    }
   },
   "outputs": [],
   "source": [
    "etiquetas = [\"Argentina\", \"Brasil\"]\n",
    "\n",
    "#data_dibujo = [len(gol_argentinos),len(gol_brasileros) ]\n",
    "data_dibujo = [gol_argentinos[\"Goles\"].sum(), gol_brasileros[\"Goles\"].sum()]\n",
    "explode = (0.1, 0)\n",
    "\n",
    "plt.pie(data_dibujo, explode=explode, labels=etiquetas, autopct='%1.2f%%',\n",
    "        shadow=True, startangle=90, labeldistance= 1.1)\n",
    "\n",
    "#plt.axis('auto')    #ver https://matplotlib.org/stable/api/_as_gen/matplotlib.pyplot.axis.html\n",
    "plt.axis('equal') \n",
    "\n",
    "plt.legend(etiquetas)\n",
    "\n",
    "plt.title(\"Esaaaaa!!!!\")\n",
    "plt.show()"
   ]
  },
  {
   "cell_type": "markdown",
   "id": "0fc7a3f8",
   "metadata": {
    "slideshow": {
     "slide_type": "slide"
    }
   },
   "source": [
    "# Tipos de gráficos\n",
    "\n",
    "- https://matplotlib.org/stable/plot_types/index.html\n",
    "- https://www.python-graph-gallery.com/\n",
    "\n",
    "\n",
    "Usando matplotlibe, puede ver muchos ejemplos en:\n",
    "\n",
    "- https://matplotlib.org/stable/gallery/index.html\n",
    "\n",
    "\n",
    "\n"
   ]
  },
  {
   "cell_type": "markdown",
   "id": "d0e59e24",
   "metadata": {
    "slideshow": {
     "slide_type": "slide"
    }
   },
   "source": [
    "# Con esto finalizamos el trabajo con la Copa América "
   ]
  }
 ],
 "metadata": {
  "celltoolbar": "Slideshow",
  "kernelspec": {
   "display_name": "Python 3 (ipykernel)",
   "language": "python",
   "name": "python3"
  },
  "language_info": {
   "codemirror_mode": {
    "name": "ipython",
    "version": 3
   },
   "file_extension": ".py",
   "mimetype": "text/x-python",
   "name": "python",
   "nbconvert_exporter": "python",
   "pygments_lexer": "ipython3",
   "version": "3.11.3"
  }
 },
 "nbformat": 4,
 "nbformat_minor": 5
}
