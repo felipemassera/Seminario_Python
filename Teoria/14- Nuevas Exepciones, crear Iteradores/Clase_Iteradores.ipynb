{
 "cells": [
  {
   "cell_type": "markdown",
   "id": "typical-option",
   "metadata": {
    "slideshow": {
     "slide_type": "slide"
    }
   },
   "source": [
    "# Seminario de Lenguajes - Python\n",
    "## Iteradores "
   ]
  },
  {
   "cell_type": "markdown",
   "id": "wrong-remainder",
   "metadata": {
    "slideshow": {
     "slide_type": "slide"
    }
   },
   "source": [
    "# ¿Qué observan en los siguientes códigos?"
   ]
  },
  {
   "cell_type": "code",
   "execution_count": 1,
   "id": "another-peninsula",
   "metadata": {
    "slideshow": {
     "slide_type": "fragment"
    }
   },
   "outputs": [
    {
     "name": "stdout",
     "output_type": "stream",
     "text": [
      "S-e-m-i-n-a-r-i-o- -d-e- -P-y-t-h-o-n-\n",
      "\n",
      "\n",
      "esto\n",
      "es\n",
      "una\n",
      "lista\n"
     ]
    }
   ],
   "source": [
    "\n",
    "cadena = \"Seminario de Python\"\n",
    "for caracter in cadena:\n",
    "    print(caracter, end=\"-\")\n",
    "print(\"\", end=\"\\n\")\n",
    "\n",
    "print(\"\\n\")\n",
    "lista = ['esto', 'es', 'una', 'lista']\n",
    "for palabra in lista:\n",
    "    print(palabra)\n"
   ]
  },
  {
   "cell_type": "code",
   "execution_count": null,
   "id": "0d769b4c",
   "metadata": {
    "slideshow": {
     "slide_type": "subslide"
    }
   },
   "outputs": [],
   "source": [
    "import csv\n",
    "\n",
    "with open(\"Pokemon.csv\", encoding='utf-8') as data_set:\n",
    "    reader = csv.reader(data_set, delimiter=',')\n",
    "    for item in reader:\n",
    "        print(item)"
   ]
  },
  {
   "cell_type": "markdown",
   "id": "placed-financing",
   "metadata": {
    "slideshow": {
     "slide_type": "subslide"
    }
   },
   "source": [
    "# Todas son secuencias iterables\n",
    "\n",
    "## ¿Qué significa?\n",
    "\t\n",
    "- Todas pueden ser recorridas por la estructura: **for** var **in** secuencia."
   ]
  },
  {
   "cell_type": "markdown",
   "id": "behind-technology",
   "metadata": {
    "slideshow": {
     "slide_type": "fragment"
    }
   },
   "source": [
    "- Todas implementan un método especial denominado **\\_\\_iter\\_\\_**. \n",
    "    -  **\\_\\_iter\\_\\_** devuelve un iterador capaz de recorrer la secuencia.\n",
    "\n",
    "Un **iterador** es un objeto que permite recorrer **uno a uno** los elementos de una estructura de datos para poder operar con ellos."
   ]
  },
  {
   "cell_type": "markdown",
   "id": "surprising-persian",
   "metadata": {
    "slideshow": {
     "slide_type": "subslide"
    }
   },
   "source": [
    "# Iteradores\n",
    "\n",
    "- Un objeto iterable tiene que implementar un método **\\_\\_next\\_\\_** que debe devolver los elementos, **de a uno por vez**, comenzando por el primero. \n",
    "- Y al llegar al final de la estructura, debe levantar una excepción de tipo **StopIteration**."
   ]
  },
  {
   "cell_type": "markdown",
   "id": "supposed-theory",
   "metadata": {
    "slideshow": {
     "slide_type": "subslide"
    }
   },
   "source": [
    "# Los siguientes códigos son equivalentes:"
   ]
  },
  {
   "cell_type": "code",
   "execution_count": 3,
   "id": "downtown-decade",
   "metadata": {
    "slideshow": {
     "slide_type": "fragment"
    }
   },
   "outputs": [
    {
     "name": "stdout",
     "output_type": "stream",
     "text": [
      "uno\n",
      "dos\n",
      "tres\n"
     ]
    }
   ],
   "source": [
    "lista = ['uno', 'dos', 'tres']\n",
    "for palabra in lista:\n",
    "    print(palabra)"
   ]
  },
  {
   "cell_type": "code",
   "execution_count": 4,
   "id": "individual-russia",
   "metadata": {
    "slideshow": {
     "slide_type": "fragment"
    }
   },
   "outputs": [
    {
     "name": "stdout",
     "output_type": "stream",
     "text": [
      "uno\n",
      "dos\n",
      "tres\n"
     ]
    }
   ],
   "source": [
    "iterador = iter(lista)\n",
    "while True:\n",
    "    try:\n",
    "        palabra = next(iterador) # o iterador.__next__()\n",
    "    except StopIteration:\n",
    "        break\n",
    "    print(palabra)"
   ]
  },
  {
   "cell_type": "markdown",
   "id": "durable-sculpture",
   "metadata": {
    "slideshow": {
     "slide_type": "fragment"
    }
   },
   "source": [
    "- La función **iter** retorna un objeto iterador."
   ]
  },
  {
   "cell_type": "markdown",
   "id": "recent-dollar",
   "metadata": {
    "slideshow": {
     "slide_type": "subslide"
    }
   },
   "source": [
    "# Veamos este ejemplo: "
   ]
  },
  {
   "cell_type": "code",
   "execution_count": 5,
   "id": "aging-reconstruction",
   "metadata": {
    "slideshow": {
     "slide_type": "fragment"
    }
   },
   "outputs": [],
   "source": [
    "class CadenaInvertida:\n",
    "    def __init__(self, cadena):\n",
    "        self._cadena = cadena\n",
    "        self._posicion = len(cadena)\n",
    "\n",
    "    def __iter__(self):\n",
    "        return(self) \n",
    "\n",
    "    def __next__(self):\n",
    "        if self._posicion == 0:\n",
    "            raise(StopIteration)\n",
    "        self._posicion = self._posicion - 1\n",
    "        return(self._cadena[self._posicion])"
   ]
  },
  {
   "cell_type": "code",
   "execution_count": 6,
   "id": "6d957cad",
   "metadata": {
    "slideshow": {
     "slide_type": "fragment"
    }
   },
   "outputs": [
    {
     "name": "stdout",
     "output_type": "stream",
     "text": [
      "! ! a d a s r u c   a l   e d   l a n i f   l a   s o m a t s e   a Y "
     ]
    }
   ],
   "source": [
    "cadena_invertida = CadenaInvertida('Ya estamos al final de la cursada!!')\n",
    "\n",
    "for caracter in cadena_invertida:\n",
    "     print(caracter, end=' ')"
   ]
  },
  {
   "cell_type": "markdown",
   "id": "arbitrary-proof",
   "metadata": {
    "slideshow": {
     "slide_type": "fragment"
    }
   },
   "source": [
    "- ¿Qué creen que imprime?"
   ]
  },
  {
   "cell_type": "markdown",
   "id": "f14c9b78",
   "metadata": {
    "slideshow": {
     "slide_type": "slide"
    }
   },
   "source": [
    "# Desafío\n",
    "\n",
    "\n",
    ">Implementar la clase  **CadenaCodificada**, que dada una cadena de caracteres, me permita trabajar con la misma en forma codificada, según la codifcación Cesar (vista en las primeras clases).  Podemos recorrer con un **for** un objeto de clase **CadenaCodificada**, los cual permite acceder uno a uno a los caracteres codificados de la misma. \n",
    "\n",
    "**Nota:** implementar este objeto como un objeto iterable. "
   ]
  },
  {
   "cell_type": "code",
   "execution_count": 8,
   "id": "fb4b0c49",
   "metadata": {
    "slideshow": {
     "slide_type": "notes"
    }
   },
   "outputs": [],
   "source": [
    "from functools import reduce\n",
    "\n",
    "class CadenaCodificada:\n",
    "    ...."
   ]
  },
  {
   "cell_type": "markdown",
   "id": "dc054cce",
   "metadata": {
    "slideshow": {
     "slide_type": "subslide"
    }
   },
   "source": [
    "## Ejemplo de uso de una CadenaCodificada"
   ]
  },
  {
   "cell_type": "code",
   "execution_count": 9,
   "id": "684cb3b8",
   "metadata": {
    "slideshow": {
     "slide_type": "fragment"
    }
   },
   "outputs": [
    {
     "name": "stdout",
     "output_type": "stream",
     "text": [
      "I p m b "
     ]
    }
   ],
   "source": [
    "mi_cadena = CadenaCodificada(\"Hola\")\n",
    "\n",
    "for caracter in mi_cadena:\n",
    "     print(caracter, end=\" \")\n"
   ]
  },
  {
   "cell_type": "code",
   "execution_count": 10,
   "id": "1cf98ed7",
   "metadata": {
    "slideshow": {
     "slide_type": "fragment"
    }
   },
   "outputs": [
    {
     "name": "stdout",
     "output_type": "stream",
     "text": [
      "Ipmb\n"
     ]
    }
   ],
   "source": [
    "print(mi_cadena)"
   ]
  },
  {
   "cell_type": "markdown",
   "id": "gothic-missouri",
   "metadata": {
    "slideshow": {
     "slide_type": "slide"
    }
   },
   "source": [
    "<img src=\"imagenes/portada_video.png\" alt=\"nos vemos el martes\" style=\"width:1050px;\"/>\n"
   ]
  }
 ],
 "metadata": {
  "celltoolbar": "Slideshow",
  "kernelspec": {
   "display_name": "Python 3 (ipykernel)",
   "language": "python",
   "name": "python3"
  },
  "language_info": {
   "codemirror_mode": {
    "name": "ipython",
    "version": 3
   },
   "file_extension": ".py",
   "mimetype": "text/x-python",
   "name": "python",
   "nbconvert_exporter": "python",
   "pygments_lexer": "ipython3",
   "version": "3.11.3"
  }
 },
 "nbformat": 4,
 "nbformat_minor": 5
}
