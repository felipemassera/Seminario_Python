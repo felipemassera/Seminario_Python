{
 "cells": [
  {
   "cell_type": "markdown",
   "id": "typical-option",
   "metadata": {
    "slideshow": {
     "slide_type": "slide"
    }
   },
   "source": [
    "# Seminario de Lenguajes - Python\n",
    "## Definición de nuevas excepciones"
   ]
  },
  {
   "cell_type": "markdown",
   "id": "3a58499e",
   "metadata": {
    "slideshow": {
     "slide_type": "subslide"
    }
   },
   "source": [
    "# Dijimos que ...\n",
    "\n",
    "> Una **excepción** es un acontecimiento, que ocurre **durante la ejecución** de un programa, que **interrumpe** el **flujo normal** de las instrucciones del programa. "
   ]
  },
  {
   "cell_type": "markdown",
   "id": "eb70b528",
   "metadata": {
    "slideshow": {
     "slide_type": "subslide"
    }
   },
   "source": [
    "## ¿Qué situaciones pueden producir excepciones?\n",
    "\n",
    "- Abrir un archivo que no existe o  donde no tenemos permisos adecuados.\n",
    "- Acceder a un elemento de un diccionario con una clave que no existe.\n",
    "- Invocar a un método o función que no fue definida.\n",
    "- Referirse a una variable que no fue definida.\n",
    "- Mezclar tipos de datos sin convertirlos previamente.\n",
    "- Etc."
   ]
  },
  {
   "cell_type": "markdown",
   "id": "f33049b6",
   "metadata": {
    "slideshow": {
     "slide_type": "fragment"
    }
   },
   "source": [
    "¿Qué tienen en común estas situaciones?"
   ]
  },
  {
   "cell_type": "markdown",
   "id": "1ebbaea7",
   "metadata": {
    "slideshow": {
     "slide_type": "subslide"
    }
   },
   "source": [
    "# Hay excepciones que no corresponden a un error\n",
    "\n",
    "- Por ejemplo: **StopIteration**"
   ]
  },
  {
   "cell_type": "markdown",
   "id": "1c5946a2",
   "metadata": {
    "slideshow": {
     "slide_type": "fragment"
    }
   },
   "source": [
    "- Así también podríamos querer crear nuevas exepciones para introducir en nuestros programas"
   ]
  },
  {
   "cell_type": "markdown",
   "id": "hollow-writer",
   "metadata": {
    "slideshow": {
     "slide_type": "slide"
    }
   },
   "source": [
    "# Python nos permite definir nuevas excepciones"
   ]
  },
  {
   "cell_type": "code",
   "execution_count": 1,
   "id": "micro-organization",
   "metadata": {
    "slideshow": {
     "slide_type": "fragment"
    }
   },
   "outputs": [],
   "source": [
    "class ExcepcionRara(Exception):\n",
    "    \"\"\" Esta excepción se producirá cuando .....\"\"\"\n",
    "    \n",
    "    def __init__(self, valor):\n",
    "        self.data = valor\n",
    "        \n",
    "    def __str__(self):\n",
    "        return f\"Info: {self.data}\""
   ]
  },
  {
   "cell_type": "markdown",
   "id": "ranking-colon",
   "metadata": {
    "slideshow": {
     "slide_type": "fragment"
    }
   },
   "source": [
    "- Las excepciones definidas por el usuario deberán derivar de la clase Exception, directa o indirectamente."
   ]
  },
  {
   "cell_type": "markdown",
   "id": "educated-partner",
   "metadata": {
    "slideshow": {
     "slide_type": "subslide"
    }
   },
   "source": [
    "# ¿Cómo levantamos esta excepción?"
   ]
  },
  {
   "cell_type": "markdown",
   "id": "amino-edmonton",
   "metadata": {
    "slideshow": {
     "slide_type": "fragment"
    }
   },
   "source": [
    "- Como levantamos cualquier otra excepción: **raise**"
   ]
  },
  {
   "cell_type": "code",
   "execution_count": 2,
   "id": "controlled-friday",
   "metadata": {
    "slideshow": {
     "slide_type": "fragment"
    }
   },
   "outputs": [
    {
     "name": "stdout",
     "output_type": "stream",
     "text": [
      "Ups! Se produjo la excepción rara!! Info: Hola mundo\n"
     ]
    }
   ],
   "source": [
    "try:\n",
    "    raise ExcepcionRara(\"Hola mundo\")\n",
    "    \n",
    "except ExcepcionRara as e:\n",
    "    print(f\"Ups! Se produjo la excepción rara!! {e}\")"
   ]
  },
  {
   "cell_type": "markdown",
   "id": "patient-filename",
   "metadata": {
    "slideshow": {
     "slide_type": "subslide"
    }
   },
   "source": [
    "# Algunas convenciones\n",
    "\n",
    "- Según la PEP 8, el nombre de de la clase debería tener el sufijo \"Error\", **si la excepción representa un error**.\n",
    "- Veamos este ejemplo de la [documentación oficial](https://docs.python.org/es/3/tutorial/errors.html):"
   ]
  },
  {
   "cell_type": "code",
   "execution_count": 3,
   "id": "internal-personal",
   "metadata": {
    "slideshow": {
     "slide_type": "fragment"
    }
   },
   "outputs": [],
   "source": [
    "class Error(Exception):\n",
    "    \"\"\"Base class for exceptions in this module.\"\"\"\n",
    "    pass\n",
    "\n",
    "class InputError(Error):\n",
    "    \"\"\"Exception raised for errors in the input.\n",
    "    Attributes:\n",
    "        expression -- input expression in which the error occurred\n",
    "        message -- explanation of the error\n",
    "    \"\"\"\n",
    "\n",
    "    def __init__(self, expression, message):\n",
    "        self.expression = expression\n",
    "        self.message = message"
   ]
  },
  {
   "cell_type": "code",
   "execution_count": 4,
   "id": "offensive-conspiracy",
   "metadata": {
    "slideshow": {
     "slide_type": "fragment"
    }
   },
   "outputs": [
    {
     "name": "stdout",
     "output_type": "stream",
     "text": [
      "('xxx', 'hola')\n"
     ]
    }
   ],
   "source": [
    "try:\n",
    "    raise InputError(\"xxx\",\"hola\")\n",
    "except InputError as e: \n",
    "    print(e)"
   ]
  },
  {
   "cell_type": "markdown",
   "id": "fuzzy-birth",
   "metadata": {
    "slideshow": {
     "slide_type": "notes"
    }
   },
   "source": [
    "#  Al crear un módulo que puede producir distintos errores, se puede crear una clase base para las excepciones definidas en ese módulo y extenderla para crear clases derivadas correspondientes."
   ]
  },
  {
   "cell_type": "markdown",
   "id": "gothic-missouri",
   "metadata": {
    "slideshow": {
     "slide_type": "slide"
    }
   },
   "source": [
    "<img src=\"imagenes/portada_video.png\" alt=\"nos vemos el martes\" style=\"width:1050px;\"/>\n"
   ]
  }
 ],
 "metadata": {
  "celltoolbar": "Slideshow",
  "kernelspec": {
   "display_name": "Python 3 (ipykernel)",
   "language": "python",
   "name": "python3"
  },
  "language_info": {
   "codemirror_mode": {
    "name": "ipython",
    "version": 3
   },
   "file_extension": ".py",
   "mimetype": "text/x-python",
   "name": "python",
   "nbconvert_exporter": "python",
   "pygments_lexer": "ipython3",
   "version": "3.11.3"
  }
 },
 "nbformat": 4,
 "nbformat_minor": 5
}
