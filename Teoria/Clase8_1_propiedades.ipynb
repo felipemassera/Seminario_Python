{
 "cells": [
  {
   "attachments": {},
   "cell_type": "markdown",
   "id": "61da14a9",
   "metadata": {
    "slideshow": {
     "slide_type": "slide"
    }
   },
   "source": [
    "# Seminario de Lenguajes - Python\n",
    "\n",
    "\n",
    "## Repaso de POO. Propiedades\n"
   ]
  },
  {
   "attachments": {},
   "cell_type": "markdown",
   "id": "c08366ef",
   "metadata": {
    "slideshow": {
     "slide_type": "slide"
    }
   },
   "source": [
    "# Sobre los objetos\n",
    "\n",
    "- Son los elementos fundamentales de la POO.\n",
    "- Son entidades que poseen **estado interno** y **comportamiento**.\n",
    "<center>\n",
    "<img src=\"imagenes/objeto_usuario_cont.png\" alt=\"Objeto Jugador\" style=\"width:750px;\"/>\n",
    "</center>"
   ]
  },
  {
   "attachments": {},
   "cell_type": "markdown",
   "id": "945ac5d3",
   "metadata": {
    "slideshow": {
     "slide_type": "subslide"
    }
   },
   "source": [
    "# Pensemos en la clase Usuario\n",
    "<center>\n",
    "<img src=\"imagenes/clase_usuario.png\" alt=\"clase Usuario\" style=\"width:250px;\"/>\n",
    "</center>\n",
    "\n",
    "- Cuando creamos un objeto, creamos una **instancia de la clase**.\n",
    "- Una **instancia** es un **objeto individualizado** por los valores que tomen sus atributos o propiedades.\n",
    "<center>\n",
    "<img src=\"imagenes/objeto_dibu.png\" alt=\"clase Usuario\" style=\"width:450px;\"/>\n",
    "</center>"
   ]
  },
  {
   "attachments": {},
   "cell_type": "markdown",
   "id": "530ea6bd",
   "metadata": {
    "slideshow": {
     "slide_type": "subslide"
    }
   },
   "source": [
    "# Observemos este código: ¿qué diferencia hay entre villanos y enemigos?"
   ]
  },
  {
   "cell_type": "code",
   "execution_count": 1,
   "id": "3c442701",
   "metadata": {
    "slideshow": {
     "slide_type": "fragment"
    }
   },
   "outputs": [],
   "source": [
    "class SuperHeroe():\n",
    "    \"\"\" Esta clase  define a un superheroe \n",
    "    villanos:  representa a los enemigos de todos los superhéroes\n",
    "    \"\"\" \n",
    "    villanos = []\n",
    "        \n",
    "    def __init__(self, nombre, alias):\n",
    "        self.alias = alias\n",
    "        self.nombre = nombre\n",
    "        self.enemigos = []\n",
    "  \n",
    "    def get_enemigos(self):\n",
    "        return self.enemigos\n",
    "        \n",
    "    def agregar_enemigo(self, otro_enemigo):\n",
    "        \"Agrega un enemigo a los enemigos del superhéroe\"\n",
    "        \n",
    "        self.enemigos.append(otro_enemigo)\n",
    "        SuperHeroe.villanos.append(otro_enemigo)\n",
    "            "
   ]
  },
  {
   "attachments": {},
   "cell_type": "markdown",
   "id": "b282f5c6",
   "metadata": {
    "slideshow": {
     "slide_type": "subslide"
    }
   },
   "source": [
    "# Variables de instancia vs. de clase\n",
    "\n",
    "> Una **variable de instancia** es **exclusiva de cada instancia** u objeto.\n",
    "\n",
    "> Una **variable de clase** es única y es **compartida por todas las instancias** de la clase. \n",
    "\n"
   ]
  },
  {
   "attachments": {},
   "cell_type": "markdown",
   "id": "4426a812",
   "metadata": {
    "slideshow": {
     "slide_type": "slide"
    }
   },
   "source": [
    "# Público y privado\n",
    "\n",
    "- Antes de empezar a hablar de esto ....\n",
    "\n",
    "\"**“Private” instance variables that cannot be accessed except from inside an object don’t exist in Python.\"**\"\n",
    "\n",
    "- De nuevo.. en español..\n",
    "\n",
    "**\"Las variables «privadas» de instancia, que no pueden accederse excepto desde dentro de un objeto, no existen en Python\"\"**\n",
    "\n",
    "- ¿Y entonces?\n",
    "\n",
    "- Más info:  https://docs.python.org/3/tutorial/classes.html#private-variables"
   ]
  },
  {
   "attachments": {},
   "cell_type": "markdown",
   "id": "08bbf5a7",
   "metadata": {
    "slideshow": {
     "slide_type": "subslide"
    }
   },
   "source": [
    "# Hay una convención ..\n",
    "\n",
    "Es posible **definir el acceso** a determinados métodos y atributos de los objetos, quedando claro qué cosas se pueden y no se pueden utilizar desde **fuera de la clase**.\n"
   ]
  },
  {
   "attachments": {},
   "cell_type": "markdown",
   "id": "50cdff8d",
   "metadata": {
    "slideshow": {
     "slide_type": "fragment"
    }
   },
   "source": [
    "\n",
    "- **Por convención**, todo atributo (**propiedad** o método) que comienza con \"_\" se considera no público.\n",
    "    - A partir de ahora hablaremos de  **variables de instancia** y métodos. Dejamos el término **propiedad** para otro concepto. \n",
    "- Pero esto no impide que se acceda. **Simplemente es una convención**."
   ]
  },
  {
   "cell_type": "code",
   "execution_count": 3,
   "id": "6f2453aa",
   "metadata": {
    "slideshow": {
     "slide_type": "fragment"
    }
   },
   "outputs": [
    {
     "name": "stdout",
     "output_type": "stream",
     "text": [
      "mama_de_John\n",
      "Sara Connor\n"
     ]
    }
   ],
   "source": [
    "class Usuario():\n",
    "    \"Define la entidad que representa a un usuario en UNLPImage\"\n",
    "    def __init__(self, nom=\"Sara Connor\", alias=\"mama_de_John\"):\n",
    "        self._nombre = nom\n",
    "        self.nick = alias\n",
    "        self.avatar = None\n",
    "    #Métodos\n",
    "    def cambiar_nombre(self, nuevo_nombre):\n",
    "        self._nombre = nuevo_nombre\n",
    "\n",
    "obj = Usuario()\n",
    "print(obj.nick)\n",
    "print(obj._nombre)"
   ]
  },
  {
   "attachments": {},
   "cell_type": "markdown",
   "id": "4072488d",
   "metadata": {
    "slideshow": {
     "slide_type": "slide"
    }
   },
   "source": [
    "# getters y setters"
   ]
  },
  {
   "cell_type": "code",
   "execution_count": 5,
   "id": "f526f55b",
   "metadata": {
    "slideshow": {
     "slide_type": "fragment"
    }
   },
   "outputs": [],
   "source": [
    "class Demo:\n",
    "    def __init__(self):\n",
    "        self._x = 0\n",
    "        self.y = 10\n",
    "\n",
    "    def get_x(self):\n",
    "        return self._x\n",
    "        \n",
    "    def set_x(self, value):\n",
    "        self._x = value"
   ]
  },
  {
   "attachments": {},
   "cell_type": "markdown",
   "id": "bae564a7",
   "metadata": {
    "slideshow": {
     "slide_type": "fragment"
    }
   },
   "source": [
    "- ¿Cuántas **variables de instancia**?\n",
    "- Por cada variable de instancia **no pública** tenemos un método **get** y un método **set**. O, como veremos más adelante: **propiedades**."
   ]
  },
  {
   "attachments": {},
   "cell_type": "markdown",
   "id": "9706a9b5",
   "metadata": {
    "slideshow": {
     "slide_type": "slide"
    }
   },
   "source": [
    "# Propiedades\n",
    "\n",
    "- Podemos definir a **x** como una **propiedad** de la clase. ¿Qué significa esto? ¿Cuál es la ventaja?"
   ]
  },
  {
   "cell_type": "code",
   "execution_count": 6,
   "id": "f4102281",
   "metadata": {},
   "outputs": [],
   "source": [
    "class Demo:\n",
    "    def __init__(self):\n",
    "        self._x = 0\n",
    "        \n",
    "    def get_x(self):\n",
    "        print(\"estoy en get\")\n",
    "        return self._x\n",
    "    \n",
    "    def set_x(self, value):\n",
    "        print(\"estoy en set\")\n",
    "        self._x = value\n",
    "\n",
    "    x = property(get_x, set_x)"
   ]
  },
  {
   "cell_type": "code",
   "execution_count": 7,
   "id": "social-electricity",
   "metadata": {
    "slideshow": {
     "slide_type": "fragment"
    }
   },
   "outputs": [
    {
     "name": "stdout",
     "output_type": "stream",
     "text": [
      "estoy en get\n",
      "0\n"
     ]
    }
   ],
   "source": [
    "obj = Demo()\n",
    "print(obj.x)"
   ]
  },
  {
   "cell_type": "code",
   "execution_count": 8,
   "id": "870e7438",
   "metadata": {
    "slideshow": {
     "slide_type": "fragment"
    }
   },
   "outputs": [
    {
     "name": "stdout",
     "output_type": "stream",
     "text": [
      "estoy en set\n",
      "estoy en get\n",
      "10\n"
     ]
    }
   ],
   "source": [
    "obj.x = 10\n",
    "print(obj.x)"
   ]
  },
  {
   "attachments": {},
   "cell_type": "markdown",
   "id": "naughty-transcription",
   "metadata": {
    "slideshow": {
     "slide_type": "subslide"
    }
   },
   "source": [
    "# La función property()\n",
    "\n",
    "- **property()** crea una **propiedad** de la clase. \n",
    "\n",
    "- Forma general: \n",
    "\n",
    "\n",
    "```python\n",
    "\tproperty(fget=None, fset=None, fdel=None, doc=None)\n",
    "```"
   ]
  },
  {
   "attachments": {},
   "cell_type": "markdown",
   "id": "remarkable-rwanda",
   "metadata": {
    "slideshow": {
     "slide_type": "fragment"
    }
   },
   "source": [
    "- [+Info](https://docs.python.org/3/library/functions.html?highlight=property#property)"
   ]
  },
  {
   "attachments": {},
   "cell_type": "markdown",
   "id": "6d994b49",
   "metadata": {
    "slideshow": {
     "slide_type": "subslide"
    }
   },
   "source": [
    "# El ejemplo completo"
   ]
  },
  {
   "cell_type": "code",
   "execution_count": 9,
   "id": "6cb6c355",
   "metadata": {
    "slideshow": {
     "slide_type": "fragment"
    }
   },
   "outputs": [],
   "source": [
    "class Demo:\n",
    "    def __init__(self):\n",
    "        self._x = 0\n",
    "    def getx(self):\n",
    "        print(\"estoy en get\")\n",
    "        return self._x\n",
    "    def setx(self, value):\n",
    "        print(\"estoy en set\")\n",
    "        self._x = value\n",
    "    def delx(self):\n",
    "        print(\"estoy en del\")\n",
    "        del self._x\n",
    "    \n",
    "    x = property(getx, setx, delx, \"x es una propiedad\")"
   ]
  },
  {
   "cell_type": "code",
   "execution_count": 10,
   "id": "e6becdcb",
   "metadata": {
    "slideshow": {
     "slide_type": "fragment"
    }
   },
   "outputs": [
    {
     "name": "stdout",
     "output_type": "stream",
     "text": [
      "estoy en set\n",
      "estoy en get\n",
      "10\n",
      "estoy en del\n"
     ]
    }
   ],
   "source": [
    "obj = Demo()\n",
    "obj.x = 10\n",
    "print(obj.x)\n",
    "del obj.x"
   ]
  },
  {
   "attachments": {},
   "cell_type": "markdown",
   "id": "disabled-spyware",
   "metadata": {
    "slideshow": {
     "slide_type": "subslide"
    }
   },
   "source": [
    "# Más sobre property()\n",
    "\n",
    "- ¿Qué pasa con el siguiente código si la **propiedad x** se define de la siguiente manera?:"
   ]
  },
  {
   "cell_type": "code",
   "execution_count": 13,
   "id": "minute-switzerland",
   "metadata": {
    "slideshow": {
     "slide_type": "fragment"
    }
   },
   "outputs": [],
   "source": [
    "class Demo:\n",
    "    def __init__(self):\n",
    "        self._x = 0\n",
    "\n",
    "    def getx(self):\n",
    "        return self._x\n",
    "\n",
    "    def setx(self, value):\n",
    "        self._x = value\n",
    "\n",
    "    def delx(self):\n",
    "        del self._x\n",
    "    \n",
    "    x = property(getx, setx)"
   ]
  },
  {
   "cell_type": "code",
   "execution_count": 14,
   "id": "general-service",
   "metadata": {
    "slideshow": {
     "slide_type": "fragment"
    }
   },
   "outputs": [],
   "source": [
    "obj = Demo()\n",
    "obj.x = 10"
   ]
  },
  {
   "attachments": {},
   "cell_type": "markdown",
   "id": "excessive-imaging",
   "metadata": {
    "slideshow": {
     "slide_type": "subslide"
    }
   },
   "source": [
    "# ¿Y esto?"
   ]
  },
  {
   "cell_type": "code",
   "execution_count": 15,
   "id": "ultimate-average",
   "metadata": {
    "slideshow": {
     "slide_type": "fragment"
    }
   },
   "outputs": [],
   "source": [
    "class Demo:\n",
    "    def __init__(self):\n",
    "        self._x = 0\n",
    "\n",
    "    @property\n",
    "    def x(self):\n",
    "        return self._x"
   ]
  },
  {
   "cell_type": "code",
   "execution_count": 16,
   "id": "three-intent",
   "metadata": {
    "slideshow": {
     "slide_type": "fragment"
    }
   },
   "outputs": [
    {
     "name": "stdout",
     "output_type": "stream",
     "text": [
      "0\n"
     ]
    }
   ],
   "source": [
    "obj = Demo()\n",
    "print(obj.x)"
   ]
  },
  {
   "attachments": {},
   "cell_type": "markdown",
   "id": "collaborative-moisture",
   "metadata": {
    "slideshow": {
     "slide_type": "fragment"
    }
   },
   "source": [
    "- @property es un **decorador**."
   ]
  },
  {
   "attachments": {},
   "cell_type": "markdown",
   "id": "considerable-brighton",
   "metadata": {
    "slideshow": {
     "slide_type": "subslide"
    }
   },
   "source": [
    "# ¿Qué es un decorador?\n",
    "\n",
    "- Un **decorador es una función** que recibe una función como argumento y extiende el comportamiento de esta última función sin modificarla explícitamente."
   ]
  },
  {
   "attachments": {},
   "cell_type": "markdown",
   "id": "worldwide-geography",
   "metadata": {
    "slideshow": {
     "slide_type": "fragment"
    }
   },
   "source": [
    "### RECORDAMOS: las funciones son objetos de primera clase\n",
    " \n",
    "- **¿Qué significa esto?** Pueden ser asignadas a variables, almacenadas en estructuras de datos, pasadas como argumentos a otras funciones e incluso retornadas como valores de otras funciones."
   ]
  },
  {
   "attachments": {},
   "cell_type": "markdown",
   "id": "restricted-instrumentation",
   "metadata": {
    "slideshow": {
     "slide_type": "subslide"
    }
   },
   "source": [
    "# Observemos el siguiente código"
   ]
  },
  {
   "cell_type": "code",
   "execution_count": 17,
   "id": "floral-hybrid",
   "metadata": {
    "slideshow": {
     "slide_type": "fragment"
    }
   },
   "outputs": [],
   "source": [
    "def decimos_hola(nombre):\n",
    "    return f\"Hola {nombre}!\"\n",
    "\n",
    "def decimos_chau(nombre):\n",
    "    return f\"Chau {nombre}!\""
   ]
  },
  {
   "cell_type": "code",
   "execution_count": 18,
   "id": "d7cd497e",
   "metadata": {
    "slideshow": {
     "slide_type": "fragment"
    }
   },
   "outputs": [],
   "source": [
    "def saludo_a_Clau(saludo):\n",
    "    return saludo(\"Clau\")"
   ]
  },
  {
   "cell_type": "code",
   "execution_count": 20,
   "id": "analyzed-medium",
   "metadata": {
    "slideshow": {
     "slide_type": "fragment"
    }
   },
   "outputs": [
    {
     "data": {
      "text/plain": [
       "'Hola Clau!'"
      ]
     },
     "execution_count": 20,
     "metadata": {},
     "output_type": "execute_result"
    }
   ],
   "source": [
    "saludo_a_Clau(decimos_hola)\n",
    "#saludo_a_Clau(decimos_chau)"
   ]
  },
  {
   "attachments": {},
   "cell_type": "markdown",
   "id": "talented-stomach",
   "metadata": {
    "slideshow": {
     "slide_type": "subslide"
    }
   },
   "source": [
    "# ¿Qué podemos decir de este ejemplo?\n",
    "- Ejemplo sacado de https://realpython.com/primer-on-python-decorators/"
   ]
  },
  {
   "cell_type": "code",
   "execution_count": 21,
   "id": "premier-composer",
   "metadata": {
    "slideshow": {
     "slide_type": "fragment"
    }
   },
   "outputs": [],
   "source": [
    "def decorador(funcion):\n",
    "    def funcion_interna():\n",
    "        print(\"Antes de  invocar a la función.\")\n",
    "        funcion()\n",
    "        print(\"Después de invocar a la función.\")\n",
    "    \n",
    "    return funcion_interna\n",
    "\n",
    "def decimos_hola():\n",
    "    print(\"Hola!\")"
   ]
  },
  {
   "cell_type": "code",
   "execution_count": 22,
   "id": "latin-criticism",
   "metadata": {
    "slideshow": {
     "slide_type": "fragment"
    }
   },
   "outputs": [],
   "source": [
    "saludo = decorador(decimos_hola)"
   ]
  },
  {
   "attachments": {},
   "cell_type": "markdown",
   "id": "apparent-landing",
   "metadata": {
    "slideshow": {
     "slide_type": "fragment"
    }
   },
   "source": [
    "- ¿De qué tipo es saludo?"
   ]
  },
  {
   "cell_type": "code",
   "execution_count": null,
   "id": "e8cc8008",
   "metadata": {
    "slideshow": {
     "slide_type": "subslide"
    }
   },
   "outputs": [],
   "source": [
    "def decorador(funcion):\n",
    "    def funcion_interna():\n",
    "        print(\"Antes de  invocar a la función.\")\n",
    "        funcion()\n",
    "        print(\"Después de invocar a la función.\")\n",
    "    return funcion_interna\n",
    "\n",
    "def decimos_hola():\n",
    "    print(\"Hola!\")\n",
    "\n",
    "saludo = decorador(decimos_hola)"
   ]
  },
  {
   "attachments": {},
   "cell_type": "markdown",
   "id": "parental-mills",
   "metadata": {
    "slideshow": {
     "slide_type": "fragment"
    }
   },
   "source": [
    "- ¿A qué función hace referencia saludo?"
   ]
  },
  {
   "cell_type": "code",
   "execution_count": 23,
   "id": "demographic-mission",
   "metadata": {
    "slideshow": {
     "slide_type": "fragment"
    }
   },
   "outputs": [
    {
     "name": "stdout",
     "output_type": "stream",
     "text": [
      "Antes de  invocar a la función.\n",
      "Hola!\n",
      "Después de invocar a la función.\n"
     ]
    }
   ],
   "source": [
    "saludo()"
   ]
  },
  {
   "attachments": {},
   "cell_type": "markdown",
   "id": "second-shame",
   "metadata": {
    "slideshow": {
     "slide_type": "subslide"
    }
   },
   "source": [
    "# Otra forma de escribir esto en Python:"
   ]
  },
  {
   "cell_type": "code",
   "execution_count": 24,
   "id": "nuclear-equipment",
   "metadata": {
    "slideshow": {
     "slide_type": "fragment"
    }
   },
   "outputs": [],
   "source": [
    "def decorador(funcion):\n",
    "    def funcion_interna():\n",
    "        print(\"Antes de  invocar a la función.\")\n",
    "        funcion()\n",
    "        print(\"Después de invocar a la función.\")\n",
    "    return funcion_interna\n",
    "\n",
    "@decorador\n",
    "def decimos_hola():\n",
    "    print(\"Hola!\")\n"
   ]
  },
  {
   "cell_type": "code",
   "execution_count": 25,
   "id": "virgin-locator",
   "metadata": {
    "slideshow": {
     "slide_type": "fragment"
    }
   },
   "outputs": [
    {
     "name": "stdout",
     "output_type": "stream",
     "text": [
      "Antes de  invocar a la función.\n",
      "Hola!\n",
      "Después de invocar a la función.\n"
     ]
    }
   ],
   "source": [
    "decimos_hola()"
   ]
  },
  {
   "attachments": {},
   "cell_type": "markdown",
   "id": "written-coffee",
   "metadata": {
    "slideshow": {
     "slide_type": "subslide"
    }
   },
   "source": [
    "# Es equivalente a: \n",
    "    \n",
    "```python\n",
    "decimos_hola = decorador(decimos_hola)\n",
    "```"
   ]
  },
  {
   "attachments": {},
   "cell_type": "markdown",
   "id": "forbidden-blame",
   "metadata": {
    "slideshow": {
     "slide_type": "fragment"
    }
   },
   "source": [
    "- [+Ínfo](https://realpython.com/primer-on-python-decorators/)\n",
    "- [+Info en español](https://recursospython.com/guias-y-manuales/decoradores/)"
   ]
  },
  {
   "attachments": {},
   "cell_type": "markdown",
   "id": "annual-motor",
   "metadata": {
    "slideshow": {
     "slide_type": "subslide"
    }
   },
   "source": [
    "# Dijimos que @property es un decorador"
   ]
  },
  {
   "cell_type": "code",
   "execution_count": 26,
   "id": "vanilla-cleaner",
   "metadata": {
    "slideshow": {
     "slide_type": "fragment"
    }
   },
   "outputs": [],
   "source": [
    "class Demo:\n",
    "    def __init__(self):\n",
    "        self._x = 0\n",
    "\n",
    "    @property\n",
    "    def x(self):\n",
    "        return self._x\n"
   ]
  },
  {
   "cell_type": "code",
   "execution_count": 28,
   "id": "f2af5c20",
   "metadata": {
    "slideshow": {
     "slide_type": "fragment"
    }
   },
   "outputs": [
    {
     "ename": "AttributeError",
     "evalue": "property 'x' of 'Demo' object has no setter",
     "output_type": "error",
     "traceback": [
      "\u001b[0;31m---------------------------------------------------------------------------\u001b[0m",
      "\u001b[0;31mAttributeError\u001b[0m                            Traceback (most recent call last)",
      "Cell \u001b[0;32mIn[28], line 2\u001b[0m\n\u001b[1;32m      1\u001b[0m obj \u001b[38;5;241m=\u001b[39m Demo()\n\u001b[0;32m----> 2\u001b[0m \u001b[43mobj\u001b[49m\u001b[38;5;241;43m.\u001b[39;49m\u001b[43mx\u001b[49m \u001b[38;5;241m=\u001b[39m \u001b[38;5;241m10\u001b[39m \u001b[38;5;66;03m# Esto dará error: ¿por qué?\u001b[39;00m\n\u001b[1;32m      3\u001b[0m \u001b[38;5;28mprint\u001b[39m(obj\u001b[38;5;241m.\u001b[39mx)\n",
      "\u001b[0;31mAttributeError\u001b[0m: property 'x' of 'Demo' object has no setter"
     ]
    }
   ],
   "source": [
    "obj = Demo()\n",
    "obj.x = 10 # Esto dará error: ¿por qué?\n",
    "print(obj.x)"
   ]
  },
  {
   "attachments": {},
   "cell_type": "markdown",
   "id": "contemporary-bachelor",
   "metadata": {
    "slideshow": {
     "slide_type": "fragment"
    }
   },
   "source": [
    "- ATENCIÓN: x no es un método, es una propiedad.\n",
    "- [+Info](https://www.freecodecamp.org/news/python-property-decorator/)\n"
   ]
  },
  {
   "attachments": {},
   "cell_type": "markdown",
   "id": "spectacular-practitioner",
   "metadata": {
    "slideshow": {
     "slide_type": "subslide"
    }
   },
   "source": [
    "# El ejemplo completo"
   ]
  },
  {
   "cell_type": "code",
   "execution_count": 29,
   "id": "bibliographic-orleans",
   "metadata": {
    "slideshow": {
     "slide_type": "fragment"
    }
   },
   "outputs": [],
   "source": [
    "class Demo:\n",
    "    def __init__(self):\n",
    "        self._x = 0\n",
    "    @property\n",
    "    def x(self):\n",
    "        print(\"Estoy en get\")\n",
    "        return self._x\n",
    "\n",
    "    @x.setter\n",
    "    def x(self, value):\n",
    "        print(\"Estoy en get\")\n",
    "        self._x = value"
   ]
  },
  {
   "cell_type": "code",
   "execution_count": 30,
   "id": "guided-slope",
   "metadata": {
    "slideshow": {
     "slide_type": "fragment"
    }
   },
   "outputs": [
    {
     "name": "stdout",
     "output_type": "stream",
     "text": [
      "Estoy en get\n",
      "Estoy en get\n",
      "10\n"
     ]
    }
   ],
   "source": [
    "obj = Demo()\n",
    "obj.x = 10\n",
    "print(obj.x)\n",
    "#del obj.x"
   ]
  },
  {
   "attachments": {},
   "cell_type": "markdown",
   "id": "4fdae328",
   "metadata": {
    "slideshow": {
     "slide_type": "slide"
    }
   },
   "source": [
    "# Algo más para leer\n",
    "\n",
    "https://realpython.com/python-getter-setter/"
   ]
  },
  {
   "attachments": {},
   "cell_type": "markdown",
   "id": "4ffeb057",
   "metadata": {
    "slideshow": {
     "slide_type": "slide"
    }
   },
   "source": [
    "<img src=\"imagenes/portada_video.png\" alt=\"nos vemos el martes\" style=\"width:1050px;\"/>\n"
   ]
  },
  {
   "cell_type": "code",
   "execution_count": null,
   "id": "1a7ac83b",
   "metadata": {},
   "outputs": [],
   "source": []
  }
 ],
 "metadata": {
  "celltoolbar": "Slideshow",
  "kernelspec": {
   "display_name": "Python 3 (ipykernel)",
   "language": "python",
   "name": "python3"
  },
  "language_info": {
   "codemirror_mode": {
    "name": "ipython",
    "version": 3
   },
   "file_extension": ".py",
   "mimetype": "text/x-python",
   "name": "python",
   "nbconvert_exporter": "python",
   "pygments_lexer": "ipython3",
   "version": "3.11.2"
  }
 },
 "nbformat": 4,
 "nbformat_minor": 5
}
