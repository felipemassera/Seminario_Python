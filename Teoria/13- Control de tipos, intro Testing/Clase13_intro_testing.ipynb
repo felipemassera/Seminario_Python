{
 "cells": [
  {
   "cell_type": "markdown",
   "id": "periodic-impact",
   "metadata": {
    "slideshow": {
     "slide_type": "slide"
    }
   },
   "source": [
    "# Seminario de Lenguajes - Python\n",
    "## Cursada 2023\n",
    "### Clase 13. Una introducción al testing"
   ]
  },
  {
   "cell_type": "markdown",
   "id": "dried-belly",
   "metadata": {
    "slideshow": {
     "slide_type": "slide"
    }
   },
   "source": [
    "# ¿Qué significa testear?\n",
    "\n",
    "- Probar un software es someterlo a ciertas condiciones que puedan demostrar si es válido o no con respecto a los requerimientos planteados.\n",
    "\n",
    "- El objetivo de las pruebas es encontrar la mayor cantidad de errores posibles, **preferentemente antes de que los encuentre el usuario final**.\n",
    "\n",
    "- El testing mejora la calidad del producto y **deber realizarse en cada una** de las etapas del desarrollo del software."
   ]
  },
  {
   "cell_type": "markdown",
   "id": "retained-brave",
   "metadata": {
    "slideshow": {
     "slide_type": "slide"
    }
   },
   "source": [
    "# ¿Por qué testear?\n",
    "\n",
    "- Existe una gran cantidad de **parches** y versiones surgidas luego del lanzamiento de una versión final de un software destinadas a cubrir **\"agujeros de seguridad\" o malos funcionamientos**. \n",
    "- Por lo general, la etapa de pruebas es la menos sistematizada y tenida en cuenta."
   ]
  },
  {
   "cell_type": "markdown",
   "id": "engaged-tracker",
   "metadata": {
    "slideshow": {
     "slide_type": "subslide"
    }
   },
   "source": [
    "# \"Un imagen vale más que mil palabras\"\n",
    "Si bien son situaciones muy antiguas, son muy gráficas.\n",
    "\n",
    "<center>\n",
    "<img src=\"imagenes/testing.png\" alt=\"testing\" style=\"width:750px;\"/>\n",
    "</center>"
   ]
  },
  {
   "cell_type": "markdown",
   "id": "significant-terrain",
   "metadata": {
    "slideshow": {
     "slide_type": "slide"
    }
   },
   "source": [
    "# ¿Testeamos manualmente?\n",
    "- Cada vez que \"usamos\" nuestros programas y \"comprobamos que todo esté como pensamos que debería\", estamos testeando.\n",
    "- Podemos planificar estos test y, aún mejor,\n",
    "    - **podemos escribir tests que se ejecuten en forma automática.** \n"
   ]
  },
  {
   "cell_type": "markdown",
   "id": "unique-scroll",
   "metadata": {
    "slideshow": {
     "slide_type": "slide"
    }
   },
   "source": [
    "# Empecemos por algo simple\n",
    "\n",
    "En Python podemos escribir lo siguiente:"
   ]
  },
  {
   "cell_type": "code",
   "execution_count": null,
   "id": "nasty-figure",
   "metadata": {
    "slideshow": {
     "slide_type": "fragment"
    }
   },
   "outputs": [],
   "source": [
    "assert sum([1, 2, 3]) == 6"
   ]
  },
  {
   "cell_type": "markdown",
   "id": "pursuant-repeat",
   "metadata": {
    "slideshow": {
     "slide_type": "fragment"
    }
   },
   "source": [
    "# ¿assert ?\n",
    "\n",
    "- Esta sentencia realiza una **comprobación de una condición**, y en caso de ser falsa, levanta la excepción **AssertionError**."
   ]
  },
  {
   "cell_type": "markdown",
   "id": "strategic-survivor",
   "metadata": {
    "slideshow": {
     "slide_type": "subslide"
    }
   },
   "source": [
    "# La sentencia assert\n",
    "\n",
    "- La forma general es:\n",
    "\n",
    "```python\n",
    "assert condicion\n",
    "```\n",
    "- Sería equivalente a:\n",
    "```python\n",
    "if not condicion:\n",
    "    raise AssertionError()\n",
    "```"
   ]
  },
  {
   "cell_type": "code",
   "execution_count": null,
   "id": "tamil-wagner",
   "metadata": {
    "slideshow": {
     "slide_type": "subslide"
    }
   },
   "outputs": [],
   "source": [
    "assert sum([1, 2, 3]) == 6"
   ]
  },
  {
   "cell_type": "code",
   "execution_count": null,
   "id": "breeding-leeds",
   "metadata": {
    "slideshow": {
     "slide_type": "fragment"
    }
   },
   "outputs": [],
   "source": [
    "if sum([1, 2, 3]) != 6:\n",
    "    raise AssertionError()"
   ]
  },
  {
   "cell_type": "markdown",
   "id": "happy-north",
   "metadata": {
    "slideshow": {
     "slide_type": "subslide"
    }
   },
   "source": [
    "# Podemos pasar algo de información"
   ]
  },
  {
   "cell_type": "markdown",
   "id": "dental-morrison",
   "metadata": {
    "slideshow": {
     "slide_type": "fragment"
    }
   },
   "source": [
    "- En realidad la forma general de assert es:\n",
    "\n",
    "```python\n",
    "assert condicion [\",\" expresion]\n",
    "```\n",
    "- Sería equivalente a:\n",
    "```python\n",
    "if not condicion:\n",
    "    raise AssertionError(expresion)\n",
    "```"
   ]
  },
  {
   "cell_type": "code",
   "execution_count": null,
   "id": "dense-trademark",
   "metadata": {
    "slideshow": {
     "slide_type": "subslide"
    }
   },
   "outputs": [],
   "source": [
    "if sum([1, 2, 3]) != 6:\n",
    "    raise AssertionError(\"Debería dar 6\")"
   ]
  },
  {
   "cell_type": "code",
   "execution_count": null,
   "id": "ethical-repository",
   "metadata": {
    "slideshow": {
     "slide_type": "fragment"
    }
   },
   "outputs": [],
   "source": [
    "assert sum([1, 2, 3]) == 6, \"Debería dar 6\""
   ]
  },
  {
   "cell_type": "markdown",
   "id": "periodic-biology",
   "metadata": {
    "slideshow": {
     "slide_type": "subslide"
    }
   },
   "source": [
    "# Avancemos un poco más"
   ]
  },
  {
   "cell_type": "code",
   "execution_count": null,
   "id": "compound-flush",
   "metadata": {
    "slideshow": {
     "slide_type": "fragment"
    }
   },
   "outputs": [],
   "source": [
    "def calcular_promedio(lista):\n",
    "    \"\"\" Esta función retorna el promedio de una lista de números \"\"\"\n",
    "    \n",
    "    cant_elementos = len(lista)\n",
    "    return 0 if cant_elementos == 0 else sum(lista)/cant_elementos"
   ]
  },
  {
   "cell_type": "markdown",
   "id": "antique-minnesota",
   "metadata": {
    "slideshow": {
     "slide_type": "fragment"
    }
   },
   "source": [
    "- ¿Cómo podemos usar **assert** para probar esta función?"
   ]
  },
  {
   "cell_type": "code",
   "execution_count": null,
   "id": "french-mount",
   "metadata": {
    "slideshow": {
     "slide_type": "fragment"
    }
   },
   "outputs": [],
   "source": [
    "assert calcular_promedio([1, 2, 3]) == 2.0, \"Deberia dar 2.0\"\n",
    "assert calcular_promedio([1]) == 1.0, \"Deberia dar 1.0\""
   ]
  },
  {
   "cell_type": "code",
   "execution_count": null,
   "id": "configured-faculty",
   "metadata": {
    "slideshow": {
     "slide_type": "fragment"
    }
   },
   "outputs": [],
   "source": [
    "assert calcular_promedio([]) == 0, \"Deberia dar 0\""
   ]
  },
  {
   "cell_type": "markdown",
   "id": "dangerous-bibliography",
   "metadata": {
    "slideshow": {
     "slide_type": "subslide"
    }
   },
   "source": [
    "# También podemos chequear tipos\n",
    "\n",
    "- ¿Esto es suficiente?"
   ]
  },
  {
   "cell_type": "code",
   "execution_count": null,
   "id": "communist-aspect",
   "metadata": {
    "slideshow": {
     "slide_type": "fragment"
    }
   },
   "outputs": [],
   "source": [
    "def sumar(a: int, b: int) -> int:\n",
    "    \"\"\" Esta función retorna la suma de dos números enteros. \"\"\"\n",
    "    \n",
    "    return a+b"
   ]
  },
  {
   "cell_type": "code",
   "execution_count": null,
   "id": "9ae508a6",
   "metadata": {
    "slideshow": {
     "slide_type": "fragment"
    }
   },
   "outputs": [],
   "source": [
    "sumar(1,2)"
   ]
  },
  {
   "cell_type": "markdown",
   "id": "5e1eab30",
   "metadata": {
    "slideshow": {
     "slide_type": "fragment"
    }
   },
   "source": [
    "Vimos que no, ya que las anotaciones son simplemente sugerencias. **No se hace ninguna validación en la ejecución**. "
   ]
  },
  {
   "cell_type": "markdown",
   "id": "5438fb4f",
   "metadata": {
    "slideshow": {
     "slide_type": "subslide"
    }
   },
   "source": [
    "# Podemos usar assert para chequear tipos"
   ]
  },
  {
   "cell_type": "code",
   "execution_count": null,
   "id": "f67fa837",
   "metadata": {
    "slideshow": {
     "slide_type": "fragment"
    }
   },
   "outputs": [],
   "source": [
    "def sumar(a: int, b: int) -> int:\n",
    "    \"\"\" Esta función retorna la suma de dos números enteros. \"\"\"\n",
    "    assert type(a) == int, \"El primer argumento debería ser un entero\"\n",
    "    assert type(b) == int, \"El segundo argumento debería ser un entero\"\n",
    "    return a+b"
   ]
  },
  {
   "cell_type": "code",
   "execution_count": null,
   "id": "greater-technical",
   "metadata": {
    "slideshow": {
     "slide_type": "fragment"
    }
   },
   "outputs": [],
   "source": [
    "sumar(\"1\", \"2\")"
   ]
  },
  {
   "cell_type": "markdown",
   "id": "bottom-scheduling",
   "metadata": {
    "slideshow": {
     "slide_type": "subslide"
    }
   },
   "source": [
    "# Los \"test case\" o casos de pruebas"
   ]
  },
  {
   "cell_type": "code",
   "execution_count": 29,
   "id": "thorough-recall",
   "metadata": {
    "slideshow": {
     "slide_type": "fragment"
    }
   },
   "outputs": [
    {
     "name": "stdout",
     "output_type": "stream",
     "text": [
      "Tests pasados!\n"
     ]
    }
   ],
   "source": [
    "def test_case1():\n",
    "    assert calcular_promedio([]) == 0, \"Debería dar 0\"\n",
    "def test_case2():\n",
    "    assert calcular_promedio([1]) == 1.0, \"Debería dar 1.0\"\n",
    "def test_case3():\n",
    "    assert calcular_promedio([1, 2, 3]) == 2.0, \"Debería dar 2.0\"\n",
    "\n",
    "if __name__ == \"__main__\":\n",
    "    test_case1()\n",
    "    test_case2()\n",
    "    test_case3()   \n",
    "    print(\"Tests pasados!\")"
   ]
  },
  {
   "cell_type": "markdown",
   "id": "informational-metropolitan",
   "metadata": {
    "slideshow": {
     "slide_type": "slide"
    }
   },
   "source": [
    "# Tipos de tests\n",
    "\n",
    "\n",
    "- **Tests de unidad:** permite examinar cada módulo de manera individual para asegurar el correcto funcionamiento.\n",
    "- **Tests de integración:** permiten ver si existen fallas en la interacción de un módulo con otros módulos.\n",
    "- **Tests de sistema:** permiten analizar al sistema como un todo, verificando que cumple con los requisitos especificados, la interacción del mismo con el hardware, lo cual lleva a realizar pruebas de rendimiento, seguridad, resistencia, de recuperación, etc.\n",
    "- **Tests de aceptación:** permiten encontrar errores que sólo el usuario final puede descubrir."
   ]
  },
  {
   "cell_type": "markdown",
   "id": "fossil-center",
   "metadata": {
    "slideshow": {
     "slide_type": "fragment"
    }
   },
   "source": [
    "### ¿Qué tipo de test hicimos nosotros en nuestros casos de prueba? "
   ]
  },
  {
   "cell_type": "markdown",
   "id": "bearing-wesley",
   "metadata": {
    "slideshow": {
     "slide_type": "slide"
    }
   },
   "source": [
    "# Tests de unidad\n",
    "\n",
    "- Permiten examinar cada parte del programa (módulo, clase o función) de manera individual para asegurar su correcto funcionamiento. \n",
    "\n",
    "- Por lo general, se realizan una vez que se ha desarrollado, revisado y verificado el código fuente.\n",
    " "
   ]
  },
  {
   "cell_type": "markdown",
   "id": "known-calculator",
   "metadata": {
    "slideshow": {
     "slide_type": "subslide"
    }
   },
   "source": [
    "\n",
    "# ¿Cuáles son las ventajas de los tests de unidad?\n",
    "\n",
    "\n",
    "* Permiten probar que el programa funciona correctamente. \n",
    "* Se puede identificar variables que no existen o tipos esperados en las funciones.\n",
    "* Permite identificar, en caso de que se haga una modificación, que siga funcionando correctamente todas las parte del programa. \n",
    "* Son una buena forma de documentar el código (no en forma directa, pero como los tests indican cómo es que se tiene que comportar el programa, viendo los tests se puede ver el resultado esperado para ciertas entradas del programa). **Esto no excluye que se tenga que escribir la documentación del código.**\n"
   ]
  },
  {
   "cell_type": "markdown",
   "id": "explicit-briefs",
   "metadata": {
    "slideshow": {
     "slide_type": "subslide"
    }
   },
   "source": [
    "\n",
    "# ¿Y las desventajas?\n",
    "\n",
    "- Toman bastante tiempo de escribir. \n",
    "- Algunas clases o funciones son fáciles de testear pero otras no tanto.\n",
    "- Cuando se hace un gran cambio en el código hay que actualizar los tests.\n",
    "- Algo muy importante a tener en cuenta:\n",
    "\n",
    "<center>\n",
    "<h3>Aprobar los tests no significa que el sistema funcione a la perfección.</h3>\n",
    "</center>"
   ]
  },
  {
   "cell_type": "markdown",
   "id": "fifty-contamination",
   "metadata": {
    "slideshow": {
     "slide_type": "subslide"
    }
   },
   "source": [
    "\n",
    "¿Cómo tienen que ser los tests?\n",
    "===============================\n",
    "\n",
    "- Tienen que poder correr **sin interacción humana:** sin que el usuario **ingrese valores** en ningún caso.\n",
    "\n",
    "- Tienen que poder **verificar el resultado de la ejecución sin interacción humana**: se debe poder analizar los resultados en forma automática.\n",
    "\n",
    "- Un test tiene que ser **independiente** del otro. Es decir, el resultado de un test no debería depender del resultado anterior.\n"
   ]
  },
  {
   "cell_type": "markdown",
   "id": "lined-boost",
   "metadata": {
    "slideshow": {
     "slide_type": "subslide"
    }
   },
   "source": [
    "\n",
    "¿Qué condiciones deben cumplir un test?\n",
    "=======================================\n",
    "\n",
    "* Que funcione correctamente cuando los valores de entrada son válidos.\n",
    "\n",
    "* Que falle cuando los valores de entrada son inválidos, o que levante una excepción.\n"
   ]
  },
  {
   "cell_type": "markdown",
   "id": "arranged-creator",
   "metadata": {
    "slideshow": {
     "slide_type": "slide"
    }
   },
   "source": [
    "# Herramientas disponibles\n",
    "\n",
    "- Hay varias herramientas que podemos usar para automatizar estos tests:\n",
    "    - **unittest:** provista con el intérprete.\n",
    "    - **pytest:** info en https://docs.pytest.org/en/latest/\n",
    "    - **nose2:** info en https://docs.nose2.io/en/latest/"
   ]
  },
  {
   "cell_type": "markdown",
   "id": "naughty-juvenile",
   "metadata": {
    "slideshow": {
     "slide_type": "subslide"
    }
   },
   "source": [
    "# Vamos a usar el módulo unittest\n",
    "\n",
    "- Permite la realización automática de test de unidad.\n",
    "- No se tiene que instalar, pero si importarlo antes de usarlo.\n",
    "- Basado en JUnit (test de unidad para Java).\n",
    "\n",
    "- [Info oficial](https://docs.python.org/3/library/unittest.html)"
   ]
  },
  {
   "cell_type": "markdown",
   "id": "thermal-jacob",
   "metadata": {
    "slideshow": {
     "slide_type": "subslide"
    }
   },
   "source": [
    "# ¿Cómo definimos nuestros tests?\n",
    "\n",
    "- Debemos definir nuestros casos de prueba en clases que **heredan de la clase unittest.TestCase**.\n",
    "- Los métodos asociados a los test  deben comenzar con el prefijo **“test”**, de manera tal que puedan ser reconocidos por el **test runner**.\n",
    "- En vez de utilizar la sentencia assert, cada test invoca a métodos definidos en unittest.TestCase tales como:\n",
    "    - **assertEqual(), assertNotEqual():** para chequear por un resultado esperado.\n",
    "    - **assertTrue(), assertFalse():** para verificar una condición.\n",
    "    - **assertRaises():** para verificar si se levantó una excepción.\n",
    "    - La [lista completa de métodos](https://docs.python.org/3/library/unittest.html#assert-methods) en la documentación oficial."
   ]
  },
  {
   "cell_type": "markdown",
   "id": "measured-darkness",
   "metadata": {
    "slideshow": {
     "slide_type": "fragment"
    }
   },
   "source": [
    "- ¿Y la PEP 8?"
   ]
  },
  {
   "cell_type": "markdown",
   "id": "small-pharmacy",
   "metadata": {
    "slideshow": {
     "slide_type": "subslide"
    }
   },
   "source": [
    "# Probemos este ejemplo en el IDE\n",
    "\n",
    "- Usamos parámetro -v \n",
    "\n",
    "\n",
    "```python\n",
    "# Módulo: mis_funciones\n",
    "def calcular_promedio(lista):\n",
    "    \"\"\" Calcula el promedio de los valores dentro de la lista dada como argumento\"\"\"\n",
    "    \n",
    "    cant_elementos = len(lista)\n",
    "    return 0 if cant_elementos == 0 else sum(lista)/cant_elementos\n",
    "\n",
    "```"
   ]
  },
  {
   "cell_type": "markdown",
   "id": "portuguese-donor",
   "metadata": {
    "slideshow": {
     "slide_type": "subslide"
    }
   },
   "source": [
    "```python\n",
    "#Código: test1.py\n",
    "import unittest\n",
    "from mis_funciones import calcular_promedio\n",
    "\n",
    "class TestMiFuncion(unittest.TestCase):\n",
    "    def test_case1(self):\n",
    "        \"\"\" Testea que el promedio de una lista vacía de 0\"\"\"\n",
    "        \n",
    "        self.assertEqual(calcular_promedio([]), 0)\n",
    "\n",
    "    def test_case2(self):\n",
    "        \"\"\" Testea que el promedio de una lista con un único valor es el mismo valor \"\"\"\n",
    "        \n",
    "        valor = 1\n",
    "        self.assertEqual(calcular_promedio([valor]), float(valor))\n",
    "\n",
    "    def test_case3(self):\n",
    "        \"\"\" testea que el promedio de los valores 1, 2 y 3 sea 2.0\"\"\"\n",
    "        \n",
    "        self.assertEqual(calcular_promedio([1, 2, 3]), 2.0)\n",
    "\n",
    "if __name__ == '__main__':\n",
    "    unittest.main()\n",
    "```"
   ]
  },
  {
   "cell_type": "markdown",
   "id": "proprietary-geography",
   "metadata": {
    "slideshow": {
     "slide_type": "subslide"
    }
   },
   "source": [
    "# Analizamos el código\n",
    "\n",
    "- La clase que contiene los test es una clase derivada de unittest.TestCase.\n",
    "- Todos los casos de prueba son métodos que comienzan con el prefijo **test**.\n",
    "- Usamos assertEqual para comprobar el valor de una expresión.\n",
    "- Invocamos a **unittest.main()** pasa ejecutar todos los test: el **test runner**\n",
    "    - También: **python -m unittest test1**\n",
    "    - O **python -m unittest -v test1**"
   ]
  },
  {
   "cell_type": "markdown",
   "id": "collected-identity",
   "metadata": {
    "slideshow": {
     "slide_type": "subslide"
    }
   },
   "source": [
    "### Podemos también usar:\n",
    "- python -m unittest discover\n",
    "- O para ejecutar todos los test en una carpeta: **python -m unittest discover -s tests**\n",
    "    - Donde se intenta ejecutar los tests dentro de la carpeta **tests**"
   ]
  },
  {
   "cell_type": "markdown",
   "id": "geographic-spine",
   "metadata": {
    "slideshow": {
     "slide_type": "subslide"
    }
   },
   "source": [
    "# Agregamos esta función\n",
    "\n",
    "```python\n",
    "def calcular_promedio_descuidada(valores):\n",
    "    \"\"\" Calcula el promedio de los valores dentro de la lista dada como argumento\"\"\"\n",
    "\n",
    "    return sum(valores) / len(valores)\n",
    "```\n",
    "\n",
    "- ¿Qué deberíamos testear en este caso?"
   ]
  },
  {
   "cell_type": "markdown",
   "id": "juvenile-occasions",
   "metadata": {
    "slideshow": {
     "slide_type": "fragment"
    }
   },
   "source": [
    "- El funcionamiento \"normal\". Es decir: **calcular_promedio_descuidada([20, 30, 70]) debería ser 40.0**\n",
    "- Debería levantar la excepción **ZeroDivisionError** en caso de enviar una secuencia vacía."
   ]
  },
  {
   "cell_type": "markdown",
   "id": "juvenile-there",
   "metadata": {
    "slideshow": {
     "slide_type": "fragment"
    }
   },
   "source": [
    "- Aunque también, tanto en esta función como en la anterior, podríamos testear:\n",
    "    - Si se levanta la excepción **TypeError** en caso de no enviar una secuencia como parámetro."
   ]
  },
  {
   "cell_type": "markdown",
   "id": "impressed-disney",
   "metadata": {
    "slideshow": {
     "slide_type": "subslide"
    }
   },
   "source": [
    "## Probemos el código en IDE\n",
    "- Cödigo: test2.py\n",
    "```python\n",
    "class TestFuncionDescuidada(unittest.TestCase):\n",
    "    def test_case1(self):\n",
    "        \"\"\" Testea  que el promedio de los valores 20, 50 y 70 sea 40.0 \"\"\"\n",
    "\n",
    "        self.assertEqual(calcular_promedio_descuidada([20, 30, 70]), 40.0)\n",
    "    def test_case2(self):\n",
    "        \"\"\" Testea que se levante la excepciónn ZeroDivisionError cuando la lista está vacía \"\"\"\n",
    "\n",
    "        self.assertRaises(ZeroDivisionError, calcular_promedio_descuidada, [])\n",
    "\n",
    "    def test_case3(self):\n",
    "        \"\"\" Testea que el argumento de la función sea una secuencia\"\"\"\n",
    "\n",
    "        self.assertRaises(TypeError, calcular_promedio_descuidada, 20, 30, 70)\n",
    "\n",
    "```\n"
   ]
  },
  {
   "cell_type": "markdown",
   "id": "hungarian-going",
   "metadata": {
    "slideshow": {
     "slide_type": "slide"
    }
   },
   "source": [
    "# Analicemos los resultados\n",
    "\n",
    "- Modifiquemos el código para que falle algunos de los tests.\n",
    "\n",
    "```python\n",
    "def calcular_promedio(lista):\n",
    "    cant_elementos = len(lista)\n",
    "    return 1 if cant_elementos == 0 else sum(lista)/cant_elementos\n",
    "\n",
    "```"
   ]
  },
  {
   "cell_type": "markdown",
   "id": "incredible-poker",
   "metadata": {
    "slideshow": {
     "slide_type": "subslide"
    }
   },
   "source": [
    "# ¿Qué excepción se levanta? **AssertionError: 0 != 1**\n",
    "<img src=\"imagenes/test_fail.png\" alt=\"testing\" style=\"width:750px;\"/>\n",
    "\n"
   ]
  },
  {
   "cell_type": "markdown",
   "id": "turkish-battlefield",
   "metadata": {
    "slideshow": {
     "slide_type": "subslide"
    }
   },
   "source": [
    "# Observemos los docstrings !!!!\n",
    "\n",
    "\n",
    "<img src=\"imagenes/test_fail1.png\" alt=\"testing\" style=\"width:750px;\"/>\n"
   ]
  },
  {
   "cell_type": "markdown",
   "id": "quantitative-series",
   "metadata": {
    "slideshow": {
     "slide_type": "slide"
    }
   },
   "source": [
    "# Más info\n",
    "\n",
    "- Testing con unnitest: https://realpython.com/python-testing/\n",
    "- Testing con PyTest: https://realpython.com/pytest-python-testing/\n",
    "- En los primeros 20 minutos del [video](https://www.youtube.com/watch?v=WbRDkJ4lPdY) del curso CS50's Web Programming with Python and JavaScript 2020 \n"
   ]
  },
  {
   "cell_type": "markdown",
   "id": "nearby-speaking",
   "metadata": {
    "slideshow": {
     "slide_type": "slide"
    }
   },
   "source": [
    "# Desafío\n",
    "\n",
    "## Definir la clase Pila y escribir los tests que permitan verificar su comportamiento.\n",
    "- El que se anime a hacerlo, pueden subirlo a su repositorio y lo comparte con @clauBanchoff\n",
    "- Recuerden mandarme mensaje para revisar."
   ]
  },
  {
   "cell_type": "markdown",
   "id": "organized-column",
   "metadata": {
    "slideshow": {
     "slide_type": "slide"
    }
   },
   "source": [
    "# Hasta acá llegamos ...\n",
    "\n",
    "### La semana próxima: actividad 3 por 85  Python plus"
   ]
  }
 ],
 "metadata": {
  "celltoolbar": "Slideshow",
  "kernelspec": {
   "display_name": "Python 3 (ipykernel)",
   "language": "python",
   "name": "python3"
  },
  "language_info": {
   "codemirror_mode": {
    "name": "ipython",
    "version": 3
   },
   "file_extension": ".py",
   "mimetype": "text/x-python",
   "name": "python",
   "nbconvert_exporter": "python",
   "pygments_lexer": "ipython3",
   "version": "3.11.3"
  }
 },
 "nbformat": 4,
 "nbformat_minor": 5
}
