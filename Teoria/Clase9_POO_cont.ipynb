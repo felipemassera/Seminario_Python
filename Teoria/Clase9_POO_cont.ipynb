{
 "cells": [
  {
   "cell_type": "markdown",
   "id": "handed-string",
   "metadata": {
    "slideshow": {
     "slide_type": "slide"
    }
   },
   "source": [
    "# Seminario de Lenguajes - Python\n",
    "## Cursada 2023\n",
    "### Aspectos básicos de  POO (Cont.)"
   ]
  },
  {
   "cell_type": "markdown",
   "id": "determined-question",
   "metadata": {
    "slideshow": {
     "slide_type": "subslide"
    }
   },
   "source": [
    "# Repasemos algunos conceptos vistos previamente"
   ]
  },
  {
   "cell_type": "markdown",
   "id": "complete-weight",
   "metadata": {
    "slideshow": {
     "slide_type": "subslide"
    }
   },
   "source": [
    "# <center> Un objeto es una colección de datos con un comportamiento asociado en una única entidad.</center>\n",
    "\n",
    "<center>\n",
    "<img src=\"imagenes/objeto_usuario.png\" alt=\"Objeto Jugador\" style=\"width:350px;\"/>\n",
    "</center>"
   ]
  },
  {
   "cell_type": "markdown",
   "id": "italian-hobby",
   "metadata": {
    "slideshow": {
     "slide_type": "subslide"
    }
   },
   "source": [
    "# POO: conceptos básicos\n",
    "\n",
    "- En POO un programa puede verse como un **conjunto de objetos** que interactúan entre ellos **enviándose mensajes**.\n",
    "- Estos mensajes están asociados al **comportamiento** del objeto (conjunto de **métodos**).\n",
    "\n",
    "<center>\n",
    "<img src=\"imagenes/envio_mensaje.png\" alt=\"Envío de mensajes\" style=\"width:650px;\"/>\n",
    "</center>\n"
   ]
  },
  {
   "cell_type": "markdown",
   "id": "subjective-authorization",
   "metadata": {
    "slideshow": {
     "slide_type": "slide"
    }
   },
   "source": [
    "# El mundo de los objetos \n",
    "\n",
    "<center>\n",
    "<img src=\"imagenes/objetos.png\" alt=\"Muchos objetos\" style=\"width:850px;\"/>\n",
    "</center>\n",
    "\n",
    "- No todos los objetos son iguales, ni tienen el mismo comportamiento.\n",
    "- Así **agrupamos** a los objetos de acuerdo a **características comunes**."
   ]
  },
  {
   "cell_type": "markdown",
   "id": "reserved-experiment",
   "metadata": {
    "slideshow": {
     "slide_type": "subslide"
    }
   },
   "source": [
    "# Objetos y clases\n",
    "\n",
    "\n",
    "> Una clase describe los atributos de objetos (**variables de instancia**) y las acciones o **métodos** que pueden hacer o ejecutar dichos objetos. \n"
   ]
  },
  {
   "cell_type": "markdown",
   "id": "refined-retention",
   "metadata": {
    "slideshow": {
     "slide_type": "fragment"
    }
   },
   "source": [
    "<center>\n",
    "<img src=\"imagenes/clases.png\" alt=\"Clases\" style=\"width:550px;\"/></center>"
   ]
  },
  {
   "cell_type": "markdown",
   "id": "0ac9806d",
   "metadata": {
    "slideshow": {
     "slide_type": "subslide"
    }
   },
   "source": [
    "# La clase Banda"
   ]
  },
  {
   "cell_type": "code",
   "execution_count": null,
   "id": "3cc50386",
   "metadata": {
    "slideshow": {
     "slide_type": "fragment"
    }
   },
   "outputs": [],
   "source": [
    "class Banda():\n",
    "    \"\"\" Representa a una banda de música\"\"\"\n",
    "    \n",
    "    generos = set()\n",
    "        \n",
    "    def __init__(self, nombre, genero=\"rock\"):\n",
    "        self.nombre = nombre\n",
    "        self.genero = genero\n",
    "        self._integrantes = []\n",
    "        Banda.generos.add(genero)\n",
    "    \n",
    "    def agregar_integrante(self, nuevo_integrante):\n",
    "        self._integrantes.append(nuevo_integrante)"
   ]
  },
  {
   "cell_type": "markdown",
   "id": "49df5b5d",
   "metadata": {
    "slideshow": {
     "slide_type": "fragment"
    }
   },
   "source": [
    "¿self?¿Cuáles son las variables de instancias?¿Y los métodos?¿Qué es **generos**?"
   ]
  },
  {
   "cell_type": "markdown",
   "id": "f427c9a3",
   "metadata": {
    "slideshow": {
     "slide_type": "subslide"
    }
   },
   "source": [
    "# Creamos instancias de Banda"
   ]
  },
  {
   "cell_type": "code",
   "execution_count": null,
   "id": "4a8ab778",
   "metadata": {
    "slideshow": {
     "slide_type": "fragment"
    }
   },
   "outputs": [],
   "source": [
    "soda = Banda(\"Soda Stereo\")\n",
    "soda.agregar_integrante(\"Gustavo Cerati\")\n",
    "soda.agregar_integrante(\"Zeta Bosio\")\n",
    "soda.agregar_integrante(\"Charly Alberti\")\n",
    "\n",
    "nompa = Banda(\"Nonpalidece\", genero=\"reggae\")\n",
    "nompa.agregar_integrante(\"Néstor Ramljak\")\n",
    "nompa.agregar_integrante(\"Agustín Azubel\")\n"
   ]
  },
  {
   "cell_type": "markdown",
   "id": "d1032b36",
   "metadata": {
    "slideshow": {
     "slide_type": "subslide"
    }
   },
   "source": [
    "# Mostramos el contenido de **Banda.generos**\n"
   ]
  },
  {
   "cell_type": "code",
   "execution_count": null,
   "id": "several-windsor",
   "metadata": {
    "slideshow": {
     "slide_type": "fragment"
    }
   },
   "outputs": [],
   "source": [
    "for genero in Banda.generos:\n",
    "        print(genero)"
   ]
  },
  {
   "cell_type": "markdown",
   "id": "communist-rwanda",
   "metadata": {
    "slideshow": {
     "slide_type": "subslide"
    }
   },
   "source": [
    "## Objetos  y clases\n",
    "\n",
    "- La  **clase** define las propiedades y los métodos de los objetos.\n",
    "\n",
    "- Los **objetos** son instancias de una clase.\n",
    "\n",
    "- Cuando se crea un objeto, se ejecuta automáticamente el método **\\_\\_init()\\_\\_** que permite inicializar el objeto.\n",
    "\n",
    "- La definición de la clase especifica qué partes son públicas y cuáles vamos a considerar no públicas.\n",
    "\n"
   ]
  },
  {
   "cell_type": "markdown",
   "id": "d3ee202b",
   "metadata": {
    "slideshow": {
     "slide_type": "fragment"
    }
   },
   "source": [
    "¿Cómo se especifica privado o público en Python?"
   ]
  },
  {
   "cell_type": "markdown",
   "id": "several-chemical",
   "metadata": {
    "slideshow": {
     "slide_type": "subslide"
    }
   },
   "source": [
    "\n",
    "# Mensajes y métodos\n",
    "\n",
    "TODO el procesamiento en este modelo es activado por mensajes entre objetos.\n",
    "\n",
    "- El **mensaje** es el modo de comunicación entre los objetos. Cuando se invoca una función de un objeto, lo que se está haciendo es **enviando un mensaje** a dicho objeto.\n",
    "- El **método** es la función que está asociada a un objeto determinado y cuya ejecución sólo puede desencadenarse a través del envío de un mensaje recibido.\n"
   ]
  },
  {
   "cell_type": "markdown",
   "id": "warming-rider",
   "metadata": {
    "slideshow": {
     "slide_type": "fragment"
    }
   },
   "source": [
    "- La **interfaz pública** del objeto está formada por las variables de instancias y métodos que otros objetos pueden usar para interactuar con él."
   ]
  },
  {
   "cell_type": "markdown",
   "id": "320b3295",
   "metadata": {
    "slideshow": {
     "slide_type": "slide"
    }
   },
   "source": [
    "# Hablemos de @property\n",
    "\n",
    ">[Clase 8_1 sobre propiedades](Clase_8_1_propiedades.ipynb)"
   ]
  },
  {
   "cell_type": "markdown",
   "id": "0b97b658",
   "metadata": {
    "slideshow": {
     "slide_type": "slide"
    }
   },
   "source": [
    "# Métodos de clase\n",
    "- ¿A qué creen que hacen referencia?"
   ]
  },
  {
   "cell_type": "markdown",
   "id": "623c6f97",
   "metadata": {
    "slideshow": {
     "slide_type": "fragment"
    }
   },
   "source": [
    "> Corresponden a los mensajes que se envían a la **clase**, no a las instancias de la misma."
   ]
  },
  {
   "cell_type": "markdown",
   "id": "0e67af46",
   "metadata": {
    "slideshow": {
     "slide_type": "fragment"
    }
   },
   "source": [
    "- Se utiliza el decorador **@classmethod**.\n",
    "- Se usa **cls** en vez de **self**. ¿A qué hace referencia este argumento? "
   ]
  },
  {
   "cell_type": "code",
   "execution_count": null,
   "id": "68ba7801",
   "metadata": {
    "slideshow": {
     "slide_type": "subslide"
    }
   },
   "outputs": [],
   "source": [
    "class Banda():\n",
    "    generos = set()\n",
    "    \n",
    "    @classmethod\n",
    "    def limpio_generos(cls, confirmo=False):\n",
    "        if confirmo:\n",
    "            cls.generos =set()\n",
    "        \n",
    "    def __init__(self, nombre, genero=\"rock\"):\n",
    "        self._nombre = nombre\n",
    "        self._genero = genero\n",
    "        self._integrantes = []\n",
    "        Banda.generos.add(genero)"
   ]
  },
  {
   "cell_type": "code",
   "execution_count": null,
   "id": "6e3a77cd",
   "metadata": {
    "slideshow": {
     "slide_type": "fragment"
    }
   },
   "outputs": [],
   "source": [
    "soda = Banda(\"Soda Stereo\")\n",
    "nompa = Banda(\"Nonpalidece\", genero=\"reggae\")"
   ]
  },
  {
   "cell_type": "code",
   "execution_count": null,
   "id": "39443282",
   "metadata": {
    "slideshow": {
     "slide_type": "fragment"
    }
   },
   "outputs": [],
   "source": [
    "Banda.generos"
   ]
  },
  {
   "cell_type": "code",
   "execution_count": null,
   "id": "9fc6e052",
   "metadata": {
    "slideshow": {
     "slide_type": "fragment"
    }
   },
   "outputs": [],
   "source": [
    "Banda.limpio_generos()"
   ]
  },
  {
   "cell_type": "markdown",
   "id": "ed0f5c2a",
   "metadata": {
    "slideshow": {
     "slide_type": "slide"
    }
   },
   "source": [
    "# Ahora, pensemos en los músicos de la banda\n",
    "Podemos pensar en:\n",
    "<center>\n",
    "<img src=\"imagenes/herencia.png\" alt=\"Hereencia\" style=\"width:650px;\"/></center>\n",
    "\n",
    "Donde:\n",
    "- Un guitarrista **\"es un\"** músico.\n",
    "- Un vocalista tambén **es un** músico."
   ]
  },
  {
   "cell_type": "markdown",
   "id": "c3f7b2c0",
   "metadata": {
    "slideshow": {
     "slide_type": "subslide"
    }
   },
   "source": [
    "# Hablemos de herencia\n",
    "\n",
    "- Es uno de los conceptos más importantes de la POO.\n",
    "- La herencia permite que una clase pueda *heredar* los atributos y métodos de otra clase, que se **agregan** a los propios. \n",
    "- Este concepto permite sumar, es decir **extender** una clase.\n",
    "- La clase que hereda se denomina **clase derivada** y la clase de la cual se deriva se denomina **clase base**.\n",
    "\n",
    "- Así, **Musico es la clase base** y **Guitarrista y Vocalista son clases derivadas** de Musico."
   ]
  },
  {
   "cell_type": "markdown",
   "id": "da601e1d",
   "metadata": {
    "slideshow": {
     "slide_type": "subslide"
    }
   },
   "source": [
    "# Ahora en Python"
   ]
  },
  {
   "cell_type": "code",
   "execution_count": null,
   "id": "8c66bee4",
   "metadata": {
    "slideshow": {
     "slide_type": "fragment"
    }
   },
   "outputs": [],
   "source": [
    "class Musico:\n",
    "    def __init__(self, nombre, puesto=None, banda=None):\n",
    "        self.nombre = nombre\n",
    "        self.tiene_banda = banda!=None\n",
    "        self._banda = banda\n",
    "        self.puesto = puesto\n",
    "    \n",
    "    def info(self):\n",
    "        if self.tiene_banda:\n",
    "            print (f\"{self.nombre}  integra la banda {self.banda}\")\n",
    "        else:\n",
    "            print(f\"{self.nombre} es solista \")\n",
    "            \n",
    "    @property\n",
    "    def banda(self):\n",
    "        if self.tiene_banda:\n",
    "            return self._banda\n",
    "        else:\n",
    "            return \"No tiene banda\"\n",
    "        \n",
    "    @banda.setter\n",
    "    def banda(self, banda):\n",
    "        self._banda = banda\n",
    "        self.tiene_banda = banda!=None"
   ]
  },
  {
   "cell_type": "code",
   "execution_count": null,
   "id": "2f9d31a0",
   "metadata": {
    "slideshow": {
     "slide_type": "subslide"
    }
   },
   "outputs": [],
   "source": [
    "class Guitarrista(Musico):\n",
    "    \n",
    "    def __init__(self, nombre, banda=None):\n",
    "        Musico.__init__(self, nombre, \"guitarrista\", banda)\n",
    "        self.instrumento = \"guitarra acústica\"\n",
    "    \n",
    "    def info(self):\n",
    "        print (f\"{self.nombre} toca {self.instrumento}\")"
   ]
  },
  {
   "cell_type": "markdown",
   "id": "1d47bb14",
   "metadata": {
    "slideshow": {
     "slide_type": "fragment"
    }
   },
   "source": [
    "- ¿Cuál es la clase base? ¿Y la clase derivada? ¿Cuáles son las variables de instancia de un objeto Guitarrista?\n",
    "- ¿Por qué invoco a **Músico\\_\\_init\\_\\_()**? ¿Qué pasa si no hago esto?"
   ]
  },
  {
   "cell_type": "code",
   "execution_count": null,
   "id": "428eba4a",
   "metadata": {
    "slideshow": {
     "slide_type": "subslide"
    }
   },
   "outputs": [],
   "source": [
    "class Vocalista(Musico):\n",
    "    \n",
    "    def __init__(self, nombre, banda=None):\n",
    "        Musico.__init__(self, nombre, \"vocalista\")\n",
    "        self.tipo_voz = \"Barítono\""
   ]
  },
  {
   "cell_type": "code",
   "execution_count": null,
   "id": "24858c64",
   "metadata": {
    "slideshow": {
     "slide_type": "fragment"
    }
   },
   "outputs": [],
   "source": [
    "bruce = Vocalista('Bruce Springsteen')\n",
    "brian = Guitarrista(\"Brian May\", \"Queen\")"
   ]
  },
  {
   "cell_type": "code",
   "execution_count": null,
   "id": "71852ef0",
   "metadata": {
    "slideshow": {
     "slide_type": "fragment"
    }
   },
   "outputs": [],
   "source": [
    "bruce.info()\n",
    "brian.info()"
   ]
  },
  {
   "cell_type": "code",
   "execution_count": null,
   "id": "788016c3",
   "metadata": {
    "slideshow": {
     "slide_type": "skip"
    }
   },
   "outputs": [],
   "source": [
    "bruce.tiene_banda"
   ]
  },
  {
   "cell_type": "code",
   "execution_count": null,
   "id": "d35f459f",
   "metadata": {
    "slideshow": {
     "slide_type": "fragment"
    }
   },
   "outputs": [],
   "source": [
    "bruce.banda = \"E Street Band\"\n",
    "bruce.info()"
   ]
  },
  {
   "cell_type": "markdown",
   "id": "running-wisconsin",
   "metadata": {
    "slideshow": {
     "slide_type": "subslide"
    }
   },
   "source": [
    "# También podemos chequear ..."
   ]
  },
  {
   "cell_type": "code",
   "execution_count": null,
   "id": "suited-table",
   "metadata": {
    "slideshow": {
     "slide_type": "fragment"
    }
   },
   "outputs": [],
   "source": [
    "f\"{bruce.nombre} es vocalista\" if isinstance(bruce, Vocalista) else f\"{bruce.nombre} NO es vocalista\""
   ]
  },
  {
   "cell_type": "code",
   "execution_count": null,
   "id": "judicial-floating",
   "metadata": {
    "slideshow": {
     "slide_type": "fragment"
    }
   },
   "outputs": [],
   "source": [
    "\"Guitarrista ES subclase de Musico\" if issubclass(Guitarrista, Musico) else \"Guitarrista NO es subclase de Musico\""
   ]
  },
  {
   "cell_type": "markdown",
   "id": "0bae996a",
   "metadata": {
    "slideshow": {
     "slide_type": "subslide"
    }
   },
   "source": [
    "# Bruce Springsteen es un vocalista,  pero también es un guitarrista...\n",
    "Podríamos pensar en algo así:"
   ]
  },
  {
   "cell_type": "markdown",
   "id": "27d0832b",
   "metadata": {
    "slideshow": {
     "slide_type": "fragment"
    }
   },
   "source": [
    "\n",
    "<center>\n",
    "<img src=\"imagenes/herencia1.png\" alt=\"Hereencia\" style=\"width:550px;\"/></center>\n",
    "\n",
    "Aunque en Python podemos hacer algo mejor ..."
   ]
  },
  {
   "cell_type": "markdown",
   "id": "expected-ballet",
   "metadata": {
    "slideshow": {
     "slide_type": "subslide"
    }
   },
   "source": [
    "# Python tiene herencia múltiple"
   ]
  },
  {
   "cell_type": "markdown",
   "id": "c9736fc6",
   "metadata": {
    "slideshow": {
     "slide_type": "fragment"
    }
   },
   "source": [
    "\n",
    "<center>\n",
    "<img src=\"imagenes/herencia_multiple.png\" alt=\"Hereencia\" style=\"width:450px;\"/></center>\n",
    "\n",
    "-  Un guitarrista y vocalista  **\"es un\"** guitarrista, pero tambén **es un** vocalista.."
   ]
  },
  {
   "cell_type": "markdown",
   "id": "c4538862",
   "metadata": {
    "slideshow": {
     "slide_type": "subslide"
    }
   },
   "source": [
    "# En Python ..."
   ]
  },
  {
   "cell_type": "code",
   "execution_count": null,
   "id": "36ba5a92",
   "metadata": {
    "slideshow": {
     "slide_type": "fragment"
    }
   },
   "outputs": [],
   "source": [
    "class Guitarrista(Musico):\n",
    "    def __init__(self, nombre, banda=None):\n",
    "        Musico.__init__(self, nombre, \"guitarrista\", banda)\n",
    "        self.instrumento = \"guitarra acústica\"\n",
    "    \n",
    "    def info(self):\n",
    "        print (f\"{self.nombre} toca {self.instrumento}\")"
   ]
  },
  {
   "cell_type": "code",
   "execution_count": null,
   "id": "4b770370",
   "metadata": {
    "slideshow": {
     "slide_type": "fragment"
    }
   },
   "outputs": [],
   "source": [
    "class Vocalista(Musico):\n",
    "    def __init__(self, nombre, banda=None):\n",
    "        Musico.__init__(self, nombre, \"vocalista\")\n",
    "        self.tipo_voz = \"Barítono\"\n",
    "        \n",
    "    def info(self):\n",
    "        if self.tiene_banda:\n",
    "            print (f\"{self.nombre} CANTA en la banda {self.banda}\")\n",
    "        else:\n",
    "            print(f\"{self.nombre} es solista \")"
   ]
  },
  {
   "cell_type": "code",
   "execution_count": null,
   "id": "4faa04cf",
   "metadata": {
    "slideshow": {
     "slide_type": "subslide"
    }
   },
   "outputs": [],
   "source": [
    "class VocalistaYGuitarrista(Guitarrista, Vocalista):\n",
    "    \n",
    "    def __init__(self, nombre, banda=None):\n",
    "        Vocalista.__init__(self, nombre, banda)\n",
    "        Guitarrista.__init__(self, nombre, banda)"
   ]
  },
  {
   "cell_type": "code",
   "execution_count": null,
   "id": "119b1257",
   "metadata": {
    "scrolled": true,
    "slideshow": {
     "slide_type": "fragment"
    }
   },
   "outputs": [],
   "source": [
    "bruce = VocalistaYGuitarrista('Bruce Springsteen')\n",
    "bruce.info()"
   ]
  },
  {
   "cell_type": "code",
   "execution_count": null,
   "id": "d8fb3425",
   "metadata": {
    "slideshow": {
     "slide_type": "fragment"
    }
   },
   "outputs": [],
   "source": [
    "mollo = VocalistaYGuitarrista(\"Ricardo Mollo\", \"Divididos\")\n",
    "mollo.info()"
   ]
  },
  {
   "cell_type": "markdown",
   "id": "307b354f",
   "metadata": {
    "slideshow": {
     "slide_type": "subslide"
    }
   },
   "source": [
    "# A tener en cuenta ...\n",
    "\n",
    "- MRO \"Method Resolution Order\"\n",
    "- Por lo tanto, es MUY importante el orden en que se especifican las clases bases.\n",
    "- Más información en [documentación oficial](https://docs.python.org/3/tutorial/classes.html)\n"
   ]
  },
  {
   "cell_type": "code",
   "execution_count": null,
   "id": "b2dd4252",
   "metadata": {
    "slideshow": {
     "slide_type": "fragment"
    }
   },
   "outputs": [],
   "source": [
    "VocalistaYGuitarrista.__mro__"
   ]
  },
  {
   "cell_type": "code",
   "execution_count": null,
   "id": "a910ec90",
   "metadata": {
    "slideshow": {
     "slide_type": "subslide"
    }
   },
   "outputs": [],
   "source": [
    "class VocalistaYGuitarrista(Vocalista, Guitarrista):\n",
    "    \n",
    "    def __init__(self, nombre, banda=None):\n",
    "        Vocalista.__init__(self, nombre, banda)\n",
    "        Guitarrista.__init__(self, nombre, banda)"
   ]
  },
  {
   "cell_type": "code",
   "execution_count": null,
   "id": "60fb1401",
   "metadata": {
    "scrolled": true,
    "slideshow": {
     "slide_type": "fragment"
    }
   },
   "outputs": [],
   "source": [
    "bruce = VocalistaYGuitarrista('Bruce Springsteen')\n",
    "bruce.info()"
   ]
  },
  {
   "cell_type": "code",
   "execution_count": null,
   "id": "11bb7fb0",
   "metadata": {
    "slideshow": {
     "slide_type": "fragment"
    }
   },
   "outputs": [],
   "source": [
    "mollo = VocalistaYGuitarrista(\"Ricardo Mollo\", \"Divididos\")\n",
    "mollo.info()"
   ]
  },
  {
   "cell_type": "code",
   "execution_count": null,
   "id": "253523c1",
   "metadata": {
    "slideshow": {
     "slide_type": "fragment"
    }
   },
   "outputs": [],
   "source": [
    "VocalistaYGuitarrista.__mro__"
   ]
  },
  {
   "cell_type": "markdown",
   "id": "supposed-spoke",
   "metadata": {
    "slideshow": {
     "slide_type": "slide"
    }
   },
   "source": [
    "# ¿Qué términos asociamos con la programación orientada a objetos?\n",
    "    "
   ]
  },
  {
   "cell_type": "markdown",
   "id": "incoming-closure",
   "metadata": {
    "slideshow": {
     "slide_type": "subslide"
    }
   },
   "source": [
    "# Destacados ...\n",
    "\n",
    "- Encapsulamiento\n",
    "    - **class**, métodos privados y públicos, propiedades.\n",
    "\n",
    "- Herencia\n",
    "\t* Clases bases y derivadas.\n",
    "\t* Herencia múltiple.\n",
    "\n",
    "- **¿Alguno más?**"
   ]
  },
  {
   "cell_type": "markdown",
   "id": "stainless-tattoo",
   "metadata": {
    "slideshow": {
     "slide_type": "slide"
    }
   },
   "source": [
    "# Polimorfismo\n",
    "\n",
    "- Capacidad de los objetos de distintas clases de responder a mensajes con el mismo nombre.\n",
    "- Ejemplo: + entre enteros y cadenas."
   ]
  },
  {
   "cell_type": "code",
   "execution_count": null,
   "id": "victorian-african",
   "metadata": {
    "slideshow": {
     "slide_type": "fragment"
    }
   },
   "outputs": [],
   "source": [
    "print(\"hola \" + \"que tal.\")\n",
    "print(3 + 4)"
   ]
  },
  {
   "cell_type": "markdown",
   "id": "earlier-stupid",
   "metadata": {
    "slideshow": {
     "slide_type": "subslide"
    }
   },
   "source": [
    "# ¿Podemos sumar dos músicos?\n"
   ]
  },
  {
   "cell_type": "code",
   "execution_count": null,
   "id": "f4f7c2f0",
   "metadata": {
    "slideshow": {
     "slide_type": "fragment"
    }
   },
   "outputs": [],
   "source": [
    "adele = Musico(\"Adele\")\n",
    "sting = Musico(\"Sting\", \"The Police\")\n",
    "\n",
    "print(adele + sting)"
   ]
  },
  {
   "cell_type": "markdown",
   "id": "3dd53507",
   "metadata": {
    "slideshow": {
     "slide_type": "subslide"
    }
   },
   "source": [
    "# Pero pdemos definir el método \\_\\_add\\_\\_ "
   ]
  },
  {
   "cell_type": "code",
   "execution_count": null,
   "id": "ef48b39e",
   "metadata": {
    "slideshow": {
     "slide_type": "fragment"
    }
   },
   "outputs": [],
   "source": [
    "class Musico:\n",
    "    def __init__(self, nombre, puesto=None, banda=None):\n",
    "        self.nombre = nombre\n",
    "        self.tiene_banda = banda!=None\n",
    "        self._banda = banda\n",
    "        self.puesto = puesto\n",
    "    \n",
    "    def info(self):\n",
    "        if self.tiene_banda:\n",
    "            print (f\"{self.nombre}  integra la banda {self.banda}\")\n",
    "        else:\n",
    "            print(f\"{self.nombre} es solista \")\n",
    "            \n",
    "    def __add__(self, otro):\n",
    "        return (f\"Ambos músicos son {self.nombre} y {otro.nombre}\")\n",
    "    \n",
    "    @property\n",
    "    def banda(self):\n",
    "        if self.tiene_banda:\n",
    "            return self._banda\n",
    "        else:\n",
    "            return \"No tiene banda\"\n",
    "    @banda.setter\n",
    "    def banda(self, banda):\n",
    "        self._banda = banda\n",
    "        self.tiene_banda = True\n"
   ]
  },
  {
   "cell_type": "code",
   "execution_count": null,
   "id": "39ef6653",
   "metadata": {
    "slideshow": {
     "slide_type": "subslide"
    }
   },
   "outputs": [],
   "source": [
    "adele = Musico(\"Adele\")\n",
    "sting = Musico(\"Sting\", \"The Police\")\n",
    "\n",
    "print(adele + sting)"
   ]
  },
  {
   "cell_type": "markdown",
   "id": "b596d6c5",
   "metadata": {
    "slideshow": {
     "slide_type": "subslide"
    }
   },
   "source": [
    "## ¿Polimorfismo en nuestros músicos?"
   ]
  },
  {
   "cell_type": "code",
   "execution_count": null,
   "id": "a52a034c",
   "metadata": {},
   "outputs": [],
   "source": [
    "bruce.info()\n",
    "brian.info()"
   ]
  },
  {
   "cell_type": "markdown",
   "id": "a7e86eb5",
   "metadata": {
    "slideshow": {
     "slide_type": "subslide"
    }
   },
   "source": [
    "# Probamos en casa\n",
    "\n",
    "¿Qué podemos decir de las variables de instancias cuyo nombre comienza con \\_\\_?"
   ]
  },
  {
   "cell_type": "code",
   "execution_count": null,
   "id": "58f4e640",
   "metadata": {
    "slideshow": {
     "slide_type": "fragment"
    }
   },
   "outputs": [],
   "source": [
    "class A:\n",
    "    def __init__(self, x, y, z):\n",
    "        self.varX = x\n",
    "        self._varY = y\n",
    "        self.__varZ = z\n",
    "\n",
    "    def demo(self):\n",
    "        return f\"ESTOY en A: x: {self.varX} -- y:{self._varY} --- z:{self.__varZ}\"\n",
    "\n",
    "class B(A):\n",
    "    def __init__(self):\n",
    "        A.__init__(self, \"x\", \"y\", \"z\")\n",
    "            \n",
    "    def demo(self):\n",
    "        return f\"ESTOY en B: x: {self.varX} -- y:{self._varY} --- z:{self.__varZ}\""
   ]
  },
  {
   "cell_type": "code",
   "execution_count": null,
   "id": "6c88efc3",
   "metadata": {},
   "outputs": [],
   "source": [
    "objB = B()\n",
    "print(objB.demo())"
   ]
  },
  {
   "cell_type": "markdown",
   "id": "entitled-clerk",
   "metadata": {
    "slideshow": {
     "slide_type": "slide"
    }
   },
   "source": [
    "# Herencia y propiedades\n",
    "\n",
    "- Observemos este código: ¿qué imprime?, ¿qué significa?"
   ]
  },
  {
   "cell_type": "code",
   "execution_count": null,
   "id": "suburban-aerospace",
   "metadata": {
    "slideshow": {
     "slide_type": "fragment"
    }
   },
   "outputs": [],
   "source": [
    "class A:\n",
    "    def __init__(self):\n",
    "        self._x = 0\n",
    "        \n",
    "    @property\n",
    "    def x(self):\n",
    "        return self._x\n",
    "    @x.setter\n",
    "    def x(self, value):\n",
    "        self._x = value\n",
    "\n",
    "class B(A):\n",
    "    def __init__(self):\n",
    "        A.__init__(self)"
   ]
  },
  {
   "cell_type": "code",
   "execution_count": null,
   "id": "2d9e68ba",
   "metadata": {},
   "outputs": [],
   "source": [
    "obj = B()\n",
    "#obj.x = 10\n",
    "print(obj.x)"
   ]
  },
  {
   "cell_type": "markdown",
   "id": "ddd2bf65",
   "metadata": {
    "slideshow": {
     "slide_type": "slide"
    }
   },
   "source": [
    "# Para los que quieran seguir un poco más ...\n",
    "\n",
    "- https://realpython.com/python-classes/\n",
    "- https://realpython.com/inheritance-composition-python/\n",
    "- https://realpython.com/instance-class-and-static-methods-demystified/"
   ]
  },
  {
   "cell_type": "markdown",
   "id": "charming-recycling",
   "metadata": {
    "slideshow": {
     "slide_type": "slide"
    }
   },
   "source": [
    "# Seguimos la próxima ..."
   ]
  }
 ],
 "metadata": {
  "celltoolbar": "Slideshow",
  "kernelspec": {
   "display_name": "Python 3 (ipykernel)",
   "language": "python",
   "name": "python3"
  },
  "language_info": {
   "codemirror_mode": {
    "name": "ipython",
    "version": 3
   },
   "file_extension": ".py",
   "mimetype": "text/x-python",
   "name": "python",
   "nbconvert_exporter": "python",
   "pygments_lexer": "ipython3",
   "version": "3.11.3"
  }
 },
 "nbformat": 4,
 "nbformat_minor": 5
}
