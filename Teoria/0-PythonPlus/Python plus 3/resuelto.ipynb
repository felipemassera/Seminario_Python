{
 "cells": [
  {
   "cell_type": "code",
   "execution_count": 6,
   "metadata": {},
   "outputs": [
    {
     "name": "stdout",
     "output_type": "stream",
     "text": [
      "<class 'pandas.core.series.Series'>\n",
      "RangeIndex: 126593 entries, 0 to 126592\n",
      "Series name: Nombre completo del usuario\n",
      "Non-Null Count   Dtype \n",
      "--------------   ----- \n",
      "126593 non-null  object\n",
      "dtypes: object(1)\n",
      "memory usage: 989.1+ KB\n",
      "\n",
      "\n",
      "<class 'pandas.core.frame.DataFrame'>\n",
      "Index: 4 entries, 0 to 87\n",
      "Data columns (total 2 columns):\n",
      " #   Column                       Non-Null Count  Dtype \n",
      "---  ------                       --------------  ----- \n",
      " 0   Nombre completo del usuario  4 non-null      object\n",
      " 1   count                        4 non-null      int64 \n",
      "dtypes: int64(1), object(1)\n",
      "memory usage: 96.0+ bytes\n",
      "\n",
      "\n",
      "Nombre completo del usuario  count\n",
      "                 Butterfree   5844\n",
      "                      Hypno   5121\n",
      "                   Slowpoke    795\n",
      "                    Rhyhorn    670\n"
     ]
    }
   ],
   "source": [
    "import pandas as pd\n",
    "\n",
    "\n",
    "def mi_funcion(archivo, *args):\n",
    "    \"\"\"Funcion que contabiliza la cantidad de opariciones por nombre\n",
    "    en el archivo csv.\n",
    "\n",
    "    Args:\n",
    "        archivo (_DataFrame_): Archivo csv\n",
    "\n",
    "    Returns:\n",
    "        _data Frame_: Devuelve un data frame con la cantidad de\n",
    "        apariciones de los nombres pasados por argumento.\n",
    "    \"\"\"\n",
    "    # Genero una Series con la columna nombre\n",
    "    nombres = archivo[\"Nombre completo del usuario\"]\n",
    "    nombres.info()\n",
    "    print(\"\\n\")\n",
    "\n",
    "    # Cuento la cantidad de apariciones de cada nombre, se crea la\n",
    "    # columna count que tiene la cantidad de apariciones por mombre.\n",
    "    # Casteo a DataFrame\n",
    "    nombres_count = pd.DataFrame(nombres.value_counts()).reset_index()\n",
    "    \n",
    "    # Filtro los nombres pasados por parametro\n",
    "    df_filtrado = nombres_count.loc[\n",
    "        (nombres_count[\"Nombre completo del usuario\"].isin(args))\n",
    "    ]\n",
    "    df_filtrado.info()\n",
    "    return df_filtrado\n",
    "\n",
    "\n",
    "try:\n",
    "    datos_log = pd.read_csv(\"log_completo.csv\", encoding=\"UTF-8\")\n",
    "except FileNotFoundError:\n",
    "    print(\"Archivo inexistente\")\n",
    "except PermissionError:\n",
    "    print(\"No cuenta con los permisos suficientes para ver este archivo\")\n",
    "else:\n",
    "    resultado = mi_funcion(datos_log, \"Hypno\", \"Butterfree\", \"Rhyhorn\", \"Slowpoke\")\n",
    "    print(\"\\n\")\n",
    "    print(resultado.to_string(index=False))"
   ]
  }
 ],
 "metadata": {
  "kernelspec": {
   "display_name": "Python 3",
   "language": "python",
   "name": "python3"
  },
  "language_info": {
   "codemirror_mode": {
    "name": "ipython",
    "version": 3
   },
   "file_extension": ".py",
   "mimetype": "text/x-python",
   "name": "python",
   "nbconvert_exporter": "python",
   "pygments_lexer": "ipython3",
   "version": "3.11.2"
  },
  "orig_nbformat": 4
 },
 "nbformat": 4,
 "nbformat_minor": 2
}
