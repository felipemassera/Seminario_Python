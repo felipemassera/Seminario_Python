{
 "cells": [
  {
   "cell_type": "code",
   "execution_count": 1,
   "metadata": {},
   "outputs": [
    {
     "ename": "SyntaxError",
     "evalue": "unmatched ')' (3877268442.py, line 30)",
     "output_type": "error",
     "traceback": [
      "\u001b[1;36m  Cell \u001b[1;32mIn[1], line 30\u001b[1;36m\u001b[0m\n\u001b[1;33m    resultado = filtro.loc['Nombre completo del usuario'].isin(args)) & (df['Origen'] == 'web')]\u001b[0m\n\u001b[1;37m                                                                    ^\u001b[0m\n\u001b[1;31mSyntaxError\u001b[0m\u001b[1;31m:\u001b[0m unmatched ')'\n"
     ]
    }
   ],
   "source": [
    "import pandas as pd\n",
    "\n",
    "\n",
    "def mi_funcion(archivo, *args):\n",
    "    try:\n",
    "        df = pd.read_csv(archivo)\n",
    "    except:\n",
    "        print('No esta el archivo')\n",
    "    else:\n",
    "        #nos muestra los datos del dataframe\n",
    "        df.info()\n",
    "        # Nos quedamos con aquellas columnas que nos importan\n",
    "        df_filtrado = pd.DataFrame(df[['Nombre completo del usuario','Origen', 'indice_raro']])\n",
    "        # Nos quedamos con aquellos usuarios pasados en args con origen de evento web\n",
    "        df_filtrado = df_filtrado.loc[(df['Nombre completo del usuario'].isin(args)) & (df['Origen'] == 'web')]\n",
    "        # Filtramos y nos quedamos con el minimo indice_raro de cada usuario\n",
    "        df_filtrado = df_filtrado.groupby('Nombre completo del usuario').agg({'indice_raro': 'min'}).reset_index()\n",
    "        return df_filtrado\n",
    "\n",
    "    \n",
    "mi_funcion('log_completo.csv', \"Hypno\", \"Butterfree\", \"Rhyhorn\", \"Slowpoke\")\n"
   ]
  }
 ],
 "metadata": {
  "kernelspec": {
   "display_name": "Python 3",
   "language": "python",
   "name": "python3"
  },
  "language_info": {
   "codemirror_mode": {
    "name": "ipython",
    "version": 3
   },
   "file_extension": ".py",
   "mimetype": "text/x-python",
   "name": "python",
   "nbconvert_exporter": "python",
   "pygments_lexer": "ipython3",
   "version": "3.11.2"
  },
  "orig_nbformat": 4
 },
 "nbformat": 4,
 "nbformat_minor": 2
}
